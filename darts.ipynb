{
 "cells": [
  {
   "cell_type": "code",
   "execution_count": 1,
   "metadata": {},
   "outputs": [],
   "source": [
    "%load_ext autoreload\n",
    "%autoreload 2"
   ]
  },
  {
   "cell_type": "code",
   "execution_count": 2,
   "metadata": {},
   "outputs": [],
   "source": [
    "import utils\n",
    "from darts import TimeSeries\n",
    "import numpy as np\n",
    "import pandas as pd\n",
    "from darts.models import NaiveSeasonal\n",
    "from darts.metrics import rmse, mape, r2_score\n",
    "import matplotlib.pyplot as plt"
   ]
  },
  {
   "cell_type": "code",
   "execution_count": 3,
   "metadata": {},
   "outputs": [],
   "source": [
    "df = utils.load_data()\n",
    "ts, covars_diff, covars_nodiff = utils.df2ts(df)"
   ]
  },
  {
   "cell_type": "code",
   "execution_count": 4,
   "metadata": {},
   "outputs": [],
   "source": [
    "covars_diff_pipeline, covars_diff_scaled = utils.scale_ts(covars_diff, should_diff=True)\n",
    "covars_nodiff_pipeline, covars_nodiff_scaled = utils.scale_ts(\n",
    "    covars_nodiff, should_diff=False\n",
    ")\n",
    "pipeline, ts_scaled = utils.scale_ts(ts, should_diff=True)\n",
    "\n",
    "train_ts_scaled, val_ts_scaled = ts_scaled.split_after(pd.Timestamp(\"2016-01-01\"))\n",
    "\n",
    "covariates_scaled = covars_diff_scaled.stack(covars_nodiff_scaled)\n",
    "train_covariates_scaled, val_covariates_scaled = covariates_scaled.split_after(\n",
    "    pd.Timestamp(\"2016-01-01\")\n",
    ")"
   ]
  },
  {
   "cell_type": "markdown",
   "metadata": {},
   "source": [
    "# Naive Model"
   ]
  },
  {
   "cell_type": "code",
   "execution_count": 37,
   "metadata": {},
   "outputs": [
    {
     "data": {
      "text/html": [
       "<div>\n",
       "<style scoped>\n",
       "    .dataframe tbody tr th:only-of-type {\n",
       "        vertical-align: middle;\n",
       "    }\n",
       "\n",
       "    .dataframe tbody tr th {\n",
       "        vertical-align: top;\n",
       "    }\n",
       "\n",
       "    .dataframe thead th {\n",
       "        text-align: right;\n",
       "    }\n",
       "</style>\n",
       "<table border=\"1\" class=\"dataframe\">\n",
       "  <thead>\n",
       "    <tr style=\"text-align: right;\">\n",
       "      <th></th>\n",
       "      <th>h</th>\n",
       "      <th>mape</th>\n",
       "      <th>rmse</th>\n",
       "      <th>r2</th>\n",
       "    </tr>\n",
       "  </thead>\n",
       "  <tbody>\n",
       "    <tr>\n",
       "      <th>0</th>\n",
       "      <td>1</td>\n",
       "      <td>7.703667</td>\n",
       "      <td>0.199121</td>\n",
       "      <td>0.949089</td>\n",
       "    </tr>\n",
       "    <tr>\n",
       "      <th>1</th>\n",
       "      <td>2</td>\n",
       "      <td>13.698501</td>\n",
       "      <td>0.330233</td>\n",
       "      <td>0.861459</td>\n",
       "    </tr>\n",
       "    <tr>\n",
       "      <th>2</th>\n",
       "      <td>3</td>\n",
       "      <td>18.232449</td>\n",
       "      <td>0.426595</td>\n",
       "      <td>0.770728</td>\n",
       "    </tr>\n",
       "    <tr>\n",
       "      <th>3</th>\n",
       "      <td>4</td>\n",
       "      <td>22.748020</td>\n",
       "      <td>0.505532</td>\n",
       "      <td>0.681101</td>\n",
       "    </tr>\n",
       "    <tr>\n",
       "      <th>4</th>\n",
       "      <td>5</td>\n",
       "      <td>26.932014</td>\n",
       "      <td>0.577666</td>\n",
       "      <td>0.587239</td>\n",
       "    </tr>\n",
       "    <tr>\n",
       "      <th>5</th>\n",
       "      <td>6</td>\n",
       "      <td>31.113430</td>\n",
       "      <td>0.655761</td>\n",
       "      <td>0.472777</td>\n",
       "    </tr>\n",
       "    <tr>\n",
       "      <th>6</th>\n",
       "      <td>7</td>\n",
       "      <td>34.924240</td>\n",
       "      <td>0.728407</td>\n",
       "      <td>0.353732</td>\n",
       "    </tr>\n",
       "    <tr>\n",
       "      <th>7</th>\n",
       "      <td>8</td>\n",
       "      <td>38.514225</td>\n",
       "      <td>0.795953</td>\n",
       "      <td>0.231262</td>\n",
       "    </tr>\n",
       "    <tr>\n",
       "      <th>8</th>\n",
       "      <td>9</td>\n",
       "      <td>42.382820</td>\n",
       "      <td>0.864049</td>\n",
       "      <td>0.098450</td>\n",
       "    </tr>\n",
       "    <tr>\n",
       "      <th>9</th>\n",
       "      <td>10</td>\n",
       "      <td>45.931522</td>\n",
       "      <td>0.930050</td>\n",
       "      <td>-0.038108</td>\n",
       "    </tr>\n",
       "    <tr>\n",
       "      <th>10</th>\n",
       "      <td>11</td>\n",
       "      <td>49.862797</td>\n",
       "      <td>0.991836</td>\n",
       "      <td>-0.170742</td>\n",
       "    </tr>\n",
       "    <tr>\n",
       "      <th>11</th>\n",
       "      <td>12</td>\n",
       "      <td>53.554321</td>\n",
       "      <td>1.050498</td>\n",
       "      <td>-0.297644</td>\n",
       "    </tr>\n",
       "  </tbody>\n",
       "</table>\n",
       "</div>"
      ],
      "text/plain": [
       "     h       mape      rmse        r2\n",
       "0    1   7.703667  0.199121  0.949089\n",
       "1    2  13.698501  0.330233  0.861459\n",
       "2    3  18.232449  0.426595  0.770728\n",
       "3    4  22.748020  0.505532  0.681101\n",
       "4    5  26.932014  0.577666  0.587239\n",
       "5    6  31.113430  0.655761  0.472777\n",
       "6    7  34.924240  0.728407  0.353732\n",
       "7    8  38.514225  0.795953  0.231262\n",
       "8    9  42.382820  0.864049  0.098450\n",
       "9   10  45.931522  0.930050 -0.038108\n",
       "10  11  49.862797  0.991836 -0.170742\n",
       "11  12  53.554321  1.050498 -0.297644"
      ]
     },
     "execution_count": 37,
     "metadata": {},
     "output_type": "execute_result"
    }
   ],
   "source": [
    "def eval_model_for_h(h, model, series, past_covariates=None, plot=False):\n",
    "\n",
    "    historical_fcast_theta = model.historical_forecasts(\n",
    "        last_points_only=True,\n",
    "        series=series,\n",
    "        start=pd.Timestamp(\"2016-01-01\"),\n",
    "        forecast_horizon=h,\n",
    "        verbose=False,\n",
    "        past_covariates=past_covariates,\n",
    "        enable_optimization=False,\n",
    "    )\n",
    "\n",
    "    if plot:\n",
    "        series.drop_before(pd.Timestamp(\"2016-01-01\")).plot(label=\"data\")\n",
    "        historical_fcast_theta.plot(label=\"backtest 1-day ahead forecast\")\n",
    "        plt.show()\n",
    "\n",
    "    mapee = mape(series, historical_fcast_theta)\n",
    "    rmsee = rmse(series, historical_fcast_theta)\n",
    "    r2 = r2_score(series, historical_fcast_theta)\n",
    "\n",
    "    return mapee, rmsee, r2\n",
    "\n",
    "model = NaiveSeasonal()\n",
    "model.fit(train_ts_scaled)\n",
    "\n",
    "results = []\n",
    "for h in range(1, 13):\n",
    "    mapee, rmsee, r2 = eval_model_for_h(h, model, ts)\n",
    "    results.append([h, mapee, rmsee, r2])\n",
    "\n",
    "results = pd.DataFrame(results, columns=[\"h\", \"mape\", \"rmse\", \"r2\"])\n",
    "results"
   ]
  },
  {
   "cell_type": "markdown",
   "metadata": {},
   "source": [
    "# AR Model"
   ]
  },
  {
   "cell_type": "code",
   "execution_count": 38,
   "metadata": {},
   "outputs": [
    {
     "data": {
      "text/plain": [
       "'Best lag: 2, MAPE: 7.156896114349365'"
      ]
     },
     "execution_count": 38,
     "metadata": {},
     "output_type": "execute_result"
    }
   ],
   "source": [
    "from darts.models import LinearRegressionModel\n",
    "\n",
    "best_lag = 1\n",
    "best_mape = np.inf\n",
    "\n",
    "for lag in range(1, 18):\n",
    "    model = LinearRegressionModel(lags=lag)\n",
    "    model.fit(train_ts_scaled)\n",
    "    mapee, rmsee, r2 = eval_model_for_h(1, model, ts)\n",
    "    if mapee < best_mape:\n",
    "        best_mape = mapee\n",
    "        best_lag = lag\n",
    "\n",
    "f\"Best lag: {best_lag}, MAPE: {best_mape}\""
   ]
  },
  {
   "cell_type": "code",
   "execution_count": 91,
   "metadata": {},
   "outputs": [],
   "source": [
    "covars = covariates_scaled[\"NEWS_SENTIMENT\"]\n",
    "covars = utils.moving_average(covars, window_size=12)\n",
    "\n",
    "model = LinearRegressionModel(lags=2, lags_past_covariates=[-2])\n",
    "model.fit(train_ts_scaled, past_covariates=covars)\n",
    "mapee, rmsee, r2 = eval_model_for_h(1, model, ts, past_covariates=covars)"
   ]
  },
  {
   "cell_type": "code",
   "execution_count": 92,
   "metadata": {},
   "outputs": [
    {
     "data": {
      "text/plain": [
       "['US_TB_YIELD_10YRS_target_lag-2',\n",
       " 'US_TB_YIELD_10YRS_target_lag-1',\n",
       " 'rolling_mean_12_NEWS_SENTIMENT_pastcov_lag-2']"
      ]
     },
     "execution_count": 92,
     "metadata": {},
     "output_type": "execute_result"
    }
   ],
   "source": [
    "model.lagged_feature_names"
   ]
  },
  {
   "cell_type": "code",
   "execution_count": 93,
   "metadata": {},
   "outputs": [
    {
     "data": {
      "text/plain": [
       "array([-0.21286783,  0.36398206, -0.00249568])"
      ]
     },
     "execution_count": 93,
     "metadata": {},
     "output_type": "execute_result"
    }
   ],
   "source": [
    "model.model.coef_"
   ]
  },
  {
   "cell_type": "code",
   "execution_count": 94,
   "metadata": {},
   "outputs": [
    {
     "data": {
      "text/plain": [
       "7.08707136756167"
      ]
     },
     "execution_count": 94,
     "metadata": {},
     "output_type": "execute_result"
    }
   ],
   "source": [
    "mapee"
   ]
  },
  {
   "cell_type": "markdown",
   "metadata": {},
   "source": [
    "# Pytorch-based models\n",
    "\n",
    "## RNN"
   ]
  },
  {
   "cell_type": "code",
   "execution_count": 7,
   "metadata": {},
   "outputs": [],
   "source": [
    "from darts.dataprocessing import Pipeline\n",
    "from darts.dataprocessing.transformers import (\n",
    "    Scaler,\n",
    "    MissingValuesFiller,\n",
    "    Mapper,\n",
    "    InvertibleMapper,\n",
    "    Diff,\n",
    ")\n",
    "from sklearn.preprocessing import StandardScaler\n",
    "\n",
    "log_transformer = InvertibleMapper(fn=np.log1p, inverse_fn=np.expm1, name=\"log1p\")\n",
    "scaler = Scaler(StandardScaler())\n",
    "filler = MissingValuesFiller()\n",
    "differentiator = Diff(dropna=True)\n",
    "pipeline = Pipeline([filler, log_transformer, scaler, differentiator])\n",
    "covariates_pipeline = Pipeline([filler, log_transformer, scaler, differentiator])\n",
    "\n",
    "\n",
    "covariates_scaled = covariates_pipeline.fit_transform(covariates)\n",
    "ts_scaled = pipeline.fit_transform(ts)\n",
    "train_ts_scaled, val_ts_scaled = ts_scaled.split_after(pd.Timestamp(\"2016-01-01\"))\n",
    "train_covariates_scaled, val_covariates_scaled = covariates_scaled.split_after(\n",
    "    pd.Timestamp(\"2016-01-01\")\n",
    ")"
   ]
  },
  {
   "cell_type": "code",
   "execution_count": 14,
   "metadata": {},
   "outputs": [
    {
     "name": "stderr",
     "output_type": "stream",
     "text": [
      "GPU available: True (mps), used: True\n",
      "TPU available: False, using: 0 TPU cores\n",
      "HPU available: False, using: 0 HPUs\n",
      "\n",
      "  | Name            | Type             | Params | Mode \n",
      "-------------------------------------------------------------\n",
      "0 | criterion       | MSELoss          | 0      | train\n",
      "1 | train_criterion | MSELoss          | 0      | train\n",
      "2 | val_criterion   | MSELoss          | 0      | train\n",
      "3 | train_metrics   | MetricCollection | 0      | train\n",
      "4 | val_metrics     | MetricCollection | 0      | train\n",
      "5 | rin             | RINorm           | 2      | train\n",
      "6 | rnn             | GRU              | 8.9 K  | train\n",
      "7 | fc              | Sequential       | 31     | train\n",
      "-------------------------------------------------------------\n",
      "8.9 K     Trainable params\n",
      "0         Non-trainable params\n",
      "8.9 K     Total params\n",
      "0.036     Total estimated model params size (MB)\n",
      "9         Modules in train mode\n",
      "0         Modules in eval mode\n"
     ]
    },
    {
     "data": {
      "application/vnd.jupyter.widget-view+json": {
       "model_id": "3baf7dba103a44c2b7b80252c1bca734",
       "version_major": 2,
       "version_minor": 0
      },
      "text/plain": [
       "Sanity Checking: |          | 0/? [00:00<?, ?it/s]"
      ]
     },
     "metadata": {},
     "output_type": "display_data"
    },
    {
     "name": "stderr",
     "output_type": "stream",
     "text": [
      "/Users/Xavier/cdpq-ia/venv/lib/python3.11/site-packages/pytorch_lightning/trainer/connectors/data_connector.py:424: The 'val_dataloader' does not have many workers which may be a bottleneck. Consider increasing the value of the `num_workers` argument` to `num_workers=9` in the `DataLoader` to improve performance.\n",
      "/Users/Xavier/cdpq-ia/venv/lib/python3.11/site-packages/pytorch_lightning/trainer/connectors/data_connector.py:424: The 'train_dataloader' does not have many workers which may be a bottleneck. Consider increasing the value of the `num_workers` argument` to `num_workers=9` in the `DataLoader` to improve performance.\n",
      "/Users/Xavier/cdpq-ia/venv/lib/python3.11/site-packages/pytorch_lightning/loops/fit_loop.py:298: The number of training batches (40) is smaller than the logging interval Trainer(log_every_n_steps=50). Set a lower value for log_every_n_steps if you want to see logs for the training epoch.\n"
     ]
    },
    {
     "data": {
      "application/vnd.jupyter.widget-view+json": {
       "model_id": "b02d152c05ff46fe8fccb352a9676688",
       "version_major": 2,
       "version_minor": 0
      },
      "text/plain": [
       "Training: |          | 0/? [00:00<?, ?it/s]"
      ]
     },
     "metadata": {},
     "output_type": "display_data"
    },
    {
     "data": {
      "application/vnd.jupyter.widget-view+json": {
       "model_id": "f7cdd59941d24c9dbcc0e896f6846736",
       "version_major": 2,
       "version_minor": 0
      },
      "text/plain": [
       "Validation: |          | 0/? [00:00<?, ?it/s]"
      ]
     },
     "metadata": {},
     "output_type": "display_data"
    },
    {
     "data": {
      "application/vnd.jupyter.widget-view+json": {
       "model_id": "6587759c775445108d369ae52800a22d",
       "version_major": 2,
       "version_minor": 0
      },
      "text/plain": [
       "Validation: |          | 0/? [00:00<?, ?it/s]"
      ]
     },
     "metadata": {},
     "output_type": "display_data"
    },
    {
     "data": {
      "application/vnd.jupyter.widget-view+json": {
       "model_id": "c7df6c1ab97d4335aa1c7e0a395599d3",
       "version_major": 2,
       "version_minor": 0
      },
      "text/plain": [
       "Validation: |          | 0/? [00:00<?, ?it/s]"
      ]
     },
     "metadata": {},
     "output_type": "display_data"
    },
    {
     "data": {
      "application/vnd.jupyter.widget-view+json": {
       "model_id": "d811a179e49f41659d7b7f15957aea49",
       "version_major": 2,
       "version_minor": 0
      },
      "text/plain": [
       "Validation: |          | 0/? [00:00<?, ?it/s]"
      ]
     },
     "metadata": {},
     "output_type": "display_data"
    },
    {
     "data": {
      "application/vnd.jupyter.widget-view+json": {
       "model_id": "0af73494028943bea20f310e1f83b4e3",
       "version_major": 2,
       "version_minor": 0
      },
      "text/plain": [
       "Validation: |          | 0/? [00:00<?, ?it/s]"
      ]
     },
     "metadata": {},
     "output_type": "display_data"
    },
    {
     "data": {
      "application/vnd.jupyter.widget-view+json": {
       "model_id": "a3cf2aaae13f48b09143d1215ff77cda",
       "version_major": 2,
       "version_minor": 0
      },
      "text/plain": [
       "Validation: |          | 0/? [00:00<?, ?it/s]"
      ]
     },
     "metadata": {},
     "output_type": "display_data"
    },
    {
     "data": {
      "application/vnd.jupyter.widget-view+json": {
       "model_id": "106468930f4545099b09e4d2d46915a8",
       "version_major": 2,
       "version_minor": 0
      },
      "text/plain": [
       "Validation: |          | 0/? [00:00<?, ?it/s]"
      ]
     },
     "metadata": {},
     "output_type": "display_data"
    },
    {
     "data": {
      "application/vnd.jupyter.widget-view+json": {
       "model_id": "08d325924feb475c8c132d894fe5f037",
       "version_major": 2,
       "version_minor": 0
      },
      "text/plain": [
       "Validation: |          | 0/? [00:00<?, ?it/s]"
      ]
     },
     "metadata": {},
     "output_type": "display_data"
    },
    {
     "data": {
      "application/vnd.jupyter.widget-view+json": {
       "model_id": "02b8bb8a4c8e41019a7f7e2f429e8265",
       "version_major": 2,
       "version_minor": 0
      },
      "text/plain": [
       "Validation: |          | 0/? [00:00<?, ?it/s]"
      ]
     },
     "metadata": {},
     "output_type": "display_data"
    },
    {
     "data": {
      "application/vnd.jupyter.widget-view+json": {
       "model_id": "23cef17cca26474c8c926e4c93866623",
       "version_major": 2,
       "version_minor": 0
      },
      "text/plain": [
       "Validation: |          | 0/? [00:00<?, ?it/s]"
      ]
     },
     "metadata": {},
     "output_type": "display_data"
    },
    {
     "data": {
      "application/vnd.jupyter.widget-view+json": {
       "model_id": "153564a5721f411b82a294c771f4757f",
       "version_major": 2,
       "version_minor": 0
      },
      "text/plain": [
       "Validation: |          | 0/? [00:00<?, ?it/s]"
      ]
     },
     "metadata": {},
     "output_type": "display_data"
    },
    {
     "data": {
      "application/vnd.jupyter.widget-view+json": {
       "model_id": "e90139365cbf4d7c9a425649ad37549f",
       "version_major": 2,
       "version_minor": 0
      },
      "text/plain": [
       "Validation: |          | 0/? [00:00<?, ?it/s]"
      ]
     },
     "metadata": {},
     "output_type": "display_data"
    },
    {
     "data": {
      "application/vnd.jupyter.widget-view+json": {
       "model_id": "ce00e819c6414d29856f6cb352fb10ec",
       "version_major": 2,
       "version_minor": 0
      },
      "text/plain": [
       "Validation: |          | 0/? [00:00<?, ?it/s]"
      ]
     },
     "metadata": {},
     "output_type": "display_data"
    },
    {
     "data": {
      "application/vnd.jupyter.widget-view+json": {
       "model_id": "7f91faeee4474be68bf900f0671738e2",
       "version_major": 2,
       "version_minor": 0
      },
      "text/plain": [
       "Validation: |          | 0/? [00:00<?, ?it/s]"
      ]
     },
     "metadata": {},
     "output_type": "display_data"
    },
    {
     "data": {
      "application/vnd.jupyter.widget-view+json": {
       "model_id": "b9293da6d39d4484a802391b0ee3dad5",
       "version_major": 2,
       "version_minor": 0
      },
      "text/plain": [
       "Validation: |          | 0/? [00:00<?, ?it/s]"
      ]
     },
     "metadata": {},
     "output_type": "display_data"
    },
    {
     "data": {
      "application/vnd.jupyter.widget-view+json": {
       "model_id": "5d6f242eda9b4b608a19ac6cea182408",
       "version_major": 2,
       "version_minor": 0
      },
      "text/plain": [
       "Validation: |          | 0/? [00:00<?, ?it/s]"
      ]
     },
     "metadata": {},
     "output_type": "display_data"
    },
    {
     "data": {
      "application/vnd.jupyter.widget-view+json": {
       "model_id": "2b7912f2adf041c4a470561ff36325c7",
       "version_major": 2,
       "version_minor": 0
      },
      "text/plain": [
       "Validation: |          | 0/? [00:00<?, ?it/s]"
      ]
     },
     "metadata": {},
     "output_type": "display_data"
    },
    {
     "data": {
      "application/vnd.jupyter.widget-view+json": {
       "model_id": "08843fd2b0554e56aabb515bd8baa846",
       "version_major": 2,
       "version_minor": 0
      },
      "text/plain": [
       "Validation: |          | 0/? [00:00<?, ?it/s]"
      ]
     },
     "metadata": {},
     "output_type": "display_data"
    },
    {
     "data": {
      "application/vnd.jupyter.widget-view+json": {
       "model_id": "2b7cab97646e4ec1a110ffee7a460e19",
       "version_major": 2,
       "version_minor": 0
      },
      "text/plain": [
       "Validation: |          | 0/? [00:00<?, ?it/s]"
      ]
     },
     "metadata": {},
     "output_type": "display_data"
    },
    {
     "data": {
      "application/vnd.jupyter.widget-view+json": {
       "model_id": "485671f486584570818df7ce75d7ab48",
       "version_major": 2,
       "version_minor": 0
      },
      "text/plain": [
       "Validation: |          | 0/? [00:00<?, ?it/s]"
      ]
     },
     "metadata": {},
     "output_type": "display_data"
    },
    {
     "data": {
      "application/vnd.jupyter.widget-view+json": {
       "model_id": "17b7dfcbb0354e2194a87f00906c5a58",
       "version_major": 2,
       "version_minor": 0
      },
      "text/plain": [
       "Validation: |          | 0/? [00:00<?, ?it/s]"
      ]
     },
     "metadata": {},
     "output_type": "display_data"
    },
    {
     "data": {
      "application/vnd.jupyter.widget-view+json": {
       "model_id": "dbffb447b8874100a2aaccbb5cb212a0",
       "version_major": 2,
       "version_minor": 0
      },
      "text/plain": [
       "Validation: |          | 0/? [00:00<?, ?it/s]"
      ]
     },
     "metadata": {},
     "output_type": "display_data"
    },
    {
     "data": {
      "application/vnd.jupyter.widget-view+json": {
       "model_id": "4a36126c940e46ed977593599364d74f",
       "version_major": 2,
       "version_minor": 0
      },
      "text/plain": [
       "Validation: |          | 0/? [00:00<?, ?it/s]"
      ]
     },
     "metadata": {},
     "output_type": "display_data"
    },
    {
     "data": {
      "application/vnd.jupyter.widget-view+json": {
       "model_id": "9ec49723e165454aa2e1363da09566b4",
       "version_major": 2,
       "version_minor": 0
      },
      "text/plain": [
       "Validation: |          | 0/? [00:00<?, ?it/s]"
      ]
     },
     "metadata": {},
     "output_type": "display_data"
    },
    {
     "data": {
      "application/vnd.jupyter.widget-view+json": {
       "model_id": "1439a8daca924506a43a915f12c2615d",
       "version_major": 2,
       "version_minor": 0
      },
      "text/plain": [
       "Validation: |          | 0/? [00:00<?, ?it/s]"
      ]
     },
     "metadata": {},
     "output_type": "display_data"
    },
    {
     "data": {
      "application/vnd.jupyter.widget-view+json": {
       "model_id": "a6ec93a28f3c4d3189cdbf590a46d0e8",
       "version_major": 2,
       "version_minor": 0
      },
      "text/plain": [
       "Validation: |          | 0/? [00:00<?, ?it/s]"
      ]
     },
     "metadata": {},
     "output_type": "display_data"
    },
    {
     "data": {
      "application/vnd.jupyter.widget-view+json": {
       "model_id": "27f82472a4e54e88a6239d2b4538f085",
       "version_major": 2,
       "version_minor": 0
      },
      "text/plain": [
       "Validation: |          | 0/? [00:00<?, ?it/s]"
      ]
     },
     "metadata": {},
     "output_type": "display_data"
    },
    {
     "data": {
      "application/vnd.jupyter.widget-view+json": {
       "model_id": "75aa72a642754631b4ed780b2bf4e798",
       "version_major": 2,
       "version_minor": 0
      },
      "text/plain": [
       "Validation: |          | 0/? [00:00<?, ?it/s]"
      ]
     },
     "metadata": {},
     "output_type": "display_data"
    },
    {
     "data": {
      "application/vnd.jupyter.widget-view+json": {
       "model_id": "ad9e882cde534a3d97959bad18ba86f1",
       "version_major": 2,
       "version_minor": 0
      },
      "text/plain": [
       "Validation: |          | 0/? [00:00<?, ?it/s]"
      ]
     },
     "metadata": {},
     "output_type": "display_data"
    },
    {
     "data": {
      "application/vnd.jupyter.widget-view+json": {
       "model_id": "861c5116b8144fc08ccb7019f4f1a024",
       "version_major": 2,
       "version_minor": 0
      },
      "text/plain": [
       "Validation: |          | 0/? [00:00<?, ?it/s]"
      ]
     },
     "metadata": {},
     "output_type": "display_data"
    },
    {
     "data": {
      "application/vnd.jupyter.widget-view+json": {
       "model_id": "070589540d4d4394869f475a4cbb3234",
       "version_major": 2,
       "version_minor": 0
      },
      "text/plain": [
       "Validation: |          | 0/? [00:00<?, ?it/s]"
      ]
     },
     "metadata": {},
     "output_type": "display_data"
    },
    {
     "data": {
      "text/plain": [
       "BlockRNNModel(output_chunk_shift=0, model=GRU, hidden_dim=30, n_rnn_layers=2, hidden_fc_sizes=None, dropout=0.2, activation=TanH, random_state=0, model_name=block_rnn, log_tensorboard=True, save_checkpoints=True, force_reset=True, show_warnings=True, pl_trainer_kwargs={'callbacks': [<pytorch_lightning.callbacks.early_stopping.EarlyStopping object at 0x35cef7350>]}, input_chunk_length=12, output_chunk_length=1, n_epochs=100, optimizer_kwargs={'lr': 0.001}, batch_size=16, lr_scheduler_cls=<class 'torch.optim.lr_scheduler.CosineAnnealingLR'>, lr_scheduler_kwargs={'T_max': 20, 'eta_min': 0.0001}, use_reversible_instance_norm=True)"
      ]
     },
     "execution_count": 14,
     "metadata": {},
     "output_type": "execute_result"
    }
   ],
   "source": [
    "from darts.models import BlockRNNModel\n",
    "from darts.utils.likelihood_models import GaussianLikelihood\n",
    "from torch.optim.lr_scheduler import CosineAnnealingLR\n",
    "from pytorch_lightning.callbacks.early_stopping import EarlyStopping\n",
    "\n",
    "\n",
    "early_stopper = EarlyStopping(\n",
    "    monitor=\"val_loss\", patience=5, min_delta=1e-6, mode=\"min\"\n",
    ")\n",
    "\n",
    "model = BlockRNNModel(\n",
    "    random_state=0,\n",
    "    model_name=\"block_rnn\",\n",
    "    log_tensorboard=True,\n",
    "    save_checkpoints=True,\n",
    "    force_reset=True,\n",
    "    show_warnings=True,\n",
    "    pl_trainer_kwargs={\"callbacks\": [early_stopper]},\n",
    "    model=\"GRU\",  # The type of RNN to use. One of: “LSTM”, “GRU” or “RNN”\n",
    "    input_chunk_length=12,  # Number of time steps in the past to take as a model input (per chunk).\n",
    "    output_chunk_length=1,  # Number of time steps predicted at once (per chunk) by the internal model\n",
    "    n_epochs=100,\n",
    "    optimizer_kwargs={\"lr\": 1e-3},\n",
    "    dropout=0.2,  # Fraction of neurons afected by Dropout.\n",
    "    hidden_dim=30,  # Size for feature maps for each hidden RNN layer ()\n",
    "    activation=\"TanH\",  # The name of a torch.nn activation function to be applied between the layers of the fully connected network. Default: “ReLU”.\n",
    "    batch_size=16,\n",
    "    n_rnn_layers=2,  # Number of layers in the RNN module.\n",
    "    lr_scheduler_cls=CosineAnnealingLR,\n",
    "    lr_scheduler_kwargs={\n",
    "        \"T_max\": 20,\n",
    "        \"eta_min\": 1e-4,\n",
    "    },  # The maximum number of epochs in the cosine annealing scheduler\n",
    "    use_reversible_instance_norm=True,\n",
    "    # likelihood=GaussianLikelihood(), # https://unit8co.github.io/darts/generated_api/darts.utils.likelihood_models.html#darts.utils.likelihood_models.Likelihood\n",
    "    # hidden_fc_sizes=[20, 20], # Size of the fully connected layers between the RNN and the output layer\n",
    ")\n",
    "\n",
    "\n",
    "model.fit(\n",
    "    train_ts_scaled,\n",
    "    val_series=val_ts_scaled,\n",
    "    verbose=True,\n",
    "    past_covariates=train_covariates_scaled,\n",
    "    val_past_covariates=val_covariates_scaled,\n",
    ")\n",
    "\n",
    "\n",
    "# model = BlockRNNModel.load_from_checkpoint(\"block_rnn\")"
   ]
  },
  {
   "cell_type": "code",
   "execution_count": 15,
   "metadata": {},
   "outputs": [
    {
     "name": "stderr",
     "output_type": "stream",
     "text": [
      "GPU available: True (mps), used: True\n",
      "TPU available: False, using: 0 TPU cores\n",
      "HPU available: False, using: 0 HPUs\n",
      "/Users/Xavier/cdpq-ia/venv/lib/python3.11/site-packages/pytorch_lightning/trainer/connectors/data_connector.py:424: The 'predict_dataloader' does not have many workers which may be a bottleneck. Consider increasing the value of the `num_workers` argument` to `num_workers=9` in the `DataLoader` to improve performance.\n"
     ]
    },
    {
     "data": {
      "application/vnd.jupyter.widget-view+json": {
       "model_id": "e6638532d8fe4a3dbdce57ee2742c02d",
       "version_major": 2,
       "version_minor": 0
      },
      "text/plain": [
       "Predicting: |          | 0/? [00:00<?, ?it/s]"
      ]
     },
     "metadata": {},
     "output_type": "display_data"
    }
   ],
   "source": [
    "hfc_params = {\n",
    "    \"series\": ts_scaled,\n",
    "    \"past_covariates\": covariates_scaled,\n",
    "    \"start\": pd.Timestamp(\n",
    "        \"2016-01-01\"\n",
    "    ),  # can also be a float for the fraction of the series to start at\n",
    "    \"forecast_horizon\": 1,\n",
    "    \"verbose\": True,\n",
    "    \"retrain\": False,\n",
    "}\n",
    "\n",
    "historical_fcast_block_rnn = model.historical_forecasts(\n",
    "    last_points_only=True, **hfc_params\n",
    ")"
   ]
  },
  {
   "cell_type": "code",
   "execution_count": 16,
   "metadata": {},
   "outputs": [
    {
     "name": "stdout",
     "output_type": "stream",
     "text": [
      "rmse = 0.58\n",
      "mape = 28.34%\n",
      "r2 = 0.71\n"
     ]
    },
    {
     "data": {
      "image/png": "[encoded data removed]",
      "text/plain": [
       "<Figure size 640x480 with 1 Axes>"
      ]
     },
     "metadata": {},
     "output_type": "display_data"
    }
   ],
   "source": [
    "historical_fcast_block_rnn = train_ts_scaled.append(historical_fcast_block_rnn)\n",
    "historical_fcast_block_rnn = pipeline.inverse_transform(\n",
    "    historical_fcast_block_rnn, partial=True\n",
    ")\n",
    "historical_fcast_block_rnn = historical_fcast_block_rnn.drop_before(\n",
    "    pd.Timestamp(\"2016-01-01\")\n",
    ")\n",
    "\n",
    "ts.plot(label=\"observed\")\n",
    "historical_fcast_block_rnn.plot(label=\"backtest 1-day ahead forecast (BlockRNN)\")\n",
    "\n",
    "print(f\"rmse = {rmse(ts, historical_fcast_block_rnn):.2f}\")\n",
    "print(f\"mape = {mape(ts, historical_fcast_block_rnn):.2f}%\")\n",
    "print(f\"r2 = {r2_score(ts, historical_fcast_block_rnn):.2f}\")"
   ]
  }
 ],
 "metadata": {
  "kernelspec": {
   "display_name": "venv",
   "language": "python",
   "name": "python3"
  },
  "language_info": {
   "codemirror_mode": {
    "name": "ipython",
    "version": 3
   },
   "file_extension": ".py",
   "mimetype": "text/x-python",
   "name": "python",
   "nbconvert_exporter": "python",
   "pygments_lexer": "ipython3",
   "version": "3.11.4"
  }
 },
 "nbformat": 4,
 "nbformat_minor": 4
}
