{
 "cells": [
  {
   "cell_type": "code",
   "execution_count": 1,
   "metadata": {},
   "outputs": [],
   "source": [
    "import utils\n",
    "from darts import TimeSeries\n",
    "import numpy as np\n",
    "import pandas as pd\n",
    "from darts.metrics import rmse\n",
    "from darts.models import NaiveSeasonal\n",
    "from darts.metrics import rmse, mape, r2_score\n"
   ]
  },
  {
   "cell_type": "code",
   "execution_count": 2,
   "metadata": {},
   "outputs": [
    {
     "data": {
      "text/html": [
       "<div>\n",
       "<style scoped>\n",
       "    .dataframe tbody tr th:only-of-type {\n",
       "        vertical-align: middle;\n",
       "    }\n",
       "\n",
       "    .dataframe tbody tr th {\n",
       "        vertical-align: top;\n",
       "    }\n",
       "\n",
       "    .dataframe thead th {\n",
       "        text-align: right;\n",
       "    }\n",
       "</style>\n",
       "<table border=\"1\" class=\"dataframe\">\n",
       "  <thead>\n",
       "    <tr style=\"text-align: right;\">\n",
       "      <th></th>\n",
       "      <th>FFED</th>\n",
       "      <th>US_PERSONAL_SPENDING_PCE</th>\n",
       "      <th>US_CPI</th>\n",
       "      <th>US_TB_YIELD_10YRS</th>\n",
       "      <th>US_UNEMPLOYMENT_RATE</th>\n",
       "    </tr>\n",
       "    <tr>\n",
       "      <th>DATE</th>\n",
       "      <th></th>\n",
       "      <th></th>\n",
       "      <th></th>\n",
       "      <th></th>\n",
       "      <th></th>\n",
       "    </tr>\n",
       "  </thead>\n",
       "  <tbody>\n",
       "    <tr>\n",
       "      <th>1962-01-31</th>\n",
       "      <td>2.022727</td>\n",
       "      <td>353.200012</td>\n",
       "      <td>NaN</td>\n",
       "      <td>4.083182</td>\n",
       "      <td>5.800000</td>\n",
       "    </tr>\n",
       "    <tr>\n",
       "      <th>1962-02-28</th>\n",
       "      <td>2.388889</td>\n",
       "      <td>353.200012</td>\n",
       "      <td>30.040001</td>\n",
       "      <td>4.039444</td>\n",
       "      <td>5.800000</td>\n",
       "    </tr>\n",
       "    <tr>\n",
       "      <th>1962-03-31</th>\n",
       "      <td>2.852273</td>\n",
       "      <td>354.045441</td>\n",
       "      <td>30.062273</td>\n",
       "      <td>3.930454</td>\n",
       "      <td>5.545455</td>\n",
       "    </tr>\n",
       "    <tr>\n",
       "      <th>1962-04-30</th>\n",
       "      <td>2.800000</td>\n",
       "      <td>357.399994</td>\n",
       "      <td>30.139999</td>\n",
       "      <td>3.843000</td>\n",
       "      <td>5.600000</td>\n",
       "    </tr>\n",
       "    <tr>\n",
       "      <th>1962-05-31</th>\n",
       "      <td>2.431818</td>\n",
       "      <td>359.063629</td>\n",
       "      <td>30.186363</td>\n",
       "      <td>3.873636</td>\n",
       "      <td>5.595455</td>\n",
       "    </tr>\n",
       "    <tr>\n",
       "      <th>1962-06-30</th>\n",
       "      <td>2.702381</td>\n",
       "      <td>362.000000</td>\n",
       "      <td>30.224285</td>\n",
       "      <td>3.909048</td>\n",
       "      <td>5.500000</td>\n",
       "    </tr>\n",
       "    <tr>\n",
       "      <th>1962-07-31</th>\n",
       "      <td>2.690476</td>\n",
       "      <td>360.399994</td>\n",
       "      <td>30.225714</td>\n",
       "      <td>4.014286</td>\n",
       "      <td>5.500000</td>\n",
       "    </tr>\n",
       "    <tr>\n",
       "      <th>1962-08-31</th>\n",
       "      <td>2.945652</td>\n",
       "      <td>361.530426</td>\n",
       "      <td>30.214783</td>\n",
       "      <td>3.975652</td>\n",
       "      <td>5.426087</td>\n",
       "    </tr>\n",
       "    <tr>\n",
       "      <th>1962-09-30</th>\n",
       "      <td>2.894737</td>\n",
       "      <td>362.899994</td>\n",
       "      <td>30.248421</td>\n",
       "      <td>3.978947</td>\n",
       "      <td>5.700000</td>\n",
       "    </tr>\n",
       "    <tr>\n",
       "      <th>1962-10-31</th>\n",
       "      <td>2.910000</td>\n",
       "      <td>368.427277</td>\n",
       "      <td>30.337273</td>\n",
       "      <td>3.925455</td>\n",
       "      <td>5.595455</td>\n",
       "    </tr>\n",
       "  </tbody>\n",
       "</table>\n",
       "</div>"
      ],
      "text/plain": [
       "                FFED  US_PERSONAL_SPENDING_PCE     US_CPI  US_TB_YIELD_10YRS  \\\n",
       "DATE                                                                           \n",
       "1962-01-31  2.022727                353.200012        NaN           4.083182   \n",
       "1962-02-28  2.388889                353.200012  30.040001           4.039444   \n",
       "1962-03-31  2.852273                354.045441  30.062273           3.930454   \n",
       "1962-04-30  2.800000                357.399994  30.139999           3.843000   \n",
       "1962-05-31  2.431818                359.063629  30.186363           3.873636   \n",
       "1962-06-30  2.702381                362.000000  30.224285           3.909048   \n",
       "1962-07-31  2.690476                360.399994  30.225714           4.014286   \n",
       "1962-08-31  2.945652                361.530426  30.214783           3.975652   \n",
       "1962-09-30  2.894737                362.899994  30.248421           3.978947   \n",
       "1962-10-31  2.910000                368.427277  30.337273           3.925455   \n",
       "\n",
       "            US_UNEMPLOYMENT_RATE  \n",
       "DATE                              \n",
       "1962-01-31              5.800000  \n",
       "1962-02-28              5.800000  \n",
       "1962-03-31              5.545455  \n",
       "1962-04-30              5.600000  \n",
       "1962-05-31              5.595455  \n",
       "1962-06-30              5.500000  \n",
       "1962-07-31              5.500000  \n",
       "1962-08-31              5.426087  \n",
       "1962-09-30              5.700000  \n",
       "1962-10-31              5.595455  "
      ]
     },
     "execution_count": 2,
     "metadata": {},
     "output_type": "execute_result"
    }
   ],
   "source": [
    "df = utils.load_data()\n",
    "\n",
    "df.head(10)"
   ]
  },
  {
   "cell_type": "code",
   "execution_count": 3,
   "metadata": {},
   "outputs": [],
   "source": [
    "\n",
    "# Create a TimeSeries object\n",
    "ts = TimeSeries.from_dataframe(df, value_cols=['US_TB_YIELD_10YRS']) #.add_holidays(\"US\")\n",
    "\n",
    "# Create covariates\n",
    "covariates = df.drop(columns=['US_TB_YIELD_10YRS'])\n",
    "covariates = TimeSeries.from_dataframe(covariates)"
   ]
  },
  {
   "cell_type": "code",
   "execution_count": 4,
   "metadata": {},
   "outputs": [],
   "source": [
    "assert len(ts.gaps()) == 0"
   ]
  },
  {
   "cell_type": "markdown",
   "metadata": {},
   "source": [
    "# Naive Model"
   ]
  },
  {
   "cell_type": "code",
   "execution_count": 5,
   "metadata": {},
   "outputs": [
    {
     "data": {
      "application/vnd.jupyter.widget-view+json": {
       "model_id": "692f43a846044fe49f50b735004d51b9",
       "version_major": 2,
       "version_minor": 0
      },
      "text/plain": [
       "  0%|          | 0/104 [00:00<?, ?it/s]"
      ]
     },
     "metadata": {},
     "output_type": "display_data"
    },
    {
     "name": "stdout",
     "output_type": "stream",
     "text": [
      "rmse = 0.21\n",
      "mape = 7.40%\n",
      "r2 = 0.96\n"
     ]
    },
    {
     "data": {
      "image/png": "[encoded data removed]",
      "text/plain": [
       "<Figure size 640x480 with 1 Axes>"
      ]
     },
     "metadata": {},
     "output_type": "display_data"
    }
   ],
   "source": [
    "\n",
    "# Create a Naive Seasonal model\n",
    "model = NaiveSeasonal(K=1)\n",
    "model.fit(ts)\n",
    "\n",
    "\n",
    "hfc_params = {\n",
    "    \"series\": ts,\n",
    "    \"start\": pd.Timestamp(\"2016-01-01\"),  # can also be a float for the fraction of the series to start at\n",
    "    \"forecast_horizon\": 1,\n",
    "    \"verbose\": True,\n",
    "}\n",
    "historical_fcast_theta = model.historical_forecasts(last_points_only=True, **hfc_params)\n",
    "\n",
    "ts.drop_before(pd.Timestamp(\"2016-01-01\")).plot(label=\"data\")\n",
    "historical_fcast_theta.plot(label=\"backtest 1-day ahead forecast (Naive)\")\n",
    "print(f\"rmse = {rmse(ts, historical_fcast_theta):.2f}\")\n",
    "print(f\"mape = {mape(ts, historical_fcast_theta):.2f}%\")\n",
    "print(f\"r2 = {r2_score(ts, historical_fcast_theta):.2f}\")\n",
    "\n"
   ]
  },
  {
   "cell_type": "markdown",
   "metadata": {},
   "source": [
    "# Pytorch-based models\n",
    "\n",
    "## RNN"
   ]
  },
  {
   "cell_type": "code",
   "execution_count": 6,
   "metadata": {},
   "outputs": [],
   "source": [
    "from darts.dataprocessing import Pipeline\n",
    "from darts.dataprocessing.transformers import (\n",
    "    Scaler,\n",
    "    MissingValuesFiller,\n",
    "    Mapper,\n",
    "    InvertibleMapper,\n",
    "    Diff\n",
    ")\n",
    "\n",
    "log_transformer = InvertibleMapper(\n",
    "    fn=np.log1p, inverse_fn=np.expm1, name=\"log1p\"\n",
    ")\n",
    "scaler = Scaler()\n",
    "filler = MissingValuesFiller()\n",
    "differentiator = Diff(dropna=True)\n",
    "pipeline = Pipeline([filler, log_transformer, scaler, differentiator])\n",
    "covariates_pipeline = Pipeline([filler, log_transformer, scaler, differentiator])\n",
    "\n",
    "\n",
    "covariates_scaled = covariates_pipeline.fit_transform(covariates)\n",
    "ts_scaled = pipeline.fit_transform(ts)\n",
    "train_ts_scaled, val_ts_scaled = ts_scaled.split_after(pd.Timestamp(\"2016-01-01\"))\n",
    "train_covariates_scaled, val_covariates_scaled = covariates_scaled.split_after(pd.Timestamp(\"2016-01-01\"))"
   ]
  },
  {
   "cell_type": "code",
   "execution_count": 38,
   "metadata": {},
   "outputs": [
    {
     "name": "stderr",
     "output_type": "stream",
     "text": [
      "GPU available: True (mps), used: True\n",
      "TPU available: False, using: 0 TPU cores\n",
      "HPU available: False, using: 0 HPUs\n",
      "\n",
      "  | Name            | Type             | Params | Mode \n",
      "-------------------------------------------------------------\n",
      "0 | criterion       | MSELoss          | 0      | train\n",
      "1 | train_criterion | MSELoss          | 0      | train\n",
      "2 | val_criterion   | MSELoss          | 0      | train\n",
      "3 | train_metrics   | MetricCollection | 0      | train\n",
      "4 | val_metrics     | MetricCollection | 0      | train\n",
      "5 | rin             | RINorm           | 2      | train\n",
      "6 | rnn             | GRU              | 4.1 K  | train\n",
      "7 | fc              | Sequential       | 21     | train\n",
      "-------------------------------------------------------------\n",
      "4.2 K     Trainable params\n",
      "0         Non-trainable params\n",
      "4.2 K     Total params\n",
      "0.017     Total estimated model params size (MB)\n",
      "9         Modules in train mode\n",
      "0         Modules in eval mode\n"
     ]
    },
    {
     "data": {
      "application/vnd.jupyter.widget-view+json": {
       "model_id": "a0d00a0977364ad79a94a13aaf7a5825",
       "version_major": 2,
       "version_minor": 0
      },
      "text/plain": [
       "Sanity Checking: |          | 0/? [00:00<?, ?it/s]"
      ]
     },
     "metadata": {},
     "output_type": "display_data"
    },
    {
     "name": "stderr",
     "output_type": "stream",
     "text": [
      "/Users/Xavier/cdpq-ia/venv/lib/python3.11/site-packages/pytorch_lightning/trainer/connectors/data_connector.py:424: The 'val_dataloader' does not have many workers which may be a bottleneck. Consider increasing the value of the `num_workers` argument` to `num_workers=9` in the `DataLoader` to improve performance.\n",
      "/Users/Xavier/cdpq-ia/venv/lib/python3.11/site-packages/pytorch_lightning/trainer/connectors/data_connector.py:424: The 'train_dataloader' does not have many workers which may be a bottleneck. Consider increasing the value of the `num_workers` argument` to `num_workers=9` in the `DataLoader` to improve performance.\n",
      "/Users/Xavier/cdpq-ia/venv/lib/python3.11/site-packages/pytorch_lightning/loops/fit_loop.py:298: The number of training batches (20) is smaller than the logging interval Trainer(log_every_n_steps=50). Set a lower value for log_every_n_steps if you want to see logs for the training epoch.\n"
     ]
    },
    {
     "data": {
      "application/vnd.jupyter.widget-view+json": {
       "model_id": "9473b363306c4bbfb8abf4a193f0a70a",
       "version_major": 2,
       "version_minor": 0
      },
      "text/plain": [
       "Training: |          | 0/? [00:00<?, ?it/s]"
      ]
     },
     "metadata": {},
     "output_type": "display_data"
    },
    {
     "data": {
      "application/vnd.jupyter.widget-view+json": {
       "model_id": "b59a7ac999404872ab24c1e9637f2693",
       "version_major": 2,
       "version_minor": 0
      },
      "text/plain": [
       "Validation: |          | 0/? [00:00<?, ?it/s]"
      ]
     },
     "metadata": {},
     "output_type": "display_data"
    },
    {
     "data": {
      "application/vnd.jupyter.widget-view+json": {
       "model_id": "e5c35eef5b024b5aa443b244b7eb4331",
       "version_major": 2,
       "version_minor": 0
      },
      "text/plain": [
       "Validation: |          | 0/? [00:00<?, ?it/s]"
      ]
     },
     "metadata": {},
     "output_type": "display_data"
    },
    {
     "data": {
      "application/vnd.jupyter.widget-view+json": {
       "model_id": "73c956fb4fe44ee08197753e5e42fbad",
       "version_major": 2,
       "version_minor": 0
      },
      "text/plain": [
       "Validation: |          | 0/? [00:00<?, ?it/s]"
      ]
     },
     "metadata": {},
     "output_type": "display_data"
    },
    {
     "data": {
      "application/vnd.jupyter.widget-view+json": {
       "model_id": "f5d472d0ad5b46a988b89baa7460e78d",
       "version_major": 2,
       "version_minor": 0
      },
      "text/plain": [
       "Validation: |          | 0/? [00:00<?, ?it/s]"
      ]
     },
     "metadata": {},
     "output_type": "display_data"
    },
    {
     "data": {
      "application/vnd.jupyter.widget-view+json": {
       "model_id": "6d5a15e53e5c43c1ab5df297969708fe",
       "version_major": 2,
       "version_minor": 0
      },
      "text/plain": [
       "Validation: |          | 0/? [00:00<?, ?it/s]"
      ]
     },
     "metadata": {},
     "output_type": "display_data"
    },
    {
     "data": {
      "application/vnd.jupyter.widget-view+json": {
       "model_id": "4395cd23fdbf40ac8612052e916cd9de",
       "version_major": 2,
       "version_minor": 0
      },
      "text/plain": [
       "Validation: |          | 0/? [00:00<?, ?it/s]"
      ]
     },
     "metadata": {},
     "output_type": "display_data"
    },
    {
     "data": {
      "application/vnd.jupyter.widget-view+json": {
       "model_id": "628a15f3e654454d873b31559b784674",
       "version_major": 2,
       "version_minor": 0
      },
      "text/plain": [
       "Validation: |          | 0/? [00:00<?, ?it/s]"
      ]
     },
     "metadata": {},
     "output_type": "display_data"
    },
    {
     "data": {
      "application/vnd.jupyter.widget-view+json": {
       "model_id": "02b256e8e80148f1b664e6a50ed49419",
       "version_major": 2,
       "version_minor": 0
      },
      "text/plain": [
       "Validation: |          | 0/? [00:00<?, ?it/s]"
      ]
     },
     "metadata": {},
     "output_type": "display_data"
    },
    {
     "data": {
      "application/vnd.jupyter.widget-view+json": {
       "model_id": "8394940d1e694a808429a75983c465f1",
       "version_major": 2,
       "version_minor": 0
      },
      "text/plain": [
       "Validation: |          | 0/? [00:00<?, ?it/s]"
      ]
     },
     "metadata": {},
     "output_type": "display_data"
    },
    {
     "data": {
      "application/vnd.jupyter.widget-view+json": {
       "model_id": "927016f5ca09462da303ffbc98d23c99",
       "version_major": 2,
       "version_minor": 0
      },
      "text/plain": [
       "Validation: |          | 0/? [00:00<?, ?it/s]"
      ]
     },
     "metadata": {},
     "output_type": "display_data"
    },
    {
     "data": {
      "application/vnd.jupyter.widget-view+json": {
       "model_id": "f9ce77165d1a49669fa18bea50f2ac9d",
       "version_major": 2,
       "version_minor": 0
      },
      "text/plain": [
       "Validation: |          | 0/? [00:00<?, ?it/s]"
      ]
     },
     "metadata": {},
     "output_type": "display_data"
    },
    {
     "data": {
      "application/vnd.jupyter.widget-view+json": {
       "model_id": "f5e640a8e73747529f314ae88576ce85",
       "version_major": 2,
       "version_minor": 0
      },
      "text/plain": [
       "Validation: |          | 0/? [00:00<?, ?it/s]"
      ]
     },
     "metadata": {},
     "output_type": "display_data"
    },
    {
     "data": {
      "application/vnd.jupyter.widget-view+json": {
       "model_id": "21e2fe3d32b5410bab0ac30755598521",
       "version_major": 2,
       "version_minor": 0
      },
      "text/plain": [
       "Validation: |          | 0/? [00:00<?, ?it/s]"
      ]
     },
     "metadata": {},
     "output_type": "display_data"
    },
    {
     "data": {
      "application/vnd.jupyter.widget-view+json": {
       "model_id": "fc1a8afcd3cc4908bea012af5be49113",
       "version_major": 2,
       "version_minor": 0
      },
      "text/plain": [
       "Validation: |          | 0/? [00:00<?, ?it/s]"
      ]
     },
     "metadata": {},
     "output_type": "display_data"
    },
    {
     "data": {
      "application/vnd.jupyter.widget-view+json": {
       "model_id": "edb3c30707ab46b08108ff16e1d7b5bf",
       "version_major": 2,
       "version_minor": 0
      },
      "text/plain": [
       "Validation: |          | 0/? [00:00<?, ?it/s]"
      ]
     },
     "metadata": {},
     "output_type": "display_data"
    },
    {
     "data": {
      "application/vnd.jupyter.widget-view+json": {
       "model_id": "e7da7efe25f44e2caa60dcf37526b3f1",
       "version_major": 2,
       "version_minor": 0
      },
      "text/plain": [
       "Validation: |          | 0/? [00:00<?, ?it/s]"
      ]
     },
     "metadata": {},
     "output_type": "display_data"
    },
    {
     "data": {
      "application/vnd.jupyter.widget-view+json": {
       "model_id": "1c6b325f5bc64f9bbc73136312a35093",
       "version_major": 2,
       "version_minor": 0
      },
      "text/plain": [
       "Validation: |          | 0/? [00:00<?, ?it/s]"
      ]
     },
     "metadata": {},
     "output_type": "display_data"
    },
    {
     "data": {
      "application/vnd.jupyter.widget-view+json": {
       "model_id": "db4a01f26173451e80addd0d0a333d08",
       "version_major": 2,
       "version_minor": 0
      },
      "text/plain": [
       "Validation: |          | 0/? [00:00<?, ?it/s]"
      ]
     },
     "metadata": {},
     "output_type": "display_data"
    },
    {
     "data": {
      "text/plain": [
       "BlockRNNModel(output_chunk_shift=0, model=GRU, hidden_dim=20, n_rnn_layers=2, hidden_fc_sizes=None, dropout=0, activation=TanH, random_state=0, model_name=block_rnn, log_tensorboard=True, save_checkpoints=True, force_reset=True, show_warnings=True, pl_trainer_kwargs={'callbacks': [<pytorch_lightning.callbacks.early_stopping.EarlyStopping object at 0x36104ae50>]}, input_chunk_length=20, output_chunk_length=1, n_epochs=100, optimizer_kwargs={'lr': 0.001}, batch_size=32, lr_scheduler_cls=<class 'torch.optim.lr_scheduler.CosineAnnealingLR'>, lr_scheduler_kwargs={'T_max': 20, 'eta_min': 0.0001}, use_reversible_instance_norm=True)"
      ]
     },
     "execution_count": 38,
     "metadata": {},
     "output_type": "execute_result"
    }
   ],
   "source": [
    "from darts.models import BlockRNNModel\n",
    "from darts.utils.likelihood_models import GaussianLikelihood\n",
    "from torch.optim.lr_scheduler import CosineAnnealingLR\n",
    "from pytorch_lightning.callbacks.early_stopping import EarlyStopping\n",
    "\n",
    "\n",
    "early_stopper = EarlyStopping(\n",
    "    monitor=\"val_loss\",\n",
    "    patience=5,\n",
    "    min_delta=1e-6,\n",
    "    mode=\"min\"\n",
    ")\n",
    "\n",
    "model = BlockRNNModel(\n",
    "    random_state=0,\n",
    "    model_name=\"block_rnn\",\n",
    "    log_tensorboard=True,\n",
    "    save_checkpoints=True,\n",
    "    force_reset=True,\n",
    "    show_warnings=True,\n",
    "    pl_trainer_kwargs={\"callbacks\": [early_stopper]},\n",
    "\n",
    "    model=\"GRU\", # The type of RNN to use. One of: “LSTM”, “GRU” or “RNN”\n",
    "    input_chunk_length=20, # Number of time steps in the past to take as a model input (per chunk). \n",
    "    output_chunk_length=1, # Number of time steps predicted at once (per chunk) by the internal model\n",
    "    n_epochs=100,\n",
    "    optimizer_kwargs={\"lr\": 1e-3},\n",
    "    dropout=0, # Fraction of neurons afected by Dropout.\n",
    "    hidden_dim=20, # Size for feature maps for each hidden RNN layer ()\n",
    "    activation=\"TanH\", # The name of a torch.nn activation function to be applied between the layers of the fully connected network. Default: “ReLU”.\n",
    "\n",
    "    batch_size=32,\n",
    "    n_rnn_layers=2, # Number of layers in the RNN module.\n",
    "\n",
    "    lr_scheduler_cls=CosineAnnealingLR,\n",
    "    lr_scheduler_kwargs={\"T_max\": 20, \"eta_min\": 1e-4}, # The maximum number of epochs in the cosine annealing scheduler\n",
    "    use_reversible_instance_norm = True,\n",
    "    # likelihood=GaussianLikelihood(), # https://unit8co.github.io/darts/generated_api/darts.utils.likelihood_models.html#darts.utils.likelihood_models.Likelihood\n",
    "    # hidden_fc_sizes=[20, 20], # Size of the fully connected layers between the RNN and the output layer\n",
    ")\n",
    "\n",
    "\n",
    "model.fit(\n",
    "    train_ts_scaled, \n",
    "    val_series=val_ts_scaled,\n",
    "    verbose=True,\n",
    "    past_covariates=train_covariates_scaled,\n",
    "    val_past_covariates=val_covariates_scaled,\n",
    ")\n",
    "\n",
    "\n",
    "# model = BlockRNNModel.load_from_checkpoint(\"block_rnn\")"
   ]
  },
  {
   "cell_type": "code",
   "execution_count": 42,
   "metadata": {},
   "outputs": [
    {
     "name": "stderr",
     "output_type": "stream",
     "text": [
      "GPU available: True (mps), used: True\n",
      "TPU available: False, using: 0 TPU cores\n",
      "HPU available: False, using: 0 HPUs\n",
      "/Users/Xavier/cdpq-ia/venv/lib/python3.11/site-packages/pytorch_lightning/trainer/connectors/data_connector.py:424: The 'predict_dataloader' does not have many workers which may be a bottleneck. Consider increasing the value of the `num_workers` argument` to `num_workers=9` in the `DataLoader` to improve performance.\n"
     ]
    },
    {
     "data": {
      "application/vnd.jupyter.widget-view+json": {
       "model_id": "cb66d57b80ee493c9f62000dacab8686",
       "version_major": 2,
       "version_minor": 0
      },
      "text/plain": [
       "Predicting: |          | 0/? [00:00<?, ?it/s]"
      ]
     },
     "metadata": {},
     "output_type": "display_data"
    }
   ],
   "source": [
    "hfc_params = {\n",
    "    \"series\": ts_scaled,\n",
    "    \"past_covariates\": covariates_scaled,\n",
    "    \"start\": pd.Timestamp(\"2016-01-01\"),  # can also be a float for the fraction of the series to start at\n",
    "    \"forecast_horizon\": 1,\n",
    "    \"verbose\": True,\n",
    "    \"retrain\": False\n",
    "}\n",
    "\n",
    "historical_fcast_block_rnn = model.historical_forecasts(last_points_only=True, **hfc_params)"
   ]
  },
  {
   "cell_type": "code",
   "execution_count": 43,
   "metadata": {},
   "outputs": [
    {
     "name": "stdout",
     "output_type": "stream",
     "text": [
      "rmse = 0.60\n",
      "mape = 27.32%\n",
      "r2 = 0.68\n"
     ]
    },
    {
     "data": {
      "image/png": "[encoded data removed]",
      "text/plain": [
       "<Figure size 640x480 with 1 Axes>"
      ]
     },
     "metadata": {},
     "output_type": "display_data"
    }
   ],
   "source": [
    "\n",
    "\n",
    "historical_fcast_block_rnn = train_ts_scaled.append(historical_fcast_block_rnn)\n",
    "historical_fcast_block_rnn = pipeline.inverse_transform(historical_fcast_block_rnn, partial=True)\n",
    "historical_fcast_block_rnn = historical_fcast_block_rnn.drop_before(pd.Timestamp(\"2016-01-01\"))\n",
    "\n",
    "ts.plot(label=\"observed\")\n",
    "historical_fcast_block_rnn.plot(label=\"backtest 1-day ahead forecast (BlockRNN)\")\n",
    "\n",
    "print(f\"rmse = {rmse(ts, historical_fcast_block_rnn):.2f}\")\n",
    "print(f\"mape = {mape(ts, historical_fcast_block_rnn):.2f}%\")\n",
    "print(f\"r2 = {r2_score(ts, historical_fcast_block_rnn):.2f}\")"
   ]
  },
  {
   "cell_type": "code",
   "execution_count": null,
   "metadata": {},
   "outputs": [],
   "source": []
  }
 ],
 "metadata": {
  "kernelspec": {
   "display_name": "Python 3 (ipykernel)",
   "language": "python",
   "name": "python3"
  },
  "language_info": {
   "codemirror_mode": {
    "name": "ipython",
    "version": 3
   },
   "file_extension": ".py",
   "mimetype": "text/x-python",
   "name": "python",
   "nbconvert_exporter": "python",
   "pygments_lexer": "ipython3",
   "version": "3.11.9"
  }
 },
 "nbformat": 4,
 "nbformat_minor": 4
}
