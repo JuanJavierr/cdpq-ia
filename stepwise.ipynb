{
 "cells": [
  {
   "cell_type": "code",
   "execution_count": 55,
   "metadata": {},
   "outputs": [
    {
     "name": "stdout",
     "output_type": "stream",
     "text": [
      "The autoreload extension is already loaded. To reload it, use:\n",
      "  %reload_ext autoreload\n"
     ]
    }
   ],
   "source": [
    "%load_ext autoreload\n",
    "%autoreload 2\n",
    "\n",
    "import warnings\n",
    "\n",
    "import matplotlib.pyplot as plt\n",
    "import numpy as np\n",
    "import pandas as pd\n",
    "import plotly.express as px\n",
    "from darts import TimeSeries\n",
    "from darts.utils.data import tabularization as tab\n",
    "from mlxtend.feature_selection import SequentialFeatureSelector\n",
    "from mlxtend.plotting import plot_sequential_feature_selection as plot_sfs\n",
    "from sklearn import linear_model\n",
    "from sklearn.metrics import accuracy_score\n",
    "from sklearn.model_selection import TimeSeriesSplit, train_test_split\n",
    "from darts.metrics import mape, r2_score, rmse\n",
    "from darts.models import RegressionModel\n",
    "\n",
    "import utils\n",
    "\n",
    "warnings.filterwarnings('ignore')"
   ]
  },
  {
   "cell_type": "code",
   "execution_count": 56,
   "metadata": {},
   "outputs": [],
   "source": [
    "# Load data\n",
    "df = utils.load_data()\n",
    "\n",
    "# Convert the dataframe to multiple TimeSeries objects (one per pre-processing method)\n",
    "ts, covars_diff, covars_diff_yoy, covars_nodiff = utils.df2ts(df)\n",
    "\n",
    "# Scale the time series and covariates\n",
    "covars_diff_pipeline, covars_diff_scaled = utils.scale_ts(covars_diff, should_diff=True, diff_order=1)\n",
    "covars_nodiff_pipeline, covars_nodiff_scaled = utils.scale_ts(covars_nodiff, should_diff=False)\n",
    "covars_diff_yoy_pipeline, covars_diff_yoy_scaled = utils.scale_ts(covars_diff_yoy,should_diff=True, diff_order=12)\n",
    "pipeline, ts_scaled = utils.scale_ts(ts, should_diff=True, diff_order=1)\n",
    "\n",
    "\n",
    "# Ensure that all timeseries are aligned (i.e. have the same time range). This is required for stacking them together.\n",
    "covars_diff_scaled = covars_diff_scaled.slice_intersect(covars_diff_yoy_scaled)\n",
    "covars_nodiff_scaled = covars_nodiff_scaled.slice_intersect(covars_diff_yoy_scaled)\n",
    "\n",
    "# Stack the covariates\n",
    "covariates_scaled = covars_diff_scaled.stack(covars_nodiff_scaled).stack(covars_diff_yoy_scaled)\n",
    "\n",
    "\n",
    "# Split the data into training and validation sets\n",
    "train_ts, val_ts = ts.split_after(pd.Timestamp(\"2016-01-01\"))\n",
    "train_ts_scaled, val_ts_scaled = ts_scaled.split_after(pd.Timestamp(\"2016-01-01\"))\n",
    "train_covariates_scaled, val_covariates_scaled = covariates_scaled.split_after(pd.Timestamp(\"2016-01-01\"))\n",
    "\n",
    "# Reconvert to DataFrame since statsmodels does not support TimeSeries objects\n",
    "train = train_ts_scaled.pd_dataframe()\n",
    "validation = val_ts_scaled.pd_dataframe()\n",
    "history = pd.concat([train, validation])"
   ]
  },
  {
   "cell_type": "markdown",
   "metadata": {},
   "source": [
    "# Model Selection"
   ]
  },
  {
   "cell_type": "code",
   "execution_count": 57,
   "metadata": {},
   "outputs": [],
   "source": [
    "ts_lags = list(range(-12, 0))\n",
    "\n",
    "# lags_past_covariates = {\n",
    "#     \"US_CPI\": list(range(-3, 0)),\n",
    "#     \"US_PERSONAL_SPENDING_PCE\": list(range(-3, 0)),\n",
    "#     \"SNP_500\": list(range(-3, 0)),\n",
    "#     \"NEWS_SENTIMENT\": list(range(-3, 0)),\n",
    "#     \"FFED\": list(range(-3, 0)),\n",
    "#     \"US_UNEMPLOYMENT_RATE\": list(range(-3, 0)),\n",
    "# }\n",
    "lags_past_covariates = {covar: list(range(-3, 0)) for covar in covariates_scaled.components}\n",
    "\n",
    "\n",
    "X_train, y_train, times, last_static_covariates_shape, sample_weight = tab.create_lagged_training_data(\n",
    "    target_series=train_ts_scaled,\n",
    "    past_covariates=train_covariates_scaled,\n",
    "    output_chunk_length=1,\n",
    "    output_chunk_shift=1,\n",
    "    lags=ts_lags,\n",
    "    lags_past_covariates=lags_past_covariates,\n",
    "    uses_static_covariates=False,\n",
    ")\n",
    "X_train = X_train.squeeze()\n",
    "y_train = y_train.squeeze()\n",
    "\n",
    "\n",
    "X_test, y_test, times, last_static_covariates_shape, sample_weight = tab.create_lagged_training_data(\n",
    "    target_series=val_ts_scaled,\n",
    "    past_covariates=val_covariates_scaled,\n",
    "    output_chunk_length=1,\n",
    "    output_chunk_shift=1,\n",
    "    lags=ts_lags,\n",
    "    lags_past_covariates=lags_past_covariates,\n",
    "    uses_static_covariates=False,\n",
    ")\n",
    "X_test = X_test.squeeze()\n",
    "y_test = y_test.squeeze()"
   ]
  },
  {
   "cell_type": "code",
   "execution_count": 58,
   "metadata": {},
   "outputs": [
    {
     "data": {
      "text/html": [
       "<div>\n",
       "<style scoped>\n",
       "    .dataframe tbody tr th:only-of-type {\n",
       "        vertical-align: middle;\n",
       "    }\n",
       "\n",
       "    .dataframe tbody tr th {\n",
       "        vertical-align: top;\n",
       "    }\n",
       "\n",
       "    .dataframe thead th {\n",
       "        text-align: right;\n",
       "    }\n",
       "</style>\n",
       "<table border=\"1\" class=\"dataframe\">\n",
       "  <thead>\n",
       "    <tr style=\"text-align: right;\">\n",
       "      <th></th>\n",
       "      <th>US_TB_YIELD_10YRS_target_lag-12</th>\n",
       "      <th>US_TB_YIELD_10YRS_target_lag-11</th>\n",
       "      <th>US_TB_YIELD_10YRS_target_lag-10</th>\n",
       "      <th>US_TB_YIELD_10YRS_target_lag-9</th>\n",
       "      <th>US_TB_YIELD_10YRS_target_lag-8</th>\n",
       "      <th>US_TB_YIELD_10YRS_target_lag-7</th>\n",
       "      <th>US_TB_YIELD_10YRS_target_lag-6</th>\n",
       "      <th>US_TB_YIELD_10YRS_target_lag-5</th>\n",
       "      <th>US_TB_YIELD_10YRS_target_lag-4</th>\n",
       "      <th>US_TB_YIELD_10YRS_target_lag-3</th>\n",
       "      <th>...</th>\n",
       "      <th>STICKCPIM157SFRBATL_pastcov_lag-1</th>\n",
       "      <th>US_PERSONAL_SPENDING_PCE_pastcov_lag-1</th>\n",
       "      <th>US_TB_YIELD_3MTHS_pastcov_lag-1</th>\n",
       "      <th>US_TB_YIELD_5YRS_pastcov_lag-1</th>\n",
       "      <th>US_TB_YIELD_3YRS_pastcov_lag-1</th>\n",
       "      <th>US_TB_YIELD_2YRS_pastcov_lag-1</th>\n",
       "      <th>US_TB_YIELD_1YR_pastcov_lag-1</th>\n",
       "      <th>FFED_pastcov_lag-1</th>\n",
       "      <th>TOTBKCR_pastcov_lag-1</th>\n",
       "      <th>US_CPI_pastcov_lag-1</th>\n",
       "    </tr>\n",
       "  </thead>\n",
       "  <tbody>\n",
       "    <tr>\n",
       "      <th>0</th>\n",
       "      <td>-0.474715</td>\n",
       "      <td>-0.960974</td>\n",
       "      <td>0.400932</td>\n",
       "      <td>-0.233351</td>\n",
       "      <td>0.044717</td>\n",
       "      <td>-0.489915</td>\n",
       "      <td>-0.417751</td>\n",
       "      <td>0.213808</td>\n",
       "      <td>0.284084</td>\n",
       "      <td>0.481045</td>\n",
       "      <td>...</td>\n",
       "      <td>-0.024912</td>\n",
       "      <td>-0.115604</td>\n",
       "      <td>0.252044</td>\n",
       "      <td>1.090817</td>\n",
       "      <td>0.767880</td>\n",
       "      <td>0.579284</td>\n",
       "      <td>0.330914</td>\n",
       "      <td>0.280893</td>\n",
       "      <td>-0.638487</td>\n",
       "      <td>-0.367032</td>\n",
       "    </tr>\n",
       "    <tr>\n",
       "      <th>1</th>\n",
       "      <td>-0.960974</td>\n",
       "      <td>0.400932</td>\n",
       "      <td>-0.233351</td>\n",
       "      <td>0.044717</td>\n",
       "      <td>-0.489915</td>\n",
       "      <td>-0.417751</td>\n",
       "      <td>0.213808</td>\n",
       "      <td>0.284084</td>\n",
       "      <td>0.481045</td>\n",
       "      <td>1.279380</td>\n",
       "      <td>...</td>\n",
       "      <td>0.338079</td>\n",
       "      <td>-0.057690</td>\n",
       "      <td>0.084341</td>\n",
       "      <td>-0.087879</td>\n",
       "      <td>-0.009970</td>\n",
       "      <td>0.056587</td>\n",
       "      <td>-0.064569</td>\n",
       "      <td>0.259019</td>\n",
       "      <td>-0.285073</td>\n",
       "      <td>-0.302790</td>\n",
       "    </tr>\n",
       "    <tr>\n",
       "      <th>2</th>\n",
       "      <td>0.400932</td>\n",
       "      <td>-0.233351</td>\n",
       "      <td>0.044717</td>\n",
       "      <td>-0.489915</td>\n",
       "      <td>-0.417751</td>\n",
       "      <td>0.213808</td>\n",
       "      <td>0.284084</td>\n",
       "      <td>0.481045</td>\n",
       "      <td>1.279380</td>\n",
       "      <td>1.188898</td>\n",
       "      <td>...</td>\n",
       "      <td>-0.267210</td>\n",
       "      <td>0.741807</td>\n",
       "      <td>0.085048</td>\n",
       "      <td>-0.007594</td>\n",
       "      <td>0.013730</td>\n",
       "      <td>0.018064</td>\n",
       "      <td>0.018093</td>\n",
       "      <td>0.031204</td>\n",
       "      <td>0.328547</td>\n",
       "      <td>-0.199997</td>\n",
       "    </tr>\n",
       "    <tr>\n",
       "      <th>3</th>\n",
       "      <td>-0.233351</td>\n",
       "      <td>0.044717</td>\n",
       "      <td>-0.489915</td>\n",
       "      <td>-0.417751</td>\n",
       "      <td>0.213808</td>\n",
       "      <td>0.284084</td>\n",
       "      <td>0.481045</td>\n",
       "      <td>1.279380</td>\n",
       "      <td>1.188898</td>\n",
       "      <td>-0.153189</td>\n",
       "      <td>...</td>\n",
       "      <td>-1.423986</td>\n",
       "      <td>0.204503</td>\n",
       "      <td>0.771748</td>\n",
       "      <td>0.360958</td>\n",
       "      <td>0.335648</td>\n",
       "      <td>0.314131</td>\n",
       "      <td>0.469124</td>\n",
       "      <td>0.281935</td>\n",
       "      <td>-0.138625</td>\n",
       "      <td>0.026050</td>\n",
       "    </tr>\n",
       "    <tr>\n",
       "      <th>4</th>\n",
       "      <td>0.044717</td>\n",
       "      <td>-0.489915</td>\n",
       "      <td>-0.417751</td>\n",
       "      <td>0.213808</td>\n",
       "      <td>0.284084</td>\n",
       "      <td>0.481045</td>\n",
       "      <td>1.279380</td>\n",
       "      <td>1.188898</td>\n",
       "      <td>-0.153189</td>\n",
       "      <td>-0.002843</td>\n",
       "      <td>...</td>\n",
       "      <td>0.625644</td>\n",
       "      <td>-0.018863</td>\n",
       "      <td>0.255859</td>\n",
       "      <td>-0.514260</td>\n",
       "      <td>-0.351515</td>\n",
       "      <td>-0.149695</td>\n",
       "      <td>0.102902</td>\n",
       "      <td>0.258984</td>\n",
       "      <td>-0.186849</td>\n",
       "      <td>0.303969</td>\n",
       "    </tr>\n",
       "  </tbody>\n",
       "</table>\n",
       "<p>5 rows × 78 columns</p>\n",
       "</div>"
      ],
      "text/plain": [
       "   US_TB_YIELD_10YRS_target_lag-12  US_TB_YIELD_10YRS_target_lag-11  \\\n",
       "0                        -0.474715                        -0.960974   \n",
       "1                        -0.960974                         0.400932   \n",
       "2                         0.400932                        -0.233351   \n",
       "3                        -0.233351                         0.044717   \n",
       "4                         0.044717                        -0.489915   \n",
       "\n",
       "   US_TB_YIELD_10YRS_target_lag-10  US_TB_YIELD_10YRS_target_lag-9  \\\n",
       "0                         0.400932                       -0.233351   \n",
       "1                        -0.233351                        0.044717   \n",
       "2                         0.044717                       -0.489915   \n",
       "3                        -0.489915                       -0.417751   \n",
       "4                        -0.417751                        0.213808   \n",
       "\n",
       "   US_TB_YIELD_10YRS_target_lag-8  US_TB_YIELD_10YRS_target_lag-7  \\\n",
       "0                        0.044717                       -0.489915   \n",
       "1                       -0.489915                       -0.417751   \n",
       "2                       -0.417751                        0.213808   \n",
       "3                        0.213808                        0.284084   \n",
       "4                        0.284084                        0.481045   \n",
       "\n",
       "   US_TB_YIELD_10YRS_target_lag-6  US_TB_YIELD_10YRS_target_lag-5  \\\n",
       "0                       -0.417751                        0.213808   \n",
       "1                        0.213808                        0.284084   \n",
       "2                        0.284084                        0.481045   \n",
       "3                        0.481045                        1.279380   \n",
       "4                        1.279380                        1.188898   \n",
       "\n",
       "   US_TB_YIELD_10YRS_target_lag-4  US_TB_YIELD_10YRS_target_lag-3  ...  \\\n",
       "0                        0.284084                        0.481045  ...   \n",
       "1                        0.481045                        1.279380  ...   \n",
       "2                        1.279380                        1.188898  ...   \n",
       "3                        1.188898                       -0.153189  ...   \n",
       "4                       -0.153189                       -0.002843  ...   \n",
       "\n",
       "   STICKCPIM157SFRBATL_pastcov_lag-1  US_PERSONAL_SPENDING_PCE_pastcov_lag-1  \\\n",
       "0                          -0.024912                               -0.115604   \n",
       "1                           0.338079                               -0.057690   \n",
       "2                          -0.267210                                0.741807   \n",
       "3                          -1.423986                                0.204503   \n",
       "4                           0.625644                               -0.018863   \n",
       "\n",
       "   US_TB_YIELD_3MTHS_pastcov_lag-1  US_TB_YIELD_5YRS_pastcov_lag-1  \\\n",
       "0                         0.252044                        1.090817   \n",
       "1                         0.084341                       -0.087879   \n",
       "2                         0.085048                       -0.007594   \n",
       "3                         0.771748                        0.360958   \n",
       "4                         0.255859                       -0.514260   \n",
       "\n",
       "   US_TB_YIELD_3YRS_pastcov_lag-1  US_TB_YIELD_2YRS_pastcov_lag-1  \\\n",
       "0                        0.767880                        0.579284   \n",
       "1                       -0.009970                        0.056587   \n",
       "2                        0.013730                        0.018064   \n",
       "3                        0.335648                        0.314131   \n",
       "4                       -0.351515                       -0.149695   \n",
       "\n",
       "   US_TB_YIELD_1YR_pastcov_lag-1  FFED_pastcov_lag-1  TOTBKCR_pastcov_lag-1  \\\n",
       "0                       0.330914            0.280893              -0.638487   \n",
       "1                      -0.064569            0.259019              -0.285073   \n",
       "2                       0.018093            0.031204               0.328547   \n",
       "3                       0.469124            0.281935              -0.138625   \n",
       "4                       0.102902            0.258984              -0.186849   \n",
       "\n",
       "   US_CPI_pastcov_lag-1  \n",
       "0             -0.367032  \n",
       "1             -0.302790  \n",
       "2             -0.199997  \n",
       "3              0.026050  \n",
       "4              0.303969  \n",
       "\n",
       "[5 rows x 78 columns]"
      ]
     },
     "execution_count": 58,
     "metadata": {},
     "output_type": "execute_result"
    }
   ],
   "source": [
    "features_cols_names, label_cols_names = tab.create_lagged_component_names(\n",
    "    ts_scaled, covariates_scaled, lags=ts_lags, lags_past_covariates=lags_past_covariates, concatenate=False\n",
    ")\n",
    "\n",
    "X_train = pd.DataFrame(X_train, columns=features_cols_names)\n",
    "y_train = pd.DataFrame(y_train, columns=label_cols_names)\n",
    "\n",
    "X_test = pd.DataFrame(X_test, columns=features_cols_names)\n",
    "y_test = pd.DataFrame(y_test, columns=label_cols_names)\n",
    "X_test.head()"
   ]
  },
  {
   "cell_type": "code",
   "execution_count": 62,
   "metadata": {},
   "outputs": [],
   "source": [
    "timeseries_crossval = TimeSeriesSplit(n_splits=10)\n",
    "model = linear_model.LassoCV(cv=timeseries_crossval, n_alphas=50)\n",
    "# model = linear_model.Lasso(alpha=0.2)\n",
    "sfs = SequentialFeatureSelector(\n",
    "    model, k_features=(1, 10), scoring=\"neg_mean_squared_error\", forward=True, floating=True, cv=timeseries_crossval\n",
    ")\n",
    "selected_features = sfs.fit(X_train, y_train)"
   ]
  },
  {
   "cell_type": "code",
   "execution_count": 63,
   "metadata": {},
   "outputs": [
    {
     "data": {
      "text/plain": [
       "('US_TB_YIELD_10YRS_target_lag-12',\n",
       " 'US_TB_YIELD_10YRS_target_lag-10',\n",
       " 'US_TB_YIELD_10YRS_target_lag-1',\n",
       " 'FFED_pastcov_lag-3',\n",
       " 'MICH_pastcov_lag-1',\n",
       " 'US_TB_YIELD_5YRS_pastcov_lag-1')"
      ]
     },
     "execution_count": 63,
     "metadata": {},
     "output_type": "execute_result"
    }
   ],
   "source": [
    "selected_features.k_feature_names_"
   ]
  },
  {
   "cell_type": "code",
   "execution_count": null,
   "metadata": {},
   "outputs": [],
   "source": [
    "# This is not good:\n",
    "# model.fit(sfs.transform(X_train), y_train)\n",
    "\n",
    "# pred = model.predict(sfs.transform(X_test))\n",
    "\n",
    "\n",
    "\n",
    "# diff = y_test - pred\n",
    "# mse = diff.pow(2).mean()"
   ]
  },
  {
   "cell_type": "code",
   "execution_count": 29,
   "metadata": {},
   "outputs": [
    {
     "data": {
      "text/html": [
       "<div>\n",
       "<style scoped>\n",
       "    .dataframe tbody tr th:only-of-type {\n",
       "        vertical-align: middle;\n",
       "    }\n",
       "\n",
       "    .dataframe tbody tr th {\n",
       "        vertical-align: top;\n",
       "    }\n",
       "\n",
       "    .dataframe thead th {\n",
       "        text-align: right;\n",
       "    }\n",
       "</style>\n",
       "<table border=\"1\" class=\"dataframe\">\n",
       "  <thead>\n",
       "    <tr style=\"text-align: right;\">\n",
       "      <th></th>\n",
       "      <th>US_TB_YIELD_10YRS_target_hrz0</th>\n",
       "    </tr>\n",
       "  </thead>\n",
       "  <tbody>\n",
       "    <tr>\n",
       "      <th>0</th>\n",
       "      <td>-0.002843</td>\n",
       "    </tr>\n",
       "    <tr>\n",
       "      <th>1</th>\n",
       "      <td>0.247482</td>\n",
       "    </tr>\n",
       "    <tr>\n",
       "      <th>2</th>\n",
       "      <td>-0.562939</td>\n",
       "    </tr>\n",
       "    <tr>\n",
       "      <th>3</th>\n",
       "      <td>0.062146</td>\n",
       "    </tr>\n",
       "    <tr>\n",
       "      <th>4</th>\n",
       "      <td>-0.341441</td>\n",
       "    </tr>\n",
       "    <tr>\n",
       "      <th>...</th>\n",
       "      <td>...</td>\n",
       "    </tr>\n",
       "    <tr>\n",
       "      <th>74</th>\n",
       "      <td>-0.624166</td>\n",
       "    </tr>\n",
       "    <tr>\n",
       "      <th>75</th>\n",
       "      <td>0.414196</td>\n",
       "    </tr>\n",
       "    <tr>\n",
       "      <th>76</th>\n",
       "      <td>0.613628</td>\n",
       "    </tr>\n",
       "    <tr>\n",
       "      <th>77</th>\n",
       "      <td>0.538035</td>\n",
       "    </tr>\n",
       "    <tr>\n",
       "      <th>78</th>\n",
       "      <td>0.921410</td>\n",
       "    </tr>\n",
       "  </tbody>\n",
       "</table>\n",
       "<p>79 rows × 1 columns</p>\n",
       "</div>"
      ],
      "text/plain": [
       "    US_TB_YIELD_10YRS_target_hrz0\n",
       "0                       -0.002843\n",
       "1                        0.247482\n",
       "2                       -0.562939\n",
       "3                        0.062146\n",
       "4                       -0.341441\n",
       "..                            ...\n",
       "74                      -0.624166\n",
       "75                       0.414196\n",
       "76                       0.613628\n",
       "77                       0.538035\n",
       "78                       0.921410\n",
       "\n",
       "[79 rows x 1 columns]"
      ]
     },
     "execution_count": 29,
     "metadata": {},
     "output_type": "execute_result"
    }
   ],
   "source": [
    "y_test"
   ]
  },
  {
   "cell_type": "code",
   "execution_count": null,
   "metadata": {},
   "outputs": [
    {
     "data": {
      "text/plain": [
       "array([-0.01473924,  0.06790191, -0.15216452, -0.21921512, -0.07747688,\n",
       "        0.02533735,  0.02619668, -0.08206862, -0.04228629, -0.13802102,\n",
       "       -0.17238583, -0.24590299,  0.02095371, -0.02312398, -0.16917302,\n",
       "        0.0181969 , -0.07651311, -0.06570107, -0.15084435, -0.03726072,\n",
       "       -0.07924065, -0.10578866, -0.07139715, -0.04453404, -0.12748954,\n",
       "       -0.19351302, -0.09270258, -0.07003603, -0.0274259 , -0.06482221,\n",
       "        0.00444403, -0.0355275 , -0.08547832, -0.13689905,  0.05508751,\n",
       "        0.02256601,  0.05168817, -0.03036887, -0.05408638, -0.1602586 ,\n",
       "       -0.11414818,  0.16874379,  0.10902476,  0.3750418 , -0.20914978,\n",
       "       -0.18031071, -0.0759705 , -0.00600364, -0.06276037,  0.00489654,\n",
       "        0.21998236,  0.00643824,  0.03755055, -0.14968556, -0.10081311,\n",
       "       -0.08775744, -0.13241148, -0.09147473,  0.03797165, -0.09922101,\n",
       "       -0.10990062, -0.05714612, -0.26063108, -0.1082051 ,  0.04522433,\n",
       "       -0.08840959,  0.02860495, -0.1633383 , -0.16921158, -0.14829531,\n",
       "       -0.19169742,  0.02740657, -0.17943849, -0.22361484, -0.20337307,\n",
       "       -0.39421463,  0.00114382, -0.22692116, -0.02310754], dtype=float32)"
      ]
     },
     "execution_count": 28,
     "metadata": {},
     "output_type": "execute_result"
    }
   ],
   "source": [
    "\n",
    "for t_i in len(pred):\n",
    "    pred = TimeSeries.from_times_and_values(values=pred[], times=times[0])\n",
    "    pred = utils.unscale_series(pred, pipeline, ts_scaled)"
   ]
  },
  {
   "cell_type": "code",
   "execution_count": 31,
   "metadata": {},
   "outputs": [
    {
     "data": {
      "text/plain": [
       "(array([-0.11666735, -0.05720395, -0.        ,  0.08245573], dtype=float32),\n",
       " ('US_TB_YIELD_10YRS_target_lag-12',\n",
       "  'US_TB_YIELD_10YRS_target_lag-5',\n",
       "  'W068RCQ027SBEA_pastcov_lag-1',\n",
       "  'STICKCPIM157SFRBATL_pastcov_lag-1'))"
      ]
     },
     "execution_count": 31,
     "metadata": {},
     "output_type": "execute_result"
    }
   ],
   "source": [
    "# Get the model coefficients\n",
    "model.coef_, sfs.k_feature_names_"
   ]
  },
  {
   "cell_type": "code",
   "execution_count": 32,
   "metadata": {},
   "outputs": [
    {
     "data": {
      "text/plain": [
       "{1: {'feature_idx': (62,),\n",
       "  'cv_scores': array([-1.64273381, -0.60000414, -0.55968726, -0.59257394, -0.56523776,\n",
       "         -0.66223955, -0.36270472, -0.78095019, -0.50452995, -0.28121203]),\n",
       "  'avg_score': -0.6551873356103897,\n",
       "  'feature_names': ('W068RCQ027SBEA_pastcov_lag-1',)},\n",
       " 2: {'feature_idx': (0, 62),\n",
       "  'cv_scores': array([-1.65252781, -0.61872482, -0.54199016, -0.5504058 , -0.54075187,\n",
       "         -0.65599614, -0.35905996, -0.82609576, -0.51740938, -0.25738308]),\n",
       "  'avg_score': -0.652034479379654,\n",
       "  'feature_names': ('US_TB_YIELD_10YRS_target_lag-12',\n",
       "   'W068RCQ027SBEA_pastcov_lag-1')},\n",
       " 3: {'feature_idx': (0, 62, 68),\n",
       "  'cv_scores': array([-1.65252781, -0.60000414, -0.54928279, -0.55186558, -0.52168941,\n",
       "         -0.6579861 , -0.36044475, -0.82844031, -0.51808161, -0.25725776]),\n",
       "  'avg_score': -0.6497580260038376,\n",
       "  'feature_names': ('US_TB_YIELD_10YRS_target_lag-12',\n",
       "   'W068RCQ027SBEA_pastcov_lag-1',\n",
       "   'STICKCPIM157SFRBATL_pastcov_lag-1')},\n",
       " 4: {'feature_idx': (0, 7, 62, 68),\n",
       "  'cv_scores': array([-1.65252781, -0.60000414, -0.54279292, -0.56031966, -0.52088857,\n",
       "         -0.65743792, -0.3621836 , -0.8125605 , -0.50234705, -0.26810098]),\n",
       "  'avg_score': -0.6479163140058517,\n",
       "  'feature_names': ('US_TB_YIELD_10YRS_target_lag-12',\n",
       "   'US_TB_YIELD_10YRS_target_lag-5',\n",
       "   'W068RCQ027SBEA_pastcov_lag-1',\n",
       "   'STICKCPIM157SFRBATL_pastcov_lag-1')},\n",
       " 5: {'feature_idx': (0, 7, 43, 62, 68),\n",
       "  'cv_scores': array([-1.65252781, -0.60000414, -0.53838313, -0.56440336, -0.52722239,\n",
       "         -0.65743792, -0.36192137, -0.81201154, -0.50387448, -0.2685757 ]),\n",
       "  'avg_score': -0.648636183142662,\n",
       "  'feature_names': ('US_TB_YIELD_10YRS_target_lag-12',\n",
       "   'US_TB_YIELD_10YRS_target_lag-5',\n",
       "   'US_TB_YIELD_5YRS_pastcov_lag-2',\n",
       "   'W068RCQ027SBEA_pastcov_lag-1',\n",
       "   'STICKCPIM157SFRBATL_pastcov_lag-1')},\n",
       " 6: {'feature_idx': (0, 7, 43, 48, 62, 68),\n",
       "  'cv_scores': array([-1.65252781, -0.60000414, -0.53399533, -0.56709194, -0.52238673,\n",
       "         -0.6494019 , -0.36844268, -0.81862813, -0.50337821, -0.2696321 ]),\n",
       "  'avg_score': -0.6485488981008529,\n",
       "  'feature_names': ('US_TB_YIELD_10YRS_target_lag-12',\n",
       "   'US_TB_YIELD_10YRS_target_lag-5',\n",
       "   'US_TB_YIELD_5YRS_pastcov_lag-2',\n",
       "   'US_TB_YIELD_3YRS_pastcov_lag-2',\n",
       "   'W068RCQ027SBEA_pastcov_lag-1',\n",
       "   'STICKCPIM157SFRBATL_pastcov_lag-1')},\n",
       " 7: {'feature_idx': (0, 7, 45, 48, 57, 62, 68),\n",
       "  'cv_scores': array([-1.65252781, -0.58385026, -0.59178984, -0.56512731, -0.52682745,\n",
       "         -0.65683854, -0.35944456, -0.78095013, -0.50452995, -0.281212  ]),\n",
       "  'avg_score': -0.6503097862005234,\n",
       "  'feature_names': ('US_TB_YIELD_10YRS_target_lag-12',\n",
       "   'US_TB_YIELD_10YRS_target_lag-5',\n",
       "   'US_TB_YIELD_3MTHS_pastcov_lag-2',\n",
       "   'US_TB_YIELD_3YRS_pastcov_lag-2',\n",
       "   'SNP_500_pastcov_lag-1',\n",
       "   'W068RCQ027SBEA_pastcov_lag-1',\n",
       "   'STICKCPIM157SFRBATL_pastcov_lag-1')},\n",
       " 8: {'feature_idx': (0, 7, 13, 45, 48, 57, 62, 68),\n",
       "  'cv_scores': array([-1.65252781, -0.58385026, -0.59178984, -0.56512731, -0.52682745,\n",
       "         -0.65683854, -0.35944456, -0.78095013, -0.50452995, -0.281212  ]),\n",
       "  'avg_score': -0.6503097862005234,\n",
       "  'feature_names': ('US_TB_YIELD_10YRS_target_lag-12',\n",
       "   'US_TB_YIELD_10YRS_target_lag-5',\n",
       "   'TOTBKCR_pastcov_lag-3',\n",
       "   'US_TB_YIELD_3MTHS_pastcov_lag-2',\n",
       "   'US_TB_YIELD_3YRS_pastcov_lag-2',\n",
       "   'SNP_500_pastcov_lag-1',\n",
       "   'W068RCQ027SBEA_pastcov_lag-1',\n",
       "   'STICKCPIM157SFRBATL_pastcov_lag-1')},\n",
       " 9: {'feature_idx': (0, 7, 13, 14, 45, 48, 57, 62, 68),\n",
       "  'cv_scores': array([-1.65252781, -0.58385026, -0.59178984, -0.56512731, -0.52682745,\n",
       "         -0.65683854, -0.35944456, -0.78095013, -0.50452995, -0.281212  ]),\n",
       "  'avg_score': -0.6503097862005234,\n",
       "  'feature_names': ('US_TB_YIELD_10YRS_target_lag-12',\n",
       "   'US_TB_YIELD_10YRS_target_lag-5',\n",
       "   'TOTBKCR_pastcov_lag-3',\n",
       "   'W068RCQ027SBEA_pastcov_lag-3',\n",
       "   'US_TB_YIELD_3MTHS_pastcov_lag-2',\n",
       "   'US_TB_YIELD_3YRS_pastcov_lag-2',\n",
       "   'SNP_500_pastcov_lag-1',\n",
       "   'W068RCQ027SBEA_pastcov_lag-1',\n",
       "   'STICKCPIM157SFRBATL_pastcov_lag-1')},\n",
       " 10: {'feature_idx': (0, 7, 13, 14, 24, 45, 48, 57, 62, 68),\n",
       "  'cv_scores': array([-1.65252781, -0.58385026, -0.59178984, -0.56512731, -0.52682745,\n",
       "         -0.65683854, -0.35944456, -0.78095013, -0.50452995, -0.281212  ]),\n",
       "  'avg_score': -0.6503097862005234,\n",
       "  'feature_names': ('US_TB_YIELD_10YRS_target_lag-12',\n",
       "   'US_TB_YIELD_10YRS_target_lag-5',\n",
       "   'TOTBKCR_pastcov_lag-3',\n",
       "   'W068RCQ027SBEA_pastcov_lag-3',\n",
       "   'US_PERSONAL_SPENDING_PCE_pastcov_lag-3',\n",
       "   'US_TB_YIELD_3MTHS_pastcov_lag-2',\n",
       "   'US_TB_YIELD_3YRS_pastcov_lag-2',\n",
       "   'SNP_500_pastcov_lag-1',\n",
       "   'W068RCQ027SBEA_pastcov_lag-1',\n",
       "   'STICKCPIM157SFRBATL_pastcov_lag-1')}}"
      ]
     },
     "execution_count": 32,
     "metadata": {},
     "output_type": "execute_result"
    }
   ],
   "source": [
    "selected_features.subsets_"
   ]
  },
  {
   "cell_type": "code",
   "execution_count": 17,
   "metadata": {},
   "outputs": [],
   "source": [
    "pred = pred.squeeze()\n",
    "pred = TimeSeries.from_times_and_values(values=pred, times=times[0])\n",
    "pred = utils.unscale_series(pred, pipeline, ts_scaled)\n",
    "\n",
    "\n",
    "y_test = TimeSeries.from_times_and_values(values=y_test[\"US_TB_YIELD_10YRS_target_hrz0\"], times=times[0])\n",
    "y_test = utils.unscale_series(y_test, pipeline, ts_scaled)"
   ]
  },
  {
   "cell_type": "code",
   "execution_count": 18,
   "metadata": {},
   "outputs": [
    {
     "data": {
      "text/plain": [
       "<Axes: xlabel='DATE'>"
      ]
     },
     "execution_count": 18,
     "metadata": {},
     "output_type": "execute_result"
    },
    {
     "data": {
      "image/png": "[encoded data removed]",
      "text/plain": [
       "<Figure size 640x480 with 1 Axes>"
      ]
     },
     "metadata": {},
     "output_type": "display_data"
    }
   ],
   "source": [
    "# pd.Series(pred.squeeze()).plot(label=\"pred\")\n",
    "# ts.drop_before(pd.Timestamp(\"2015/12/31\")).plot()\n",
    "y_test.plot()\n",
    "pred.plot(label=\"pred\")"
   ]
  },
  {
   "cell_type": "code",
   "execution_count": 17,
   "metadata": {},
   "outputs": [
    {
     "data": {
      "image/png": "[encoded data removed]",
      "text/plain": [
       "<Figure size 640x480 with 1 Axes>"
      ]
     },
     "metadata": {},
     "output_type": "display_data"
    }
   ],
   "source": [
    "fig1 = plot_sfs(sfs.get_metric_dict(), kind=\"std_dev\")\n",
    "\n",
    "# plt.ylim([0.8, 1])\n",
    "plt.title(\"Sequential Forward Selection (w. StdDev)\")\n",
    "plt.grid()\n",
    "plt.show()"
   ]
  },
  {
   "cell_type": "code",
   "execution_count": 18,
   "metadata": {},
   "outputs": [],
   "source": [
    "def plot_features(features: list[str]):\n",
    "    features.append(\"FFED_diff\")\n",
    "    px.line(df, x=df.index, y=features).show()"
   ]
  },
  {
   "cell_type": "code",
   "execution_count": 19,
   "metadata": {},
   "outputs": [
    {
     "ename": "ValueError",
     "evalue": "All arguments should have the same length. The length of argument `y` is 4, whereas the length of  previously-processed arguments ['DATE'] is 524",
     "output_type": "error",
     "traceback": [
      "\u001b[0;31m---------------------------------------------------------------------------\u001b[0m",
      "\u001b[0;31mValueError\u001b[0m                                Traceback (most recent call last)",
      "Cell \u001b[0;32mIn[19], line 1\u001b[0m\n\u001b[0;32m----> 1\u001b[0m \u001b[43mplot_features\u001b[49m\u001b[43m(\u001b[49m\u001b[43m[\u001b[49m\u001b[38;5;124;43m'\u001b[39;49m\u001b[38;5;124;43mUS_CPI_EXCL_FOOD_N_ENERGY_diff\u001b[39;49m\u001b[38;5;124;43m'\u001b[39;49m\u001b[43m,\u001b[49m\n\u001b[1;32m      2\u001b[0m \u001b[43m   \u001b[49m\u001b[38;5;124;43m'\u001b[39;49m\u001b[38;5;124;43mCANADA_CPI_diff\u001b[39;49m\u001b[38;5;124;43m'\u001b[39;49m\u001b[43m,\u001b[49m\n\u001b[1;32m      3\u001b[0m \u001b[43m   \u001b[49m\u001b[38;5;124;43m'\u001b[39;49m\u001b[38;5;124;43mUS_TB_YIELD_1YR_diff\u001b[39;49m\u001b[38;5;124;43m'\u001b[39;49m\u001b[43m]\u001b[49m\u001b[43m)\u001b[49m\n",
      "Cell \u001b[0;32mIn[18], line 3\u001b[0m, in \u001b[0;36mplot_features\u001b[0;34m(features)\u001b[0m\n\u001b[1;32m      1\u001b[0m \u001b[38;5;28;01mdef\u001b[39;00m \u001b[38;5;21mplot_features\u001b[39m(features: \u001b[38;5;28mlist\u001b[39m[\u001b[38;5;28mstr\u001b[39m]):\n\u001b[1;32m      2\u001b[0m     features\u001b[38;5;241m.\u001b[39mappend(\u001b[38;5;124m\"\u001b[39m\u001b[38;5;124mFFED_diff\u001b[39m\u001b[38;5;124m\"\u001b[39m)\n\u001b[0;32m----> 3\u001b[0m     \u001b[43mpx\u001b[49m\u001b[38;5;241;43m.\u001b[39;49m\u001b[43mline\u001b[49m\u001b[43m(\u001b[49m\u001b[43mdf\u001b[49m\u001b[43m,\u001b[49m\u001b[43m \u001b[49m\u001b[43mx\u001b[49m\u001b[38;5;241;43m=\u001b[39;49m\u001b[43mdf\u001b[49m\u001b[38;5;241;43m.\u001b[39;49m\u001b[43mindex\u001b[49m\u001b[43m,\u001b[49m\u001b[43m \u001b[49m\u001b[43my\u001b[49m\u001b[38;5;241;43m=\u001b[39;49m\u001b[43mfeatures\u001b[49m\u001b[43m)\u001b[49m\u001b[38;5;241m.\u001b[39mshow()\n",
      "File \u001b[0;32m~/cdpq-ia/venv/lib/python3.11/site-packages/plotly/express/_chart_types.py:264\u001b[0m, in \u001b[0;36mline\u001b[0;34m(data_frame, x, y, line_group, color, line_dash, symbol, hover_name, hover_data, custom_data, text, facet_row, facet_col, facet_col_wrap, facet_row_spacing, facet_col_spacing, error_x, error_x_minus, error_y, error_y_minus, animation_frame, animation_group, category_orders, labels, orientation, color_discrete_sequence, color_discrete_map, line_dash_sequence, line_dash_map, symbol_sequence, symbol_map, markers, log_x, log_y, range_x, range_y, line_shape, render_mode, title, template, width, height)\u001b[0m\n\u001b[1;32m    216\u001b[0m \u001b[38;5;28;01mdef\u001b[39;00m \u001b[38;5;21mline\u001b[39m(\n\u001b[1;32m    217\u001b[0m     data_frame\u001b[38;5;241m=\u001b[39m\u001b[38;5;28;01mNone\u001b[39;00m,\n\u001b[1;32m    218\u001b[0m     x\u001b[38;5;241m=\u001b[39m\u001b[38;5;28;01mNone\u001b[39;00m,\n\u001b[0;32m   (...)\u001b[0m\n\u001b[1;32m    258\u001b[0m     height\u001b[38;5;241m=\u001b[39m\u001b[38;5;28;01mNone\u001b[39;00m,\n\u001b[1;32m    259\u001b[0m ) \u001b[38;5;241m-\u001b[39m\u001b[38;5;241m>\u001b[39m go\u001b[38;5;241m.\u001b[39mFigure:\n\u001b[1;32m    260\u001b[0m \u001b[38;5;250m    \u001b[39m\u001b[38;5;124;03m\"\"\"\u001b[39;00m\n\u001b[1;32m    261\u001b[0m \u001b[38;5;124;03m    In a 2D line plot, each row of `data_frame` is represented as vertex of\u001b[39;00m\n\u001b[1;32m    262\u001b[0m \u001b[38;5;124;03m    a polyline mark in 2D space.\u001b[39;00m\n\u001b[1;32m    263\u001b[0m \u001b[38;5;124;03m    \"\"\"\u001b[39;00m\n\u001b[0;32m--> 264\u001b[0m     \u001b[38;5;28;01mreturn\u001b[39;00m \u001b[43mmake_figure\u001b[49m\u001b[43m(\u001b[49m\u001b[43margs\u001b[49m\u001b[38;5;241;43m=\u001b[39;49m\u001b[38;5;28;43mlocals\u001b[39;49m\u001b[43m(\u001b[49m\u001b[43m)\u001b[49m\u001b[43m,\u001b[49m\u001b[43m \u001b[49m\u001b[43mconstructor\u001b[49m\u001b[38;5;241;43m=\u001b[39;49m\u001b[43mgo\u001b[49m\u001b[38;5;241;43m.\u001b[39;49m\u001b[43mScatter\u001b[49m\u001b[43m)\u001b[49m\n",
      "File \u001b[0;32m~/cdpq-ia/venv/lib/python3.11/site-packages/plotly/express/_core.py:2117\u001b[0m, in \u001b[0;36mmake_figure\u001b[0;34m(args, constructor, trace_patch, layout_patch)\u001b[0m\n\u001b[1;32m   2114\u001b[0m layout_patch \u001b[38;5;241m=\u001b[39m layout_patch \u001b[38;5;129;01mor\u001b[39;00m {}\n\u001b[1;32m   2115\u001b[0m apply_default_cascade(args)\n\u001b[0;32m-> 2117\u001b[0m args \u001b[38;5;241m=\u001b[39m \u001b[43mbuild_dataframe\u001b[49m\u001b[43m(\u001b[49m\u001b[43margs\u001b[49m\u001b[43m,\u001b[49m\u001b[43m \u001b[49m\u001b[43mconstructor\u001b[49m\u001b[43m)\u001b[49m\n\u001b[1;32m   2118\u001b[0m \u001b[38;5;28;01mif\u001b[39;00m constructor \u001b[38;5;129;01min\u001b[39;00m [go\u001b[38;5;241m.\u001b[39mTreemap, go\u001b[38;5;241m.\u001b[39mSunburst, go\u001b[38;5;241m.\u001b[39mIcicle] \u001b[38;5;129;01mand\u001b[39;00m args[\u001b[38;5;124m\"\u001b[39m\u001b[38;5;124mpath\u001b[39m\u001b[38;5;124m\"\u001b[39m] \u001b[38;5;129;01mis\u001b[39;00m \u001b[38;5;129;01mnot\u001b[39;00m \u001b[38;5;28;01mNone\u001b[39;00m:\n\u001b[1;32m   2119\u001b[0m     args \u001b[38;5;241m=\u001b[39m process_dataframe_hierarchy(args)\n",
      "File \u001b[0;32m~/cdpq-ia/venv/lib/python3.11/site-packages/plotly/express/_core.py:1513\u001b[0m, in \u001b[0;36mbuild_dataframe\u001b[0;34m(args, constructor)\u001b[0m\n\u001b[1;32m   1510\u001b[0m     args[\u001b[38;5;124m\"\u001b[39m\u001b[38;5;124mcolor\u001b[39m\u001b[38;5;124m\"\u001b[39m] \u001b[38;5;241m=\u001b[39m \u001b[38;5;28;01mNone\u001b[39;00m\n\u001b[1;32m   1511\u001b[0m \u001b[38;5;66;03m# now that things have been prepped, we do the systematic rewriting of `args`\u001b[39;00m\n\u001b[0;32m-> 1513\u001b[0m df_output, wide_id_vars \u001b[38;5;241m=\u001b[39m \u001b[43mprocess_args_into_dataframe\u001b[49m\u001b[43m(\u001b[49m\n\u001b[1;32m   1514\u001b[0m \u001b[43m    \u001b[49m\u001b[43margs\u001b[49m\u001b[43m,\u001b[49m\u001b[43m \u001b[49m\u001b[43mwide_mode\u001b[49m\u001b[43m,\u001b[49m\u001b[43m \u001b[49m\u001b[43mvar_name\u001b[49m\u001b[43m,\u001b[49m\u001b[43m \u001b[49m\u001b[43mvalue_name\u001b[49m\n\u001b[1;32m   1515\u001b[0m \u001b[43m\u001b[49m\u001b[43m)\u001b[49m\n\u001b[1;32m   1517\u001b[0m \u001b[38;5;66;03m# now that `df_output` exists and `args` contains only references, we complete\u001b[39;00m\n\u001b[1;32m   1518\u001b[0m \u001b[38;5;66;03m# the special-case and wide-mode handling by further rewriting args and/or mutating\u001b[39;00m\n\u001b[1;32m   1519\u001b[0m \u001b[38;5;66;03m# df_output\u001b[39;00m\n\u001b[1;32m   1521\u001b[0m count_name \u001b[38;5;241m=\u001b[39m _escape_col_name(df_output, \u001b[38;5;124m\"\u001b[39m\u001b[38;5;124mcount\u001b[39m\u001b[38;5;124m\"\u001b[39m, [var_name, value_name])\n",
      "File \u001b[0;32m~/cdpq-ia/venv/lib/python3.11/site-packages/plotly/express/_core.py:1274\u001b[0m, in \u001b[0;36mprocess_args_into_dataframe\u001b[0;34m(args, wide_mode, var_name, value_name)\u001b[0m\n\u001b[1;32m   1271\u001b[0m         col_name \u001b[38;5;241m=\u001b[39m _check_name_not_reserved(field, reserved_names)\n\u001b[1;32m   1273\u001b[0m     \u001b[38;5;28;01mif\u001b[39;00m length \u001b[38;5;129;01mand\u001b[39;00m \u001b[38;5;28mlen\u001b[39m(argument) \u001b[38;5;241m!=\u001b[39m length:\n\u001b[0;32m-> 1274\u001b[0m         \u001b[38;5;28;01mraise\u001b[39;00m \u001b[38;5;167;01mValueError\u001b[39;00m(\n\u001b[1;32m   1275\u001b[0m             \u001b[38;5;124m\"\u001b[39m\u001b[38;5;124mAll arguments should have the same length. \u001b[39m\u001b[38;5;124m\"\u001b[39m\n\u001b[1;32m   1276\u001b[0m             \u001b[38;5;124m\"\u001b[39m\u001b[38;5;124mThe length of argument `\u001b[39m\u001b[38;5;132;01m%s\u001b[39;00m\u001b[38;5;124m` is \u001b[39m\u001b[38;5;132;01m%d\u001b[39;00m\u001b[38;5;124m, whereas the \u001b[39m\u001b[38;5;124m\"\u001b[39m\n\u001b[1;32m   1277\u001b[0m             \u001b[38;5;124m\"\u001b[39m\u001b[38;5;124mlength of  previously-processed arguments \u001b[39m\u001b[38;5;132;01m%s\u001b[39;00m\u001b[38;5;124m is \u001b[39m\u001b[38;5;132;01m%d\u001b[39;00m\u001b[38;5;124m\"\u001b[39m\n\u001b[1;32m   1278\u001b[0m             \u001b[38;5;241m%\u001b[39m (field, \u001b[38;5;28mlen\u001b[39m(argument), \u001b[38;5;28mstr\u001b[39m(\u001b[38;5;28mlist\u001b[39m(df_output\u001b[38;5;241m.\u001b[39mkeys())), length)\n\u001b[1;32m   1279\u001b[0m         )\n\u001b[1;32m   1280\u001b[0m     df_output[\u001b[38;5;28mstr\u001b[39m(col_name)] \u001b[38;5;241m=\u001b[39m to_unindexed_series(argument, \u001b[38;5;28mstr\u001b[39m(col_name))\n\u001b[1;32m   1282\u001b[0m \u001b[38;5;66;03m# Finally, update argument with column name now that column exists\u001b[39;00m\n",
      "\u001b[0;31mValueError\u001b[0m: All arguments should have the same length. The length of argument `y` is 4, whereas the length of  previously-processed arguments ['DATE'] is 524"
     ]
    }
   ],
   "source": [
    "plot_features(['US_CPI_EXCL_FOOD_N_ENERGY_diff',\n",
    "   'CANADA_CPI_diff',\n",
    "   'US_TB_YIELD_1YR_diff'])"
   ]
  },
  {
   "cell_type": "code",
   "execution_count": null,
   "metadata": {},
   "outputs": [
    {
     "data": {
      "application/vnd.plotly.v1+json": {
       "config": {
        "plotlyServerURL": "https://plot.ly"
       },
       "data": [
        {
         "hovertemplate": "variable=FFED_diff<br>DATE=%{x}<br>value=%{y}<extra></extra>",
         "legendgroup": "FFED_diff",
         "line": {
          "color": "#636efa",
          "dash": "solid"
         },
         "marker": {
          "symbol": "circle"
         },
         "mode": "lines",
         "name": "FFED_diff",
         "orientation": "v",
         "showlegend": true,
         "type": "scatter",
         "x": [
          "1962-03-31T00:00:00",
          "1962-06-30T00:00:00",
          "1962-09-30T00:00:00",
          "1962-12-31T00:00:00",
          "1963-03-31T00:00:00",
          "1963-06-30T00:00:00",
          "1963-09-30T00:00:00",
          "1963-12-31T00:00:00",
          "1964-03-31T00:00:00",
          "1964-06-30T00:00:00",
          "1964-09-30T00:00:00",
          "1964-12-31T00:00:00",
          "1965-03-31T00:00:00",
          "1965-06-30T00:00:00",
          "1965-09-30T00:00:00",
          "1965-12-31T00:00:00",
          "1966-03-31T00:00:00",
          "1966-06-30T00:00:00",
          "1966-09-30T00:00:00",
          "1966-12-31T00:00:00",
          "1967-03-31T00:00:00",
          "1967-06-30T00:00:00",
          "1967-09-30T00:00:00",
          "1967-12-31T00:00:00",
          "1968-03-31T00:00:00",
          "1968-06-30T00:00:00",
          "1968-09-30T00:00:00",
          "1968-12-31T00:00:00",
          "1969-03-31T00:00:00",
          "1969-06-30T00:00:00",
          "1969-09-30T00:00:00",
          "1969-12-31T00:00:00",
          "1970-03-31T00:00:00",
          "1970-06-30T00:00:00",
          "1970-09-30T00:00:00",
          "1970-12-31T00:00:00",
          "1971-03-31T00:00:00",
          "1971-06-30T00:00:00",
          "1971-09-30T00:00:00",
          "1971-12-31T00:00:00",
          "1972-03-31T00:00:00",
          "1972-06-30T00:00:00",
          "1972-09-30T00:00:00",
          "1972-12-31T00:00:00",
          "1973-03-31T00:00:00",
          "1973-06-30T00:00:00",
          "1973-09-30T00:00:00",
          "1973-12-31T00:00:00",
          "1974-03-31T00:00:00",
          "1974-06-30T00:00:00",
          "1974-09-30T00:00:00",
          "1974-12-31T00:00:00",
          "1975-03-31T00:00:00",
          "1975-06-30T00:00:00",
          "1975-09-30T00:00:00",
          "1975-12-31T00:00:00",
          "1976-03-31T00:00:00",
          "1976-06-30T00:00:00",
          "1976-09-30T00:00:00",
          "1976-12-31T00:00:00",
          "1977-03-31T00:00:00",
          "1977-06-30T00:00:00",
          "1977-09-30T00:00:00",
          "1977-12-31T00:00:00",
          "1978-03-31T00:00:00",
          "1978-06-30T00:00:00",
          "1978-09-30T00:00:00",
          "1978-12-31T00:00:00",
          "1979-03-31T00:00:00",
          "1979-06-30T00:00:00",
          "1979-09-30T00:00:00",
          "1979-12-31T00:00:00",
          "1980-03-31T00:00:00",
          "1980-06-30T00:00:00",
          "1980-09-30T00:00:00",
          "1980-12-31T00:00:00",
          "1981-03-31T00:00:00",
          "1981-06-30T00:00:00",
          "1981-09-30T00:00:00",
          "1981-12-31T00:00:00",
          "1982-03-31T00:00:00",
          "1982-06-30T00:00:00",
          "1982-09-30T00:00:00",
          "1982-12-31T00:00:00",
          "1983-03-31T00:00:00",
          "1983-06-30T00:00:00",
          "1983-09-30T00:00:00",
          "1983-12-31T00:00:00",
          "1984-03-31T00:00:00",
          "1984-06-30T00:00:00",
          "1984-09-30T00:00:00",
          "1984-12-31T00:00:00",
          "1985-03-31T00:00:00",
          "1985-06-30T00:00:00",
          "1985-09-30T00:00:00",
          "1985-12-31T00:00:00",
          "1986-03-31T00:00:00",
          "1986-06-30T00:00:00",
          "1986-09-30T00:00:00",
          "1986-12-31T00:00:00",
          "1987-03-31T00:00:00",
          "1987-06-30T00:00:00",
          "1987-09-30T00:00:00",
          "1987-12-31T00:00:00",
          "1988-03-31T00:00:00",
          "1988-06-30T00:00:00",
          "1988-09-30T00:00:00",
          "1988-12-31T00:00:00",
          "1989-03-31T00:00:00",
          "1989-06-30T00:00:00",
          "1989-09-30T00:00:00",
          "1989-12-31T00:00:00",
          "1990-03-31T00:00:00",
          "1990-06-30T00:00:00",
          "1990-09-30T00:00:00",
          "1990-12-31T00:00:00",
          "1991-03-31T00:00:00",
          "1991-06-30T00:00:00",
          "1991-09-30T00:00:00",
          "1991-12-31T00:00:00",
          "1992-03-31T00:00:00",
          "1992-06-30T00:00:00",
          "1992-09-30T00:00:00",
          "1992-12-31T00:00:00",
          "1993-03-31T00:00:00",
          "1993-06-30T00:00:00",
          "1993-09-30T00:00:00",
          "1993-12-31T00:00:00",
          "1994-03-31T00:00:00",
          "1994-06-30T00:00:00",
          "1994-09-30T00:00:00",
          "1994-12-31T00:00:00",
          "1995-03-31T00:00:00",
          "1995-06-30T00:00:00",
          "1995-09-30T00:00:00",
          "1995-12-31T00:00:00",
          "1996-03-31T00:00:00",
          "1996-06-30T00:00:00",
          "1996-09-30T00:00:00",
          "1996-12-31T00:00:00",
          "1997-03-31T00:00:00",
          "1997-06-30T00:00:00",
          "1997-09-30T00:00:00",
          "1997-12-31T00:00:00",
          "1998-03-31T00:00:00",
          "1998-06-30T00:00:00",
          "1998-09-30T00:00:00",
          "1998-12-31T00:00:00",
          "1999-03-31T00:00:00",
          "1999-06-30T00:00:00",
          "1999-09-30T00:00:00",
          "1999-12-31T00:00:00",
          "2000-03-31T00:00:00",
          "2000-06-30T00:00:00",
          "2000-09-30T00:00:00",
          "2000-12-31T00:00:00",
          "2001-03-31T00:00:00",
          "2001-06-30T00:00:00",
          "2001-09-30T00:00:00",
          "2001-12-31T00:00:00",
          "2002-03-31T00:00:00",
          "2002-06-30T00:00:00",
          "2002-09-30T00:00:00",
          "2002-12-31T00:00:00",
          "2003-03-31T00:00:00",
          "2003-06-30T00:00:00",
          "2003-09-30T00:00:00",
          "2003-12-31T00:00:00",
          "2004-03-31T00:00:00",
          "2004-06-30T00:00:00",
          "2004-09-30T00:00:00",
          "2004-12-31T00:00:00",
          "2005-03-31T00:00:00",
          "2005-06-30T00:00:00",
          "2005-09-30T00:00:00",
          "2005-12-31T00:00:00",
          "2006-03-31T00:00:00",
          "2006-06-30T00:00:00",
          "2006-09-30T00:00:00",
          "2006-12-31T00:00:00",
          "2007-03-31T00:00:00",
          "2007-06-30T00:00:00",
          "2007-09-30T00:00:00",
          "2007-12-31T00:00:00",
          "2008-03-31T00:00:00",
          "2008-06-30T00:00:00",
          "2008-09-30T00:00:00",
          "2008-12-31T00:00:00",
          "2009-03-31T00:00:00",
          "2009-06-30T00:00:00",
          "2009-09-30T00:00:00",
          "2009-12-31T00:00:00",
          "2010-03-31T00:00:00",
          "2010-06-30T00:00:00",
          "2010-09-30T00:00:00",
          "2010-12-31T00:00:00",
          "2011-03-31T00:00:00",
          "2011-06-30T00:00:00",
          "2011-09-30T00:00:00",
          "2011-12-31T00:00:00",
          "2012-03-31T00:00:00",
          "2012-06-30T00:00:00",
          "2012-09-30T00:00:00",
          "2012-12-31T00:00:00",
          "2013-03-31T00:00:00",
          "2013-06-30T00:00:00",
          "2013-09-30T00:00:00",
          "2013-12-31T00:00:00",
          "2014-03-31T00:00:00",
          "2014-06-30T00:00:00",
          "2014-09-30T00:00:00",
          "2014-12-31T00:00:00",
          "2015-03-31T00:00:00",
          "2015-06-30T00:00:00",
          "2015-09-30T00:00:00",
          "2015-12-31T00:00:00",
          "2016-03-31T00:00:00",
          "2016-06-30T00:00:00",
          "2016-09-30T00:00:00",
          "2016-12-31T00:00:00",
          "2017-03-31T00:00:00",
          "2017-06-30T00:00:00",
          "2017-09-30T00:00:00",
          "2017-12-31T00:00:00",
          "2018-03-31T00:00:00",
          "2018-06-30T00:00:00",
          "2018-09-30T00:00:00",
          "2018-12-31T00:00:00",
          "2019-03-31T00:00:00",
          "2019-06-30T00:00:00",
          "2019-09-30T00:00:00",
          "2019-12-31T00:00:00",
          "2020-03-31T00:00:00",
          "2020-06-30T00:00:00",
          "2020-09-30T00:00:00",
          "2020-12-31T00:00:00",
          "2021-03-31T00:00:00",
          "2021-06-30T00:00:00",
          "2021-09-30T00:00:00",
          "2021-12-31T00:00:00",
          "2022-03-31T00:00:00",
          "2022-06-30T00:00:00",
          "2022-09-30T00:00:00",
          "2022-12-31T00:00:00",
          "2023-03-31T00:00:00",
          "2023-06-30T00:00:00",
          "2023-09-30T00:00:00",
          "2023-12-31T00:00:00",
          "2024-03-31T00:00:00",
          "2024-06-30T00:00:00",
          "2024-09-30T00:00:00"
         ],
         "xaxis": "x",
         "y": [
          0.21550179211469533,
          0.2063492063492065,
          0.07820452771272413,
          0.02983606557377083,
          -0.0007390059849079478,
          0.34871031746031766,
          0.1292418032786884,
          0.02049180327868827,
          0.03182889344262341,
          -0.04531250000000009,
          0.10594262295081958,
          0.41016393442622956,
          0.10858094262295115,
          -0.011406250000000284,
          0.09184170081967213,
          0.3783294301327089,
          0.35571428571428587,
          0.4411458333333327,
          0.21135416666666718,
          -0.7586748633879781,
          -0.7972105532786888,
          -0.0875669642857142,
          0.27805620608899284,
          0.6060682178741414,
          1.2058064516129026,
          -0.03017641129032267,
          -0.0962752016129036,
          0.6750000000000007,
          1.631996927803379,
          0.6812698412698417,
          -0.03614884205048163,
          -0.28831147540983615,
          -0.6849999999999996,
          -1.1562812500000001,
          -1.143358094262295,
          -1.6413114754098368,
          0.6993570696721312,
          0.8796875000000002,
          -0.7656019467213113,
          -1.1261168032786886,
          0.7303125000000001,
          0.42309027777777786,
          0.4233888888888888,
          1.3599623655913975,
          1.3129979518689199,
          2.6992063492063494,
          -0.5361666666666665,
          -0.6563469945355198,
          1.863942232630757,
          0.8813318452380958,
          -2.7742904713114758,
          -2.9966366120218577,
          -0.8790729166666669,
          0.7171875000000005,
          -0.732461577868853,
          -0.5966261237440502,
          0.3948689516129029,
          0.07484375000000032,
          -0.4132505122950816,
          -0.19351288056206073,
          0.48920634920634853,
          0.6703174603174595,
          0.6768333333333336,
          0.26863114754098394,
          0.5113609159510801,
          0.8107936507936504,
          1.472107728337237,
          0.4960259122157584,
          0.10564516129032242,
          0.7436815156170002,
          2.66710642727036,
          1.4134056054997366,
          -2.437019969278033,
          -2.8052380952380958,
          6.116229508196723,
          0.6213114754098363,
          1.2696018735362955,
          -0.08136160714285268,
          -4.093814036885247,
          0.6513114754098357,
          0.2800025614754098,
          -3.5531249999999996,
          -1.664254610655739,
          -0.6449492583918808,
          0.1631746031746033,
          0.6393105158730155,
          -0.017937499999998607,
          0.2624032258064499,
          0.9308269329237078,
          0.7815873015873027,
          -2.149169919333856,
          -0.7966475409836065,
          -0.5189444444444433,
          -0.031111111111111533,
          0.24571684587813625,
          -0.37116129032258005,
          -0.8410312500000003,
          -0.7346874999999997,
          0.18881552419354808,
          -0.2565230037017452,
          0.5123627374447048,
          0.19956349206349167,
          0.04330645161290292,
          -0.2454838709677416,
          0.5067409114183308,
          0.8135615079365079,
          0.49404713114754184,
          0.9972131147540981,
          0.25295850409836085,
          -0.6493675595238084,
          -0.43079877112135456,
          -0.38677419354838705,
          -0.025284178187401807,
          -0.05349206349206348,
          -0.4049334357398884,
          -1.2378602150537636,
          -0.659770833333333,
          -0.2020312500000001,
          -0.8287247983870971,
          -0.7904838709677415,
          -0.23048131080389167,
          -0.5096850198412697,
          -0.2575756048387099,
          0.034468535166578995,
          -0.07251793032786935,
          0.06906250000000025,
          -0.10069052419354829,
          0.25709677419354815,
          0.7193548387096773,
          0.5465826612903224,
          0.6643903688524597,
          0.6572527763088312,
          0.18273681515616946,
          -0.20873015873015888,
          -0.059490527393752934,
          -0.35370967741935466,
          -0.11807459677419363,
          0.057031249999999645,
          -0.01782762096774171,
          -0.03468279569892463,
          0.27079166666666676,
          0.012031249999999716,
          -0.022494959677419324,
          -0.02532522474881027,
          -0.006502732240437403,
          0.04588541666666757,
          -0.6785735887096775,
          -0.11441565309360158,
          -0.01146027742749034,
          0.36773076923076875,
          0.18814516129032288,
          0.42125960061444,
          0.5590476190476181,
          0.22047619047619094,
          -0.011751152073732563,
          -0.8879032258064514,
          -1.2917741935483873,
          -0.8334426229508201,
          -1.3331702802749867,
          -0.4123870967741936,
          0.015562500000000146,
          -0.008437500000000098,
          -0.29264112903225814,
          -0.20023796932839755,
          -0.0012776476710902873,
          -0.23896825396825405,
          -0.015483870967741842,
          0.0037096774193547954,
          0.010424987199180835,
          0.4257242063492064,
          0.5127217741935484,
          0.5231491274457958,
          0.467410348360656,
          0.5196874999999999,
          0.5137218237704917,
          0.49119249074563776,
          0.4381387608806966,
          0.3439682539682529,
          -0.0037199180747560234,
          0.016290322580644556,
          -0.013029233870967438,
          -0.15858878968253975,
          -0.5938658474142349,
          -1.3097303014278152,
          -1.0964088114754102,
          -0.1328125,
          -1.4234677419354838,
          -0.34698307773664727,
          -0.008001561280249814,
          -0.02451636904761903,
          -0.03582157258064517,
          0.018011634056054993,
          0.055124842370744026,
          -0.003408653846153853,
          0.0009173387096774177,
          -0.03387096774193549,
          -0.062309267793138765,
          -0.009268353174603172,
          -0.00882428278688524,
          0.031208355367530402,
          0.048240927419354845,
          -0.008340773809523805,
          0.014629195940671358,
          -0.015653005464480868,
          -0.02813541666666669,
          -0.03156250000000001,
          0.00001512096774193561,
          -0.01269698572184029,
          0.018165495706479323,
          -0.0012648809523809618,
          0.012409274193548384,
          0.012493389740877853,
          0.011347336065573768,
          0.009843750000000012,
          0.025025201612903225,
          0.2049312533051295,
          0.004262295081967238,
          0.025312500000000016,
          0.053867827868852414,
          0.25469063987308305,
          0.24962109575012803,
          0.20206349206349195,
          0.046218637992831546,
          0.24248810153358002,
          0.29292520491803287,
          0.18630456349206348,
          0.2938849856882648,
          0.1839344262295075,
          -0.004168618266978452,
          -0.1993303571428573,
          -0.5473286290322581,
          -0.41758064516129023,
          -1.1740143369175626,
          0.03392361111111112,
          -0.0037802419354838884,
          -0.012638815441565296,
          -0.00793190416141236,
          0.02185096153846154,
          -0.010796370967741942,
          0.04483870967741936,
          0.6411290322580645,
          1.4354536290322581,
          1.4487346311475409,
          0.8722633527234271,
          0.4653661034306191,
          0.2750793650793657,
          0.06761904761904702,
          0,
          0,
          0,
          null
         ],
         "yaxis": "y"
        }
       ],
       "layout": {
        "legend": {
         "title": {
          "text": "variable"
         },
         "tracegroupgap": 0
        },
        "margin": {
         "t": 60
        },
        "template": {
         "data": {
          "bar": [
           {
            "error_x": {
             "color": "#2a3f5f"
            },
            "error_y": {
             "color": "#2a3f5f"
            },
            "marker": {
             "line": {
              "color": "#E5ECF6",
              "width": 0.5
             },
             "pattern": {
              "fillmode": "overlay",
              "size": 10,
              "solidity": 0.2
             }
            },
            "type": "bar"
           }
          ],
          "barpolar": [
           {
            "marker": {
             "line": {
              "color": "#E5ECF6",
              "width": 0.5
             },
             "pattern": {
              "fillmode": "overlay",
              "size": 10,
              "solidity": 0.2
             }
            },
            "type": "barpolar"
           }
          ],
          "carpet": [
           {
            "aaxis": {
             "endlinecolor": "#2a3f5f",
             "gridcolor": "white",
             "linecolor": "white",
             "minorgridcolor": "white",
             "startlinecolor": "#2a3f5f"
            },
            "baxis": {
             "endlinecolor": "#2a3f5f",
             "gridcolor": "white",
             "linecolor": "white",
             "minorgridcolor": "white",
             "startlinecolor": "#2a3f5f"
            },
            "type": "carpet"
           }
          ],
          "choropleth": [
           {
            "colorbar": {
             "outlinewidth": 0,
             "ticks": ""
            },
            "type": "choropleth"
           }
          ],
          "contour": [
           {
            "colorbar": {
             "outlinewidth": 0,
             "ticks": ""
            },
            "colorscale": [
             [
              0,
              "#0d0887"
             ],
             [
              0.1111111111111111,
              "#46039f"
             ],
             [
              0.2222222222222222,
              "#7201a8"
             ],
             [
              0.3333333333333333,
              "#9c179e"
             ],
             [
              0.4444444444444444,
              "#bd3786"
             ],
             [
              0.5555555555555556,
              "#d8576b"
             ],
             [
              0.6666666666666666,
              "#ed7953"
             ],
             [
              0.7777777777777778,
              "#fb9f3a"
             ],
             [
              0.8888888888888888,
              "#fdca26"
             ],
             [
              1,
              "#f0f921"
             ]
            ],
            "type": "contour"
           }
          ],
          "contourcarpet": [
           {
            "colorbar": {
             "outlinewidth": 0,
             "ticks": ""
            },
            "type": "contourcarpet"
           }
          ],
          "heatmap": [
           {
            "colorbar": {
             "outlinewidth": 0,
             "ticks": ""
            },
            "colorscale": [
             [
              0,
              "#0d0887"
             ],
             [
              0.1111111111111111,
              "#46039f"
             ],
             [
              0.2222222222222222,
              "#7201a8"
             ],
             [
              0.3333333333333333,
              "#9c179e"
             ],
             [
              0.4444444444444444,
              "#bd3786"
             ],
             [
              0.5555555555555556,
              "#d8576b"
             ],
             [
              0.6666666666666666,
              "#ed7953"
             ],
             [
              0.7777777777777778,
              "#fb9f3a"
             ],
             [
              0.8888888888888888,
              "#fdca26"
             ],
             [
              1,
              "#f0f921"
             ]
            ],
            "type": "heatmap"
           }
          ],
          "heatmapgl": [
           {
            "colorbar": {
             "outlinewidth": 0,
             "ticks": ""
            },
            "colorscale": [
             [
              0,
              "#0d0887"
             ],
             [
              0.1111111111111111,
              "#46039f"
             ],
             [
              0.2222222222222222,
              "#7201a8"
             ],
             [
              0.3333333333333333,
              "#9c179e"
             ],
             [
              0.4444444444444444,
              "#bd3786"
             ],
             [
              0.5555555555555556,
              "#d8576b"
             ],
             [
              0.6666666666666666,
              "#ed7953"
             ],
             [
              0.7777777777777778,
              "#fb9f3a"
             ],
             [
              0.8888888888888888,
              "#fdca26"
             ],
             [
              1,
              "#f0f921"
             ]
            ],
            "type": "heatmapgl"
           }
          ],
          "histogram": [
           {
            "marker": {
             "pattern": {
              "fillmode": "overlay",
              "size": 10,
              "solidity": 0.2
             }
            },
            "type": "histogram"
           }
          ],
          "histogram2d": [
           {
            "colorbar": {
             "outlinewidth": 0,
             "ticks": ""
            },
            "colorscale": [
             [
              0,
              "#0d0887"
             ],
             [
              0.1111111111111111,
              "#46039f"
             ],
             [
              0.2222222222222222,
              "#7201a8"
             ],
             [
              0.3333333333333333,
              "#9c179e"
             ],
             [
              0.4444444444444444,
              "#bd3786"
             ],
             [
              0.5555555555555556,
              "#d8576b"
             ],
             [
              0.6666666666666666,
              "#ed7953"
             ],
             [
              0.7777777777777778,
              "#fb9f3a"
             ],
             [
              0.8888888888888888,
              "#fdca26"
             ],
             [
              1,
              "#f0f921"
             ]
            ],
            "type": "histogram2d"
           }
          ],
          "histogram2dcontour": [
           {
            "colorbar": {
             "outlinewidth": 0,
             "ticks": ""
            },
            "colorscale": [
             [
              0,
              "#0d0887"
             ],
             [
              0.1111111111111111,
              "#46039f"
             ],
             [
              0.2222222222222222,
              "#7201a8"
             ],
             [
              0.3333333333333333,
              "#9c179e"
             ],
             [
              0.4444444444444444,
              "#bd3786"
             ],
             [
              0.5555555555555556,
              "#d8576b"
             ],
             [
              0.6666666666666666,
              "#ed7953"
             ],
             [
              0.7777777777777778,
              "#fb9f3a"
             ],
             [
              0.8888888888888888,
              "#fdca26"
             ],
             [
              1,
              "#f0f921"
             ]
            ],
            "type": "histogram2dcontour"
           }
          ],
          "mesh3d": [
           {
            "colorbar": {
             "outlinewidth": 0,
             "ticks": ""
            },
            "type": "mesh3d"
           }
          ],
          "parcoords": [
           {
            "line": {
             "colorbar": {
              "outlinewidth": 0,
              "ticks": ""
             }
            },
            "type": "parcoords"
           }
          ],
          "pie": [
           {
            "automargin": true,
            "type": "pie"
           }
          ],
          "scatter": [
           {
            "fillpattern": {
             "fillmode": "overlay",
             "size": 10,
             "solidity": 0.2
            },
            "type": "scatter"
           }
          ],
          "scatter3d": [
           {
            "line": {
             "colorbar": {
              "outlinewidth": 0,
              "ticks": ""
             }
            },
            "marker": {
             "colorbar": {
              "outlinewidth": 0,
              "ticks": ""
             }
            },
            "type": "scatter3d"
           }
          ],
          "scattercarpet": [
           {
            "marker": {
             "colorbar": {
              "outlinewidth": 0,
              "ticks": ""
             }
            },
            "type": "scattercarpet"
           }
          ],
          "scattergeo": [
           {
            "marker": {
             "colorbar": {
              "outlinewidth": 0,
              "ticks": ""
             }
            },
            "type": "scattergeo"
           }
          ],
          "scattergl": [
           {
            "marker": {
             "colorbar": {
              "outlinewidth": 0,
              "ticks": ""
             }
            },
            "type": "scattergl"
           }
          ],
          "scattermapbox": [
           {
            "marker": {
             "colorbar": {
              "outlinewidth": 0,
              "ticks": ""
             }
            },
            "type": "scattermapbox"
           }
          ],
          "scatterpolar": [
           {
            "marker": {
             "colorbar": {
              "outlinewidth": 0,
              "ticks": ""
             }
            },
            "type": "scatterpolar"
           }
          ],
          "scatterpolargl": [
           {
            "marker": {
             "colorbar": {
              "outlinewidth": 0,
              "ticks": ""
             }
            },
            "type": "scatterpolargl"
           }
          ],
          "scatterternary": [
           {
            "marker": {
             "colorbar": {
              "outlinewidth": 0,
              "ticks": ""
             }
            },
            "type": "scatterternary"
           }
          ],
          "surface": [
           {
            "colorbar": {
             "outlinewidth": 0,
             "ticks": ""
            },
            "colorscale": [
             [
              0,
              "#0d0887"
             ],
             [
              0.1111111111111111,
              "#46039f"
             ],
             [
              0.2222222222222222,
              "#7201a8"
             ],
             [
              0.3333333333333333,
              "#9c179e"
             ],
             [
              0.4444444444444444,
              "#bd3786"
             ],
             [
              0.5555555555555556,
              "#d8576b"
             ],
             [
              0.6666666666666666,
              "#ed7953"
             ],
             [
              0.7777777777777778,
              "#fb9f3a"
             ],
             [
              0.8888888888888888,
              "#fdca26"
             ],
             [
              1,
              "#f0f921"
             ]
            ],
            "type": "surface"
           }
          ],
          "table": [
           {
            "cells": {
             "fill": {
              "color": "#EBF0F8"
             },
             "line": {
              "color": "white"
             }
            },
            "header": {
             "fill": {
              "color": "#C8D4E3"
             },
             "line": {
              "color": "white"
             }
            },
            "type": "table"
           }
          ]
         },
         "layout": {
          "annotationdefaults": {
           "arrowcolor": "#2a3f5f",
           "arrowhead": 0,
           "arrowwidth": 1
          },
          "autotypenumbers": "strict",
          "coloraxis": {
           "colorbar": {
            "outlinewidth": 0,
            "ticks": ""
           }
          },
          "colorscale": {
           "diverging": [
            [
             0,
             "#8e0152"
            ],
            [
             0.1,
             "#c51b7d"
            ],
            [
             0.2,
             "#de77ae"
            ],
            [
             0.3,
             "#f1b6da"
            ],
            [
             0.4,
             "#fde0ef"
            ],
            [
             0.5,
             "#f7f7f7"
            ],
            [
             0.6,
             "#e6f5d0"
            ],
            [
             0.7,
             "#b8e186"
            ],
            [
             0.8,
             "#7fbc41"
            ],
            [
             0.9,
             "#4d9221"
            ],
            [
             1,
             "#276419"
            ]
           ],
           "sequential": [
            [
             0,
             "#0d0887"
            ],
            [
             0.1111111111111111,
             "#46039f"
            ],
            [
             0.2222222222222222,
             "#7201a8"
            ],
            [
             0.3333333333333333,
             "#9c179e"
            ],
            [
             0.4444444444444444,
             "#bd3786"
            ],
            [
             0.5555555555555556,
             "#d8576b"
            ],
            [
             0.6666666666666666,
             "#ed7953"
            ],
            [
             0.7777777777777778,
             "#fb9f3a"
            ],
            [
             0.8888888888888888,
             "#fdca26"
            ],
            [
             1,
             "#f0f921"
            ]
           ],
           "sequentialminus": [
            [
             0,
             "#0d0887"
            ],
            [
             0.1111111111111111,
             "#46039f"
            ],
            [
             0.2222222222222222,
             "#7201a8"
            ],
            [
             0.3333333333333333,
             "#9c179e"
            ],
            [
             0.4444444444444444,
             "#bd3786"
            ],
            [
             0.5555555555555556,
             "#d8576b"
            ],
            [
             0.6666666666666666,
             "#ed7953"
            ],
            [
             0.7777777777777778,
             "#fb9f3a"
            ],
            [
             0.8888888888888888,
             "#fdca26"
            ],
            [
             1,
             "#f0f921"
            ]
           ]
          },
          "colorway": [
           "#636efa",
           "#EF553B",
           "#00cc96",
           "#ab63fa",
           "#FFA15A",
           "#19d3f3",
           "#FF6692",
           "#B6E880",
           "#FF97FF",
           "#FECB52"
          ],
          "font": {
           "color": "#2a3f5f"
          },
          "geo": {
           "bgcolor": "white",
           "lakecolor": "white",
           "landcolor": "#E5ECF6",
           "showlakes": true,
           "showland": true,
           "subunitcolor": "white"
          },
          "hoverlabel": {
           "align": "left"
          },
          "hovermode": "closest",
          "mapbox": {
           "style": "light"
          },
          "paper_bgcolor": "white",
          "plot_bgcolor": "#E5ECF6",
          "polar": {
           "angularaxis": {
            "gridcolor": "white",
            "linecolor": "white",
            "ticks": ""
           },
           "bgcolor": "#E5ECF6",
           "radialaxis": {
            "gridcolor": "white",
            "linecolor": "white",
            "ticks": ""
           }
          },
          "scene": {
           "xaxis": {
            "backgroundcolor": "#E5ECF6",
            "gridcolor": "white",
            "gridwidth": 2,
            "linecolor": "white",
            "showbackground": true,
            "ticks": "",
            "zerolinecolor": "white"
           },
           "yaxis": {
            "backgroundcolor": "#E5ECF6",
            "gridcolor": "white",
            "gridwidth": 2,
            "linecolor": "white",
            "showbackground": true,
            "ticks": "",
            "zerolinecolor": "white"
           },
           "zaxis": {
            "backgroundcolor": "#E5ECF6",
            "gridcolor": "white",
            "gridwidth": 2,
            "linecolor": "white",
            "showbackground": true,
            "ticks": "",
            "zerolinecolor": "white"
           }
          },
          "shapedefaults": {
           "line": {
            "color": "#2a3f5f"
           }
          },
          "ternary": {
           "aaxis": {
            "gridcolor": "white",
            "linecolor": "white",
            "ticks": ""
           },
           "baxis": {
            "gridcolor": "white",
            "linecolor": "white",
            "ticks": ""
           },
           "bgcolor": "#E5ECF6",
           "caxis": {
            "gridcolor": "white",
            "linecolor": "white",
            "ticks": ""
           }
          },
          "title": {
           "x": 0.05
          },
          "xaxis": {
           "automargin": true,
           "gridcolor": "white",
           "linecolor": "white",
           "ticks": "",
           "title": {
            "standoff": 15
           },
           "zerolinecolor": "white",
           "zerolinewidth": 2
          },
          "yaxis": {
           "automargin": true,
           "gridcolor": "white",
           "linecolor": "white",
           "ticks": "",
           "title": {
            "standoff": 15
           },
           "zerolinecolor": "white",
           "zerolinewidth": 2
          }
         }
        },
        "xaxis": {
         "anchor": "y",
         "domain": [
          0,
          1
         ],
         "title": {
          "text": "DATE"
         }
        },
        "yaxis": {
         "anchor": "x",
         "domain": [
          0,
          1
         ],
         "title": {
          "text": "value"
         }
        }
       }
      }
     },
     "metadata": {},
     "output_type": "display_data"
    }
   ],
   "source": [
    "px.line(df, x=df.index, y=[\"FFED_diff\", ]).show()"
   ]
  },
  {
   "cell_type": "code",
   "execution_count": null,
   "metadata": {},
   "outputs": [],
   "source": []
  }
 ],
 "metadata": {
  "kernelspec": {
   "display_name": "venv",
   "language": "python",
   "name": "python3"
  },
  "language_info": {
   "codemirror_mode": {
    "name": "ipython",
    "version": 3
   },
   "file_extension": ".py",
   "mimetype": "text/x-python",
   "name": "python",
   "nbconvert_exporter": "python",
   "pygments_lexer": "ipython3",
   "version": "3.11.4"
  }
 },
 "nbformat": 4,
 "nbformat_minor": 2
}
