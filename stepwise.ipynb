{
 "cells": [
  {
   "cell_type": "code",
   "execution_count": 100,
   "metadata": {},
   "outputs": [
    {
     "name": "stdout",
     "output_type": "stream",
     "text": [
      "The autoreload extension is already loaded. To reload it, use:\n",
      "  %reload_ext autoreload\n"
     ]
    }
   ],
   "source": [
    "%load_ext autoreload\n",
    "%autoreload 2"
   ]
  },
  {
   "cell_type": "code",
   "execution_count": 101,
   "metadata": {},
   "outputs": [],
   "source": [
    "import pandas as pd\n",
    "import numpy as np\n",
    "from sklearn import linear_model\n",
    "from sklearn.model_selection import train_test_split\n",
    "from sklearn.metrics import accuracy_score\n",
    "from mlxtend.feature_selection import SequentialFeatureSelector\n",
    "from mlxtend.plotting import plot_sequential_feature_selection as plot_sfs\n",
    "import matplotlib.pyplot as plt\n",
    "\n",
    "from sklearn.model_selection import TimeSeriesSplit\n",
    "\n",
    "\n",
    "import warnings\n",
    "warnings.filterwarnings('ignore')"
   ]
  },
  {
   "cell_type": "code",
   "execution_count": 102,
   "metadata": {},
   "outputs": [],
   "source": [
    "import utils\n",
    "\n",
    "df = utils.load_data()\n",
    "ts, covars_diff, covars_nodiff = utils.df2ts(df)\n",
    "\n",
    "\n",
    "covars_diff_pipeline, covars_diff_scaled = utils.scale_ts(covars_diff, should_diff=True)\n",
    "covars_nodiff_pipeline, covars_nodiff_scaled = utils.scale_ts(\n",
    "    covars_nodiff, should_diff=False\n",
    ")\n",
    "pipeline, ts_scaled = utils.scale_ts(ts, should_diff=True)\n",
    "\n",
    "train_ts_scaled, val_ts_scaled = ts_scaled.split_after(pd.Timestamp(\"2016-01-01\"))\n",
    "train_ts, val_ts = ts.split_after(pd.Timestamp(\"2016-01-01\"))\n",
    "\n",
    "covariates_scaled = covars_diff_scaled.stack(covars_nodiff_scaled)\n",
    "train_covariates_scaled, val_covariates_scaled = covariates_scaled.split_after(\n",
    "    pd.Timestamp(\"2016-01-01\")\n",
    ")"
   ]
  },
  {
   "cell_type": "markdown",
   "metadata": {},
   "source": [
    "# Model Selection"
   ]
  },
  {
   "cell_type": "code",
   "execution_count": 103,
   "metadata": {},
   "outputs": [],
   "source": [
    "from darts.utils.data import tabularization as tab\n",
    "\n",
    "\n",
    "lags_past_covariates = {\n",
    "    \"US_CPI\": [-2],\n",
    "    \"US_PERSONAL_SPENDING_PCE\": [-2],\n",
    "    \"SNP_500\": [-2],\n",
    "    \"NEWS_SENTIMENT\": [-2],\n",
    "    \"FFED\": [-2],\n",
    "    \"US_UNEMPLOYMENT_RATE\": [-2],\n",
    "}\n",
    "X_train, y_train, times, last_static_covariates_shape, sample_weight = tab.create_lagged_training_data(\n",
    "    target_series=train_ts_scaled,\n",
    "    past_covariates=train_covariates_scaled,\n",
    "    output_chunk_length=1,\n",
    "    output_chunk_shift=1,\n",
    "    lags=[-2],\n",
    "    lags_past_covariates=lags_past_covariates,\n",
    "    uses_static_covariates=False,\n",
    ")\n",
    "X_train = X_train.squeeze()\n",
    "y_train = y_train.squeeze()\n",
    "\n",
    "\n",
    "X_test, y_test, times, last_static_covariates_shape, sample_weight = tab.create_lagged_training_data(\n",
    "    target_series=val_ts_scaled,\n",
    "    past_covariates=val_covariates_scaled,\n",
    "    output_chunk_length=1,\n",
    "    output_chunk_shift=1,\n",
    "    lags=[-2],\n",
    "    lags_past_covariates=lags_past_covariates,\n",
    "    uses_static_covariates=False,\n",
    ")\n",
    "X_test = X_test.squeeze()\n",
    "y_test = y_test.squeeze()"
   ]
  },
  {
   "cell_type": "code",
   "execution_count": 104,
   "metadata": {},
   "outputs": [],
   "source": [
    "features_cols_names, label_cols_names = tab.create_lagged_component_names(\n",
    "    ts_scaled, covariates_scaled, lags=[-2], lags_past_covariates=lags_past_covariates, concatenate=False\n",
    ")\n",
    "\n",
    "X_train = pd.DataFrame(X_train, columns=features_cols_names)\n",
    "y_train = pd.DataFrame(y_train, columns=label_cols_names)\n",
    "\n",
    "X_test = pd.DataFrame(X_test, columns=features_cols_names)\n",
    "y_test = pd.DataFrame(y_test, columns=label_cols_names)"
   ]
  },
  {
   "cell_type": "code",
   "execution_count": 105,
   "metadata": {},
   "outputs": [],
   "source": [
    "model = linear_model.LinearRegression()\n",
    "timeseries_crossval = TimeSeriesSplit(n_splits=5)\n",
    "\n",
    "sfs = SequentialFeatureSelector(\n",
    "    model, k_features=(1, 5), scoring=\"neg_mean_squared_error\", forward=True, floating=False, cv=timeseries_crossval\n",
    ")\n",
    "selected_features = sfs.fit(X_train, y_train)\n",
    "\n",
    "X_train = sfs.transform(X_train) #train_df.iloc[:, selected_features.k_feature_idx_]\n",
    "X_test = sfs.transform(X_test)#test_df.iloc[:, selected_features.k_feature_idx_]\n",
    "\n",
    "model.fit(X_train, y_train)\n",
    "\n",
    "pred = model.predict(X_test)\n",
    "\n",
    "diff = y_test - pred\n",
    "mse = diff.pow(2).mean()"
   ]
  },
  {
   "cell_type": "code",
   "execution_count": 106,
   "metadata": {},
   "outputs": [
    {
     "data": {
      "text/plain": [
       "{1: {'feature_idx': (5,),\n",
       "  'cv_scores': array([-0.83020759, -0.57086557, -0.61363643, -0.59063834, -0.40343028]),\n",
       "  'avg_score': -0.6017556428909302,\n",
       "  'feature_names': ('FFED_pastcov_lag-2',)},\n",
       " 2: {'feature_idx': (2, 5),\n",
       "  'cv_scores': array([-0.84537822, -0.5808897 , -0.59986949, -0.62222117, -0.42087317]),\n",
       "  'avg_score': -0.6138463497161866,\n",
       "  'feature_names': ('US_PERSONAL_SPENDING_PCE_pastcov_lag-2',\n",
       "   'FFED_pastcov_lag-2')},\n",
       " 3: {'feature_idx': (2, 5, 6),\n",
       "  'cv_scores': array([-0.93256152, -0.58061296, -0.59879202, -0.61921084, -0.44203317]),\n",
       "  'avg_score': -0.6346421003341675,\n",
       "  'feature_names': ('US_PERSONAL_SPENDING_PCE_pastcov_lag-2',\n",
       "   'FFED_pastcov_lag-2',\n",
       "   'US_UNEMPLOYMENT_RATE_pastcov_lag-2')},\n",
       " 4: {'feature_idx': (0, 2, 5, 6),\n",
       "  'cv_scores': array([-1.03390503, -0.59554285, -0.61080259, -0.62627548, -0.45218483]),\n",
       "  'avg_score': -0.6637421548366547,\n",
       "  'feature_names': ('US_TB_YIELD_10YRS_target_lag-2',\n",
       "   'US_PERSONAL_SPENDING_PCE_pastcov_lag-2',\n",
       "   'FFED_pastcov_lag-2',\n",
       "   'US_UNEMPLOYMENT_RATE_pastcov_lag-2')},\n",
       " 5: {'feature_idx': (0, 2, 4, 5, 6),\n",
       "  'cv_scores': array([-1.14205325, -0.70217943, -0.67603922, -0.64693111, -0.46763819]),\n",
       "  'avg_score': -0.726968240737915,\n",
       "  'feature_names': ('US_TB_YIELD_10YRS_target_lag-2',\n",
       "   'US_PERSONAL_SPENDING_PCE_pastcov_lag-2',\n",
       "   'NEWS_SENTIMENT_pastcov_lag-2',\n",
       "   'FFED_pastcov_lag-2',\n",
       "   'US_UNEMPLOYMENT_RATE_pastcov_lag-2')}}"
      ]
     },
     "execution_count": 106,
     "metadata": {},
     "output_type": "execute_result"
    }
   ],
   "source": [
    "selected_features.subsets_"
   ]
  },
  {
   "cell_type": "code",
   "execution_count": 113,
   "metadata": {},
   "outputs": [
    {
     "data": {
      "text/plain": [
       "<matplotlib.legend.Legend at 0x326c9e210>"
      ]
     },
     "execution_count": 113,
     "metadata": {},
     "output_type": "execute_result"
    },
    {
     "data": {
      "image/png": "[encoded data removed]",
      "text/plain": [
       "<Figure size 1600x800 with 1 Axes>"
      ]
     },
     "metadata": {},
     "output_type": "display_data"
    }
   ],
   "source": [
    "pred = pred.squeeze()\n",
    "\n",
    "# Plot the results\n",
    "\n",
    "# Restore the diff column\n",
    "restored_y_test = y_test.cumsum() + df.loc[\"2015-12-31\", \"FFED\"]\n",
    "restored_pred = pd.Series(pred, index=y_test.index).cumsum() + df.loc[\"2015-12-31\", \"FFED\"]\n",
    "\n",
    "plt.figure(figsize=(16, 8))\n",
    "plt.plot(y_test.index, restored_y_test, label=\"Actual\")\n",
    "plt.plot(y_test.index, restored_pred, label=\"Predicted\")\n",
    "plt.legend()"
   ]
  },
  {
   "cell_type": "code",
   "execution_count": 114,
   "metadata": {},
   "outputs": [
    {
     "data": {
      "text/plain": [
       "('FFED_pastcov_lag-2',)"
      ]
     },
     "execution_count": 114,
     "metadata": {},
     "output_type": "execute_result"
    }
   ],
   "source": [
    "sfs.k_feature_names_"
   ]
  },
  {
   "cell_type": "code",
   "execution_count": 83,
   "metadata": {},
   "outputs": [
    {
     "ename": "NameError",
     "evalue": "name 'plt' is not defined",
     "output_type": "error",
     "traceback": [
      "\u001b[0;31m---------------------------------------------------------------------------\u001b[0m",
      "\u001b[0;31mNameError\u001b[0m                                 Traceback (most recent call last)",
      "Cell \u001b[0;32mIn[83], line 4\u001b[0m\n\u001b[1;32m      1\u001b[0m fig1 \u001b[38;5;241m=\u001b[39m plot_sfs(sfs\u001b[38;5;241m.\u001b[39mget_metric_dict(), kind\u001b[38;5;241m=\u001b[39m\u001b[38;5;124m\"\u001b[39m\u001b[38;5;124mstd_dev\u001b[39m\u001b[38;5;124m\"\u001b[39m)\n\u001b[1;32m      3\u001b[0m \u001b[38;5;66;03m# plt.ylim([0.8, 1])\u001b[39;00m\n\u001b[0;32m----> 4\u001b[0m \u001b[43mplt\u001b[49m\u001b[38;5;241m.\u001b[39mtitle(\u001b[38;5;124m\"\u001b[39m\u001b[38;5;124mSequential Forward Selection (w. StdDev)\u001b[39m\u001b[38;5;124m\"\u001b[39m)\n\u001b[1;32m      5\u001b[0m plt\u001b[38;5;241m.\u001b[39mgrid()\n\u001b[1;32m      6\u001b[0m plt\u001b[38;5;241m.\u001b[39mshow()\n",
      "\u001b[0;31mNameError\u001b[0m: name 'plt' is not defined"
     ]
    },
    {
     "data": {
      "image/png": "[encoded data removed]",
      "text/plain": [
       "<Figure size 640x480 with 1 Axes>"
      ]
     },
     "metadata": {},
     "output_type": "display_data"
    }
   ],
   "source": [
    "fig1 = plot_sfs(sfs.get_metric_dict(), kind=\"std_dev\")\n",
    "\n",
    "# plt.ylim([0.8, 1])\n",
    "plt.title(\"Sequential Forward Selection (w. StdDev)\")\n",
    "plt.grid()\n",
    "plt.show()"
   ]
  },
  {
   "cell_type": "code",
   "execution_count": null,
   "metadata": {},
   "outputs": [],
   "source": [
    "def plot_features(features: list[str]):\n",
    "    features.append(\"FFED_diff\")\n",
    "    px.line(df, x=df.index, y=features).show()"
   ]
  },
  {
   "cell_type": "code",
   "execution_count": null,
   "metadata": {},
   "outputs": [
    {
     "data": {
      "application/vnd.plotly.v1+json": {
       "config": {
        "plotlyServerURL": "https://plot.ly"
       },
       "data": [
        {
         "hovertemplate": "variable=US_CPI_EXCL_FOOD_N_ENERGY_diff<br>DATE=%{x}<br>value=%{y}<extra></extra>",
         "legendgroup": "US_CPI_EXCL_FOOD_N_ENERGY_diff",
         "line": {
          "color": "#636efa",
          "dash": "solid"
         },
         "marker": {
          "symbol": "circle"
         },
         "mode": "lines",
         "name": "US_CPI_EXCL_FOOD_N_ENERGY_diff",
         "showlegend": true,
         "type": "scattergl",
         "x": [
          "1962-03-31T00:00:00",
          "1962-06-30T00:00:00",
          "1962-09-30T00:00:00",
          "1962-12-31T00:00:00",
          "1963-03-31T00:00:00",
          "1963-06-30T00:00:00",
          "1963-09-30T00:00:00",
          "1963-12-31T00:00:00",
          "1964-03-31T00:00:00",
          "1964-06-30T00:00:00",
          "1964-09-30T00:00:00",
          "1964-12-31T00:00:00",
          "1965-03-31T00:00:00",
          "1965-06-30T00:00:00",
          "1965-09-30T00:00:00",
          "1965-12-31T00:00:00",
          "1966-03-31T00:00:00",
          "1966-06-30T00:00:00",
          "1966-09-30T00:00:00",
          "1966-12-31T00:00:00",
          "1967-03-31T00:00:00",
          "1967-06-30T00:00:00",
          "1967-09-30T00:00:00",
          "1967-12-31T00:00:00",
          "1968-03-31T00:00:00",
          "1968-06-30T00:00:00",
          "1968-09-30T00:00:00",
          "1968-12-31T00:00:00",
          "1969-03-31T00:00:00",
          "1969-06-30T00:00:00",
          "1969-09-30T00:00:00",
          "1969-12-31T00:00:00",
          "1970-03-31T00:00:00",
          "1970-06-30T00:00:00",
          "1970-09-30T00:00:00",
          "1970-12-31T00:00:00",
          "1971-03-31T00:00:00",
          "1971-06-30T00:00:00",
          "1971-09-30T00:00:00",
          "1971-12-31T00:00:00",
          "1972-03-31T00:00:00",
          "1972-06-30T00:00:00",
          "1972-09-30T00:00:00",
          "1972-12-31T00:00:00",
          "1973-03-31T00:00:00",
          "1973-06-30T00:00:00",
          "1973-09-30T00:00:00",
          "1973-12-31T00:00:00",
          "1974-03-31T00:00:00",
          "1974-06-30T00:00:00",
          "1974-09-30T00:00:00",
          "1974-12-31T00:00:00",
          "1975-03-31T00:00:00",
          "1975-06-30T00:00:00",
          "1975-09-30T00:00:00",
          "1975-12-31T00:00:00",
          "1976-03-31T00:00:00",
          "1976-06-30T00:00:00",
          "1976-09-30T00:00:00",
          "1976-12-31T00:00:00",
          "1977-03-31T00:00:00",
          "1977-06-30T00:00:00",
          "1977-09-30T00:00:00",
          "1977-12-31T00:00:00",
          "1978-03-31T00:00:00",
          "1978-06-30T00:00:00",
          "1978-09-30T00:00:00",
          "1978-12-31T00:00:00",
          "1979-03-31T00:00:00",
          "1979-06-30T00:00:00",
          "1979-09-30T00:00:00",
          "1979-12-31T00:00:00",
          "1980-03-31T00:00:00",
          "1980-06-30T00:00:00",
          "1980-09-30T00:00:00",
          "1980-12-31T00:00:00",
          "1981-03-31T00:00:00",
          "1981-06-30T00:00:00",
          "1981-09-30T00:00:00",
          "1981-12-31T00:00:00",
          "1982-03-31T00:00:00",
          "1982-06-30T00:00:00",
          "1982-09-30T00:00:00",
          "1982-12-31T00:00:00",
          "1983-03-31T00:00:00",
          "1983-06-30T00:00:00",
          "1983-09-30T00:00:00",
          "1983-12-31T00:00:00",
          "1984-03-31T00:00:00",
          "1984-06-30T00:00:00",
          "1984-09-30T00:00:00",
          "1984-12-31T00:00:00",
          "1985-03-31T00:00:00",
          "1985-06-30T00:00:00",
          "1985-09-30T00:00:00",
          "1985-12-31T00:00:00",
          "1986-03-31T00:00:00",
          "1986-06-30T00:00:00",
          "1986-09-30T00:00:00",
          "1986-12-31T00:00:00",
          "1987-03-31T00:00:00",
          "1987-06-30T00:00:00",
          "1987-09-30T00:00:00",
          "1987-12-31T00:00:00",
          "1988-03-31T00:00:00",
          "1988-06-30T00:00:00",
          "1988-09-30T00:00:00",
          "1988-12-31T00:00:00",
          "1989-03-31T00:00:00",
          "1989-06-30T00:00:00",
          "1989-09-30T00:00:00",
          "1989-12-31T00:00:00",
          "1990-03-31T00:00:00",
          "1990-06-30T00:00:00",
          "1990-09-30T00:00:00",
          "1990-12-31T00:00:00",
          "1991-03-31T00:00:00",
          "1991-06-30T00:00:00",
          "1991-09-30T00:00:00",
          "1991-12-31T00:00:00",
          "1992-03-31T00:00:00",
          "1992-06-30T00:00:00",
          "1992-09-30T00:00:00",
          "1992-12-31T00:00:00",
          "1993-03-31T00:00:00",
          "1993-06-30T00:00:00",
          "1993-09-30T00:00:00",
          "1993-12-31T00:00:00",
          "1994-03-31T00:00:00",
          "1994-06-30T00:00:00",
          "1994-09-30T00:00:00",
          "1994-12-31T00:00:00",
          "1995-03-31T00:00:00",
          "1995-06-30T00:00:00",
          "1995-09-30T00:00:00",
          "1995-12-31T00:00:00",
          "1996-03-31T00:00:00",
          "1996-06-30T00:00:00",
          "1996-09-30T00:00:00",
          "1996-12-31T00:00:00",
          "1997-03-31T00:00:00",
          "1997-06-30T00:00:00",
          "1997-09-30T00:00:00",
          "1997-12-31T00:00:00",
          "1998-03-31T00:00:00",
          "1998-06-30T00:00:00",
          "1998-09-30T00:00:00",
          "1998-12-31T00:00:00",
          "1999-03-31T00:00:00",
          "1999-06-30T00:00:00",
          "1999-09-30T00:00:00",
          "1999-12-31T00:00:00",
          "2000-03-31T00:00:00",
          "2000-06-30T00:00:00",
          "2000-09-30T00:00:00",
          "2000-12-31T00:00:00",
          "2001-03-31T00:00:00",
          "2001-06-30T00:00:00",
          "2001-09-30T00:00:00",
          "2001-12-31T00:00:00",
          "2002-03-31T00:00:00",
          "2002-06-30T00:00:00",
          "2002-09-30T00:00:00",
          "2002-12-31T00:00:00",
          "2003-03-31T00:00:00",
          "2003-06-30T00:00:00",
          "2003-09-30T00:00:00",
          "2003-12-31T00:00:00",
          "2004-03-31T00:00:00",
          "2004-06-30T00:00:00",
          "2004-09-30T00:00:00",
          "2004-12-31T00:00:00",
          "2005-03-31T00:00:00",
          "2005-06-30T00:00:00",
          "2005-09-30T00:00:00",
          "2005-12-31T00:00:00",
          "2006-03-31T00:00:00",
          "2006-06-30T00:00:00",
          "2006-09-30T00:00:00",
          "2006-12-31T00:00:00",
          "2007-03-31T00:00:00",
          "2007-06-30T00:00:00",
          "2007-09-30T00:00:00",
          "2007-12-31T00:00:00",
          "2008-03-31T00:00:00",
          "2008-06-30T00:00:00",
          "2008-09-30T00:00:00",
          "2008-12-31T00:00:00",
          "2009-03-31T00:00:00",
          "2009-06-30T00:00:00",
          "2009-09-30T00:00:00",
          "2009-12-31T00:00:00",
          "2010-03-31T00:00:00",
          "2010-06-30T00:00:00",
          "2010-09-30T00:00:00",
          "2010-12-31T00:00:00",
          "2011-03-31T00:00:00",
          "2011-06-30T00:00:00",
          "2011-09-30T00:00:00",
          "2011-12-31T00:00:00",
          "2012-03-31T00:00:00",
          "2012-06-30T00:00:00",
          "2012-09-30T00:00:00",
          "2012-12-31T00:00:00",
          "2013-03-31T00:00:00",
          "2013-06-30T00:00:00",
          "2013-09-30T00:00:00",
          "2013-12-31T00:00:00",
          "2014-03-31T00:00:00",
          "2014-06-30T00:00:00",
          "2014-09-30T00:00:00",
          "2014-12-31T00:00:00",
          "2015-03-31T00:00:00",
          "2015-06-30T00:00:00",
          "2015-09-30T00:00:00",
          "2015-12-31T00:00:00",
          "2016-03-31T00:00:00",
          "2016-06-30T00:00:00",
          "2016-09-30T00:00:00",
          "2016-12-31T00:00:00",
          "2017-03-31T00:00:00",
          "2017-06-30T00:00:00",
          "2017-09-30T00:00:00",
          "2017-12-31T00:00:00",
          "2018-03-31T00:00:00",
          "2018-06-30T00:00:00",
          "2018-09-30T00:00:00",
          "2018-12-31T00:00:00",
          "2019-03-31T00:00:00",
          "2019-06-30T00:00:00",
          "2019-09-30T00:00:00",
          "2019-12-31T00:00:00",
          "2020-03-31T00:00:00",
          "2020-06-30T00:00:00",
          "2020-09-30T00:00:00",
          "2020-12-31T00:00:00",
          "2021-03-31T00:00:00",
          "2021-06-30T00:00:00",
          "2021-09-30T00:00:00",
          "2021-12-31T00:00:00",
          "2022-03-31T00:00:00",
          "2022-06-30T00:00:00",
          "2022-09-30T00:00:00",
          "2022-12-31T00:00:00",
          "2023-03-31T00:00:00",
          "2023-06-30T00:00:00",
          "2023-09-30T00:00:00",
          "2023-12-31T00:00:00",
          "2024-03-31T00:00:00",
          "2024-06-30T00:00:00",
          "2024-09-30T00:00:00"
         ],
         "xaxis": "x",
         "y": [
          null,
          0.10000000000000142,
          0.11428571428571388,
          0.08571428571428541,
          0.04262295081967338,
          0.1399167317200103,
          0.11433531746031633,
          0.14902663934426386,
          0.18032786885245855,
          0.07377049180328044,
          0.08281249999999574,
          0.07620389344262435,
          0.18852459016393652,
          0.10089651639344055,
          0.05156250000000284,
          0.09344262295081762,
          0.20338277387457993,
          0.2174603174603149,
          0.33571428571428186,
          0.3200000000000003,
          0.25786885245901914,
          0.22213114754098484,
          0.31190476190476346,
          0.3758001561280224,
          0.3929402432575344,
          0.41290322580644556,
          0.4314516129032313,
          0.4991935483870975,
          0.4870967741935459,
          0.6434715821812631,
          0.48412698412698063,
          0.5750455373406282,
          0.5127322404371526,
          0.7325641025641048,
          0.6157692307692244,
          0.5651639344262307,
          0.6344262295082004,
          0.3035348360655732,
          0.5031249999999972,
          0.23104508196721696,
          0.3330174180327887,
          0.3218749999999986,
          0.34471726190476204,
          0.2830952380952354,
          0.2388709677419314,
          0.46374807987712074,
          0.4111111111111114,
          0.631269841269841,
          0.685409836065574,
          0.9833203226645821,
          1.4990823412698404,
          1.611039959016395,
          1.227814207650269,
          1.0392708333333331,
          0.7359375000000057,
          0.7527151639344254,
          1.0592808038075106,
          0.9130040322580655,
          0.8156249999999972,
          0.8973360655737679,
          0.8028623471246448,
          1.0349206349206383,
          0.93333333333333,
          0.7840476190476195,
          0.9809016393442604,
          1.1937809003382824,
          1.3428571428571416,
          1.4748373666406422,
          1.3781068217874122,
          1.774193548387089,
          1.6030209933435913,
          1.9594327348425509,
          2.4972236911687133,
          2.8449308755760256,
          1.898214285714289,
          1.6465163934426243,
          2.5639344262295225,
          1.7024460057246813,
          2.444915674603166,
          2.6018186475409806,
          1.3540983606557404,
          1.2550204918032932,
          1.9609374999999858,
          0.9545338114754145,
          0.16835805360395284,
          0.9476190476190567,
          1.0873015873015817,
          1.2033333333333331,
          1.4095698924731153,
          1.3251920122887952,
          1.2873015873015845,
          1.1926359614884205,
          0.9903005464480827,
          1.3218253968254032,
          1.0126984126984127,
          1.0232718894009167,
          1.3288709677419348,
          1.0690625000000011,
          0.9359374999999943,
          1.1483870967741865,
          0.9843997884717197,
          1.1941972417382232,
          1.1886408730158848,
          1.3166330645161253,
          1.2048387096774178,
          1.3422683051715296,
          1.4034474206349188,
          1.4614497950819612,
          1.3655737704918067,
          1.3901639344262406,
          1.3507936507936478,
          1.2637224782386056,
          1.5999999999999943,
          1.860087045570907,
          1.7507936507936392,
          1.8487967229903006,
          1.6708064516129184,
          1.7487499999999727,
          1.348437500000017,
          1.4578124999999886,
          1.333870967741916,
          1.2486687147977875,
          1.250272817460285,
          1.118800403225805,
          1.3959280803807417,
          1.2743340163934818,
          1.104687499999983,
          0.9685987903225737,
          1.170967741935499,
          1.0145161290322449,
          1.1521673387096882,
          1.078662909836055,
          1.0562665256477999,
          1.4513056835637599,
          1.1174603174603135,
          1.1586533538146568,
          1.0048387096773865,
          1.0843750000000227,
          1.0328125000000057,
          1.0699092741935488,
          0.9829032258064672,
          1.0581249999999898,
          0.8953124999999886,
          0.812046370967721,
          1.0268112109995116,
          0.9916731720010148,
          1.0100942460317412,
          0.9456149193548526,
          1.077207826546811,
          0.6238839848676037,
          0.8532932692307327,
          1.0278729838709921,
          1.0572708653353686,
          1.1730158730158848,
          1.1619047619047365,
          1.1432923707117482,
          1.1790322580645238,
          1.2681515616999377,
          1.2172001040853502,
          1.1307773664727563,
          1.2874193548387325,
          0.9556249999999693,
          0.9359374999999943,
          1.0016633064516327,
          0.8066102591221522,
          0.3536559979183096,
          0.6427579365079339,
          0.6147177419354648,
          0.585483870967721,
          1.2316436251920493,
          1.0025297619047535,
          0.9948588709677324,
          1.146483342147036,
          1.294595286885226,
          0.6906250000000114,
          0.880353483606541,
          1.3443945002644284,
          1.5477470558115556,
          1.542857142857173,
          1.2529441884280175,
          1.0093548387096973,
          1.236895665322578,
          0.9828053075396781,
          1.2087022529442208,
          1.5825613432046168,
          1.0930560963114715,
          1.2125625000000184,
          1.045239415322584,
          0.4882567424643298,
          1.2247327608638727,
          0.7625054563492029,
          0.9581985887096778,
          0.6000386039133048,
          0.07534501891547052,
          0.4456990384615551,
          0.514352822580662,
          0.8074677419354828,
          1.0379324116743476,
          1.3572782738094986,
          1.3188099385245948,
          1.2615116340560633,
          1.1065065524193471,
          1.090845982142838,
          1.0147259953161836,
          1.1293478142076765,
          0.8930645833333131,
          0.8183124999999905,
          1.17197076612905,
          1.0151731887889923,
          1.0278495966692844,
          1.1588814484126715,
          0.950676411290317,
          0.786313855103117,
          1.2720409836065585,
          1.2829843750000123,
          1.2216769153225755,
          1.2685108408249448,
          1.4866247438524738,
          1.4630312500000002,
          1.2244095799180457,
          1.2333106821787112,
          0.9522214541730989,
          0.7646666666666704,
          1.2378376856118791,
          1.563291380222097,
          1.7360438012294992,
          1.0958271329365061,
          1.0447520166536606,
          1.720983606557354,
          1.4459945355191621,
          1.2597864583332807,
          1.6312081653226187,
          1.7203064516129416,
          0.11946082949305037,
          0.1926495535714139,
          2.4137283266128975,
          1.3020132205182335,
          2.351918789407364,
          5.07090216346154,
          2.9551658266128698,
          5.100838709677419,
          4.003983870967772,
          4.558839717741932,
          4.1423345286885365,
          3.4694547858275655,
          3.8038054275473883,
          2.7440317460317374,
          2.34835637480802,
          2.807827075621333,
          3.254689565443641,
          1.4069841269841277
         ],
         "yaxis": "y"
        },
        {
         "hovertemplate": "variable=CANADA_CPI_diff<br>DATE=%{x}<br>value=%{y}<extra></extra>",
         "legendgroup": "CANADA_CPI_diff",
         "line": {
          "color": "#EF553B",
          "dash": "solid"
         },
         "marker": {
          "symbol": "circle"
         },
         "mode": "lines",
         "name": "CANADA_CPI_diff",
         "showlegend": true,
         "type": "scattergl",
         "x": [
          "1962-03-31T00:00:00",
          "1962-06-30T00:00:00",
          "1962-09-30T00:00:00",
          "1962-12-31T00:00:00",
          "1963-03-31T00:00:00",
          "1963-06-30T00:00:00",
          "1963-09-30T00:00:00",
          "1963-12-31T00:00:00",
          "1964-03-31T00:00:00",
          "1964-06-30T00:00:00",
          "1964-09-30T00:00:00",
          "1964-12-31T00:00:00",
          "1965-03-31T00:00:00",
          "1965-06-30T00:00:00",
          "1965-09-30T00:00:00",
          "1965-12-31T00:00:00",
          "1966-03-31T00:00:00",
          "1966-06-30T00:00:00",
          "1966-09-30T00:00:00",
          "1966-12-31T00:00:00",
          "1967-03-31T00:00:00",
          "1967-06-30T00:00:00",
          "1967-09-30T00:00:00",
          "1967-12-31T00:00:00",
          "1968-03-31T00:00:00",
          "1968-06-30T00:00:00",
          "1968-09-30T00:00:00",
          "1968-12-31T00:00:00",
          "1969-03-31T00:00:00",
          "1969-06-30T00:00:00",
          "1969-09-30T00:00:00",
          "1969-12-31T00:00:00",
          "1970-03-31T00:00:00",
          "1970-06-30T00:00:00",
          "1970-09-30T00:00:00",
          "1970-12-31T00:00:00",
          "1971-03-31T00:00:00",
          "1971-06-30T00:00:00",
          "1971-09-30T00:00:00",
          "1971-12-31T00:00:00",
          "1972-03-31T00:00:00",
          "1972-06-30T00:00:00",
          "1972-09-30T00:00:00",
          "1972-12-31T00:00:00",
          "1973-03-31T00:00:00",
          "1973-06-30T00:00:00",
          "1973-09-30T00:00:00",
          "1973-12-31T00:00:00",
          "1974-03-31T00:00:00",
          "1974-06-30T00:00:00",
          "1974-09-30T00:00:00",
          "1974-12-31T00:00:00",
          "1975-03-31T00:00:00",
          "1975-06-30T00:00:00",
          "1975-09-30T00:00:00",
          "1975-12-31T00:00:00",
          "1976-03-31T00:00:00",
          "1976-06-30T00:00:00",
          "1976-09-30T00:00:00",
          "1976-12-31T00:00:00",
          "1977-03-31T00:00:00",
          "1977-06-30T00:00:00",
          "1977-09-30T00:00:00",
          "1977-12-31T00:00:00",
          "1978-03-31T00:00:00",
          "1978-06-30T00:00:00",
          "1978-09-30T00:00:00",
          "1978-12-31T00:00:00",
          "1979-03-31T00:00:00",
          "1979-06-30T00:00:00",
          "1979-09-30T00:00:00",
          "1979-12-31T00:00:00",
          "1980-03-31T00:00:00",
          "1980-06-30T00:00:00",
          "1980-09-30T00:00:00",
          "1980-12-31T00:00:00",
          "1981-03-31T00:00:00",
          "1981-06-30T00:00:00",
          "1981-09-30T00:00:00",
          "1981-12-31T00:00:00",
          "1982-03-31T00:00:00",
          "1982-06-30T00:00:00",
          "1982-09-30T00:00:00",
          "1982-12-31T00:00:00",
          "1983-03-31T00:00:00",
          "1983-06-30T00:00:00",
          "1983-09-30T00:00:00",
          "1983-12-31T00:00:00",
          "1984-03-31T00:00:00",
          "1984-06-30T00:00:00",
          "1984-09-30T00:00:00",
          "1984-12-31T00:00:00",
          "1985-03-31T00:00:00",
          "1985-06-30T00:00:00",
          "1985-09-30T00:00:00",
          "1985-12-31T00:00:00",
          "1986-03-31T00:00:00",
          "1986-06-30T00:00:00",
          "1986-09-30T00:00:00",
          "1986-12-31T00:00:00",
          "1987-03-31T00:00:00",
          "1987-06-30T00:00:00",
          "1987-09-30T00:00:00",
          "1987-12-31T00:00:00",
          "1988-03-31T00:00:00",
          "1988-06-30T00:00:00",
          "1988-09-30T00:00:00",
          "1988-12-31T00:00:00",
          "1989-03-31T00:00:00",
          "1989-06-30T00:00:00",
          "1989-09-30T00:00:00",
          "1989-12-31T00:00:00",
          "1990-03-31T00:00:00",
          "1990-06-30T00:00:00",
          "1990-09-30T00:00:00",
          "1990-12-31T00:00:00",
          "1991-03-31T00:00:00",
          "1991-06-30T00:00:00",
          "1991-09-30T00:00:00",
          "1991-12-31T00:00:00",
          "1992-03-31T00:00:00",
          "1992-06-30T00:00:00",
          "1992-09-30T00:00:00",
          "1992-12-31T00:00:00",
          "1993-03-31T00:00:00",
          "1993-06-30T00:00:00",
          "1993-09-30T00:00:00",
          "1993-12-31T00:00:00",
          "1994-03-31T00:00:00",
          "1994-06-30T00:00:00",
          "1994-09-30T00:00:00",
          "1994-12-31T00:00:00",
          "1995-03-31T00:00:00",
          "1995-06-30T00:00:00",
          "1995-09-30T00:00:00",
          "1995-12-31T00:00:00",
          "1996-03-31T00:00:00",
          "1996-06-30T00:00:00",
          "1996-09-30T00:00:00",
          "1996-12-31T00:00:00",
          "1997-03-31T00:00:00",
          "1997-06-30T00:00:00",
          "1997-09-30T00:00:00",
          "1997-12-31T00:00:00",
          "1998-03-31T00:00:00",
          "1998-06-30T00:00:00",
          "1998-09-30T00:00:00",
          "1998-12-31T00:00:00",
          "1999-03-31T00:00:00",
          "1999-06-30T00:00:00",
          "1999-09-30T00:00:00",
          "1999-12-31T00:00:00",
          "2000-03-31T00:00:00",
          "2000-06-30T00:00:00",
          "2000-09-30T00:00:00",
          "2000-12-31T00:00:00",
          "2001-03-31T00:00:00",
          "2001-06-30T00:00:00",
          "2001-09-30T00:00:00",
          "2001-12-31T00:00:00",
          "2002-03-31T00:00:00",
          "2002-06-30T00:00:00",
          "2002-09-30T00:00:00",
          "2002-12-31T00:00:00",
          "2003-03-31T00:00:00",
          "2003-06-30T00:00:00",
          "2003-09-30T00:00:00",
          "2003-12-31T00:00:00",
          "2004-03-31T00:00:00",
          "2004-06-30T00:00:00",
          "2004-09-30T00:00:00",
          "2004-12-31T00:00:00",
          "2005-03-31T00:00:00",
          "2005-06-30T00:00:00",
          "2005-09-30T00:00:00",
          "2005-12-31T00:00:00",
          "2006-03-31T00:00:00",
          "2006-06-30T00:00:00",
          "2006-09-30T00:00:00",
          "2006-12-31T00:00:00",
          "2007-03-31T00:00:00",
          "2007-06-30T00:00:00",
          "2007-09-30T00:00:00",
          "2007-12-31T00:00:00",
          "2008-03-31T00:00:00",
          "2008-06-30T00:00:00",
          "2008-09-30T00:00:00",
          "2008-12-31T00:00:00",
          "2009-03-31T00:00:00",
          "2009-06-30T00:00:00",
          "2009-09-30T00:00:00",
          "2009-12-31T00:00:00",
          "2010-03-31T00:00:00",
          "2010-06-30T00:00:00",
          "2010-09-30T00:00:00",
          "2010-12-31T00:00:00",
          "2011-03-31T00:00:00",
          "2011-06-30T00:00:00",
          "2011-09-30T00:00:00",
          "2011-12-31T00:00:00",
          "2012-03-31T00:00:00",
          "2012-06-30T00:00:00",
          "2012-09-30T00:00:00",
          "2012-12-31T00:00:00",
          "2013-03-31T00:00:00",
          "2013-06-30T00:00:00",
          "2013-09-30T00:00:00",
          "2013-12-31T00:00:00",
          "2014-03-31T00:00:00",
          "2014-06-30T00:00:00",
          "2014-09-30T00:00:00",
          "2014-12-31T00:00:00",
          "2015-03-31T00:00:00",
          "2015-06-30T00:00:00",
          "2015-09-30T00:00:00",
          "2015-12-31T00:00:00",
          "2016-03-31T00:00:00",
          "2016-06-30T00:00:00",
          "2016-09-30T00:00:00",
          "2016-12-31T00:00:00",
          "2017-03-31T00:00:00",
          "2017-06-30T00:00:00",
          "2017-09-30T00:00:00",
          "2017-12-31T00:00:00",
          "2018-03-31T00:00:00",
          "2018-06-30T00:00:00",
          "2018-09-30T00:00:00",
          "2018-12-31T00:00:00",
          "2019-03-31T00:00:00",
          "2019-06-30T00:00:00",
          "2019-09-30T00:00:00",
          "2019-12-31T00:00:00",
          "2020-03-31T00:00:00",
          "2020-06-30T00:00:00",
          "2020-09-30T00:00:00",
          "2020-12-31T00:00:00",
          "2021-03-31T00:00:00",
          "2021-06-30T00:00:00",
          "2021-09-30T00:00:00",
          "2021-12-31T00:00:00",
          "2022-03-31T00:00:00",
          "2022-06-30T00:00:00",
          "2022-09-30T00:00:00",
          "2022-12-31T00:00:00",
          "2023-03-31T00:00:00",
          "2023-06-30T00:00:00",
          "2023-09-30T00:00:00",
          "2023-12-31T00:00:00",
          "2024-03-31T00:00:00",
          "2024-06-30T00:00:00",
          "2024-09-30T00:00:00"
         ],
         "xaxis": "x",
         "y": [
          null,
          0.047619047619049226,
          0.14920634920634868,
          0.07038771792870158,
          0.03278688524590123,
          0,
          0.11250000000000071,
          0.11864754098360564,
          0.06885245901639436,
          0.04843749999999858,
          0.10000000000000142,
          0.05156249999999929,
          0.08196721311475486,
          0.06647028688524514,
          0.21718749999999787,
          0.0474897540983612,
          0.1837106427270392,
          0.2365079365079339,
          0.16666666666666785,
          0.10000000000000142,
          0.0819672131147513,
          0.1680327868852487,
          0.2960317460317441,
          0.1539682539682552,
          0.12741935483870748,
          0.1548387096774242,
          0.2114919354838669,
          0.2288306451612918,
          0.1774193548387082,
          0.2238095238095248,
          0.32063492063492305,
          0.15555555555555145,
          0.21000000000000085,
          0.13923076923077105,
          0.14764423076923094,
          0.022797131147537897,
          -0.04098360655737565,
          0.21818647540983704,
          0.3171874999999993,
          0.25315061475409806,
          0.17966188524590265,
          0.28749999999999787,
          0.2402281746031747,
          0.4053968253968243,
          0.2167741935483889,
          0.4619559651817724,
          0.5920634920634917,
          0.5925396825396803,
          0.4451912568306007,
          0.7257611241217816,
          0.8919642857142875,
          0.7117827868852444,
          0.6469672131147561,
          0.5584374999999966,
          0.8609375000000021,
          0.7221823770491831,
          0.5531200423056539,
          0.404385080645163,
          0.5015625000000021,
          0.40322745901639223,
          0.48511579495186297,
          0.8444444444444414,
          0.7809523809523782,
          0.618968253968255,
          0.6918306010928958,
          0.7860265417642509,
          1.0253968253968253,
          0.5705438459536865,
          0.6585140137493326,
          1.1032258064516185,
          0.8883512544802841,
          0.7695810564663006,
          0.9162612374405086,
          1.057014848950324,
          1.2646081349206426,
          1.1637551229508247,
          1.368852459016388,
          1.539292219620087,
          1.510912698412696,
          1.292418032786891,
          1.1377049180327816,
          1.602689549180326,
          1.5328125000000057,
          0.8923668032786836,
          0.5247462919594099,
          0.725396825396821,
          0.8778025793650812,
          0.6815625000000054,
          0.5280645161290352,
          0.6713005632360449,
          0.5460317460317441,
          0.3746031746031733,
          0.5750000000000028,
          0.7789682539682516,
          0.7317460317460345,
          0.41105990783409396,
          0.7082258064516154,
          0.7168750000000017,
          0.7171875000000085,
          0.5867439516128883,
          0.6955050237969402,
          0.7977361436377919,
          0.9543898809523768,
          0.4620463709677267,
          0.5435483870967914,
          0.8193804403481693,
          0.8843998015873069,
          0.5942366803278816,
          0.572131147540972,
          1.2195696721311435,
          1.3328373015873183,
          0.6451868919610746,
          0.6983870967741836,
          1.0707117255504386,
          0.7888888888888914,
          0.8371735791090629,
          1.7247311827956935,
          1.4333333333333371,
          0.7890625,
          0.04480846774194447,
          0.03064516129030892,
          0.4465949820788637,
          0.45138888888888573,
          0.23750000000001137,
          0.5918032786885021,
          0.35507172131148934,
          0.26874999999999716,
          0.3392137096774235,
          0.17903225806450962,
          -0.6661290322580555,
          0.16507056451612812,
          0.3212858606557347,
          0.6265468006345856,
          0.870148489503336,
          0.4126984126984041,
          0.009088581669217888,
          0.17258064516128968,
          0.6251512096774263,
          0.4296875,
          0.22419354838709182,
          0.5858064516129105,
          0.3853124999999977,
          0.2828125000000057,
          0.10897177419353454,
          0.08339502908515328,
          0.41204787926098163,
          0.30027281746032486,
          0.0494455645161338,
          0.03331570597566724,
          0.7498108448928207,
          0.7814903846153811,
          0.5789314516129025,
          0.10673323092677833,
          0.9285714285714306,
          0.9111111111110972,
          0.6326164874551949,
          0.40322580645162986,
          0.9546338965693622,
          1.0315638823835656,
          -0.3281332628239113,
          -0.7094623655913921,
          1.580833333333345,
          1.1281249999999972,
          0.8634072580645267,
          0.6045742993125174,
          1.0417902680197813,
          -0.13008432539682246,
          0.36436491935482707,
          0.30322580645162134,
          0.7974142345110096,
          0.9396825396825363,
          0.11612903225805837,
          0.32649391856161003,
          0.9198770491803288,
          0.671875,
          0.9328381147541052,
          -0.09785827604443398,
          1.0179467485919105,
          0.7269841269841351,
          -0.3658986175115331,
          0.2161290322580811,
          1.8151713709677324,
          0.659995039682542,
          -0.18806963645671715,
          0.18117398202006996,
          1.1937756147541023,
          2.285937500000003,
          -0.3447580645161281,
          -1.6480698043363304,
          0.6247723132969156,
          0.7930555555555543,
          -0.10846774193549891,
          0.3676890534108992,
          0.7463556116015155,
          0.6584855769230842,
          0.6161794354838719,
          0.566129032258047,
          1.8335893497183946,
          0.571602182539678,
          0.5568391393442624,
          -0.015256478053927935,
          1.2177923387096712,
          -0.16589781746031917,
          0.332214415820971,
          -0.4780874316939929,
          1.2711458333333354,
          0.24062499999999432,
          0.0693044354838861,
          -0.06036488630354597,
          1.8950039032006174,
          0.8319940476190482,
          -0.02147177419354307,
          -1.033395029085142,
          1.476741803278685,
          0.9906250000000085,
          -0.02268145161291102,
          -0.3791115811739729,
          1.245543032786884,
          0.8734374999999943,
          -0.06160348360654666,
          0.12657324167105344,
          1.152713773681512,
          0.3015873015873183,
          0.4069892473118273,
          0.5629561078794438,
          1.6373463114753974,
          0.8435019841269877,
          0.047020556856608664,
          -0.31311475409836476,
          1.9962529274004908,
          1.049776785714272,
          -0.17696572580643988,
          0.18709677419354875,
          -0.2995903737839285,
          0.6082093253968139,
          0.2526713709677608,
          0.71369645690109,
          1.995435056746544,
          1.883509615384611,
          1.5412298387096826,
          1.4919354838709467,
          4.440322580645187,
          3.4249495967741836,
          0.48491290983605495,
          0.5094923320994269,
          2.088556067588314,
          1.8761904761904589,
          0.9255760368663744,
          -0.155552617662579,
          1.6490241998438648,
          1.4761904761904532
         ],
         "yaxis": "y"
        },
        {
         "hovertemplate": "variable=US_TB_YIELD_1YR_diff<br>DATE=%{x}<br>value=%{y}<extra></extra>",
         "legendgroup": "US_TB_YIELD_1YR_diff",
         "line": {
          "color": "#00cc96",
          "dash": "solid"
         },
         "marker": {
          "symbol": "circle"
         },
         "mode": "lines",
         "name": "US_TB_YIELD_1YR_diff",
         "showlegend": true,
         "type": "scattergl",
         "x": [
          "1962-03-31T00:00:00",
          "1962-06-30T00:00:00",
          "1962-09-30T00:00:00",
          "1962-12-31T00:00:00",
          "1963-03-31T00:00:00",
          "1963-06-30T00:00:00",
          "1963-09-30T00:00:00",
          "1963-12-31T00:00:00",
          "1964-03-31T00:00:00",
          "1964-06-30T00:00:00",
          "1964-09-30T00:00:00",
          "1964-12-31T00:00:00",
          "1965-03-31T00:00:00",
          "1965-06-30T00:00:00",
          "1965-09-30T00:00:00",
          "1965-12-31T00:00:00",
          "1966-03-31T00:00:00",
          "1966-06-30T00:00:00",
          "1966-09-30T00:00:00",
          "1966-12-31T00:00:00",
          "1967-03-31T00:00:00",
          "1967-06-30T00:00:00",
          "1967-09-30T00:00:00",
          "1967-12-31T00:00:00",
          "1968-03-31T00:00:00",
          "1968-06-30T00:00:00",
          "1968-09-30T00:00:00",
          "1968-12-31T00:00:00",
          "1969-03-31T00:00:00",
          "1969-06-30T00:00:00",
          "1969-09-30T00:00:00",
          "1969-12-31T00:00:00",
          "1970-03-31T00:00:00",
          "1970-06-30T00:00:00",
          "1970-09-30T00:00:00",
          "1970-12-31T00:00:00",
          "1971-03-31T00:00:00",
          "1971-06-30T00:00:00",
          "1971-09-30T00:00:00",
          "1971-12-31T00:00:00",
          "1972-03-31T00:00:00",
          "1972-06-30T00:00:00",
          "1972-09-30T00:00:00",
          "1972-12-31T00:00:00",
          "1973-03-31T00:00:00",
          "1973-06-30T00:00:00",
          "1973-09-30T00:00:00",
          "1973-12-31T00:00:00",
          "1974-03-31T00:00:00",
          "1974-06-30T00:00:00",
          "1974-09-30T00:00:00",
          "1974-12-31T00:00:00",
          "1975-03-31T00:00:00",
          "1975-06-30T00:00:00",
          "1975-09-30T00:00:00",
          "1975-12-31T00:00:00",
          "1976-03-31T00:00:00",
          "1976-06-30T00:00:00",
          "1976-09-30T00:00:00",
          "1976-12-31T00:00:00",
          "1977-03-31T00:00:00",
          "1977-06-30T00:00:00",
          "1977-09-30T00:00:00",
          "1977-12-31T00:00:00",
          "1978-03-31T00:00:00",
          "1978-06-30T00:00:00",
          "1978-09-30T00:00:00",
          "1978-12-31T00:00:00",
          "1979-03-31T00:00:00",
          "1979-06-30T00:00:00",
          "1979-09-30T00:00:00",
          "1979-12-31T00:00:00",
          "1980-03-31T00:00:00",
          "1980-06-30T00:00:00",
          "1980-09-30T00:00:00",
          "1980-12-31T00:00:00",
          "1981-03-31T00:00:00",
          "1981-06-30T00:00:00",
          "1981-09-30T00:00:00",
          "1981-12-31T00:00:00",
          "1982-03-31T00:00:00",
          "1982-06-30T00:00:00",
          "1982-09-30T00:00:00",
          "1982-12-31T00:00:00",
          "1983-03-31T00:00:00",
          "1983-06-30T00:00:00",
          "1983-09-30T00:00:00",
          "1983-12-31T00:00:00",
          "1984-03-31T00:00:00",
          "1984-06-30T00:00:00",
          "1984-09-30T00:00:00",
          "1984-12-31T00:00:00",
          "1985-03-31T00:00:00",
          "1985-06-30T00:00:00",
          "1985-09-30T00:00:00",
          "1985-12-31T00:00:00",
          "1986-03-31T00:00:00",
          "1986-06-30T00:00:00",
          "1986-09-30T00:00:00",
          "1986-12-31T00:00:00",
          "1987-03-31T00:00:00",
          "1987-06-30T00:00:00",
          "1987-09-30T00:00:00",
          "1987-12-31T00:00:00",
          "1988-03-31T00:00:00",
          "1988-06-30T00:00:00",
          "1988-09-30T00:00:00",
          "1988-12-31T00:00:00",
          "1989-03-31T00:00:00",
          "1989-06-30T00:00:00",
          "1989-09-30T00:00:00",
          "1989-12-31T00:00:00",
          "1990-03-31T00:00:00",
          "1990-06-30T00:00:00",
          "1990-09-30T00:00:00",
          "1990-12-31T00:00:00",
          "1991-03-31T00:00:00",
          "1991-06-30T00:00:00",
          "1991-09-30T00:00:00",
          "1991-12-31T00:00:00",
          "1992-03-31T00:00:00",
          "1992-06-30T00:00:00",
          "1992-09-30T00:00:00",
          "1992-12-31T00:00:00",
          "1993-03-31T00:00:00",
          "1993-06-30T00:00:00",
          "1993-09-30T00:00:00",
          "1993-12-31T00:00:00",
          "1994-03-31T00:00:00",
          "1994-06-30T00:00:00",
          "1994-09-30T00:00:00",
          "1994-12-31T00:00:00",
          "1995-03-31T00:00:00",
          "1995-06-30T00:00:00",
          "1995-09-30T00:00:00",
          "1995-12-31T00:00:00",
          "1996-03-31T00:00:00",
          "1996-06-30T00:00:00",
          "1996-09-30T00:00:00",
          "1996-12-31T00:00:00",
          "1997-03-31T00:00:00",
          "1997-06-30T00:00:00",
          "1997-09-30T00:00:00",
          "1997-12-31T00:00:00",
          "1998-03-31T00:00:00",
          "1998-06-30T00:00:00",
          "1998-09-30T00:00:00",
          "1998-12-31T00:00:00",
          "1999-03-31T00:00:00",
          "1999-06-30T00:00:00",
          "1999-09-30T00:00:00",
          "1999-12-31T00:00:00",
          "2000-03-31T00:00:00",
          "2000-06-30T00:00:00",
          "2000-09-30T00:00:00",
          "2000-12-31T00:00:00",
          "2001-03-31T00:00:00",
          "2001-06-30T00:00:00",
          "2001-09-30T00:00:00",
          "2001-12-31T00:00:00",
          "2002-03-31T00:00:00",
          "2002-06-30T00:00:00",
          "2002-09-30T00:00:00",
          "2002-12-31T00:00:00",
          "2003-03-31T00:00:00",
          "2003-06-30T00:00:00",
          "2003-09-30T00:00:00",
          "2003-12-31T00:00:00",
          "2004-03-31T00:00:00",
          "2004-06-30T00:00:00",
          "2004-09-30T00:00:00",
          "2004-12-31T00:00:00",
          "2005-03-31T00:00:00",
          "2005-06-30T00:00:00",
          "2005-09-30T00:00:00",
          "2005-12-31T00:00:00",
          "2006-03-31T00:00:00",
          "2006-06-30T00:00:00",
          "2006-09-30T00:00:00",
          "2006-12-31T00:00:00",
          "2007-03-31T00:00:00",
          "2007-06-30T00:00:00",
          "2007-09-30T00:00:00",
          "2007-12-31T00:00:00",
          "2008-03-31T00:00:00",
          "2008-06-30T00:00:00",
          "2008-09-30T00:00:00",
          "2008-12-31T00:00:00",
          "2009-03-31T00:00:00",
          "2009-06-30T00:00:00",
          "2009-09-30T00:00:00",
          "2009-12-31T00:00:00",
          "2010-03-31T00:00:00",
          "2010-06-30T00:00:00",
          "2010-09-30T00:00:00",
          "2010-12-31T00:00:00",
          "2011-03-31T00:00:00",
          "2011-06-30T00:00:00",
          "2011-09-30T00:00:00",
          "2011-12-31T00:00:00",
          "2012-03-31T00:00:00",
          "2012-06-30T00:00:00",
          "2012-09-30T00:00:00",
          "2012-12-31T00:00:00",
          "2013-03-31T00:00:00",
          "2013-06-30T00:00:00",
          "2013-09-30T00:00:00",
          "2013-12-31T00:00:00",
          "2014-03-31T00:00:00",
          "2014-06-30T00:00:00",
          "2014-09-30T00:00:00",
          "2014-12-31T00:00:00",
          "2015-03-31T00:00:00",
          "2015-06-30T00:00:00",
          "2015-09-30T00:00:00",
          "2015-12-31T00:00:00",
          "2016-03-31T00:00:00",
          "2016-06-30T00:00:00",
          "2016-09-30T00:00:00",
          "2016-12-31T00:00:00",
          "2017-03-31T00:00:00",
          "2017-06-30T00:00:00",
          "2017-09-30T00:00:00",
          "2017-12-31T00:00:00",
          "2018-03-31T00:00:00",
          "2018-06-30T00:00:00",
          "2018-09-30T00:00:00",
          "2018-12-31T00:00:00",
          "2019-03-31T00:00:00",
          "2019-06-30T00:00:00",
          "2019-09-30T00:00:00",
          "2019-12-31T00:00:00",
          "2020-03-31T00:00:00",
          "2020-06-30T00:00:00",
          "2020-09-30T00:00:00",
          "2020-12-31T00:00:00",
          "2021-03-31T00:00:00",
          "2021-06-30T00:00:00",
          "2021-09-30T00:00:00",
          "2021-12-31T00:00:00",
          "2022-03-31T00:00:00",
          "2022-06-30T00:00:00",
          "2022-09-30T00:00:00",
          "2022-12-31T00:00:00",
          "2023-03-31T00:00:00",
          "2023-06-30T00:00:00",
          "2023-09-30T00:00:00",
          "2023-12-31T00:00:00",
          "2024-03-31T00:00:00",
          "2024-06-30T00:00:00",
          "2024-09-30T00:00:00"
         ],
         "xaxis": "x",
         "y": [
          null,
          -0.18781362007168445,
          0.1733333333333329,
          -0.19417122040072776,
          0.03426229508196643,
          0.1138771792870159,
          0.38434771825396785,
          0.20079149590163947,
          0.10393442622950833,
          0.030586577868852327,
          -0.09578124999999993,
          0.16814549180327898,
          0.0791803278688521,
          0.005642930327868889,
          0.06718750000000018,
          0.3873335040983603,
          0.45752016653656025,
          0.00365079365079346,
          0.5849330357142861,
          -0.08271875000000062,
          -0.8425655737704911,
          -0.3444031762295081,
          0.8777703373015866,
          0.43351808482956056,
          -0.08469063987308356,
          0.47532258064516153,
          -0.44145161290322577,
          0.3224193548387104,
          0.5287096774193545,
          0.21315668202765004,
          1.0785714285714283,
          0.24632318501171024,
          -0.34918032786885345,
          -0.10323076923076879,
          -0.5061442307692312,
          -1.2994774590163933,
          -1.6068852459016396,
          0.9718314549180329,
          0.7459375000000001,
          -1.0312115778688522,
          -0.2969134221311478,
          0.41703124999999996,
          0.3079513888888892,
          0.2889444444444438,
          0.8800698924731183,
          0.6987634408602155,
          1.5057142857142845,
          -1.1083809523809514,
          -0.03514754098360573,
          1.314163413999478,
          0.3219841269841286,
          -1.3389344262295086,
          -1.3405655737704922,
          0.19731250000000067,
          0.9823437500000001,
          -0.819910348360656,
          -0.7094394500264407,
          0.30528729838709623,
          -0.27546874999999993,
          -0.7997233606557375,
          0.20473328129065838,
          0.27936507936507926,
          0.5914285714285716,
          0.6677380952380947,
          0.350013661202186,
          0.4906609419724175,
          0.6412698412698408,
          1.3631511839708548,
          0.5000925436277122,
          -0.3695161290322577,
          0.1938914490527388,
          2.1473354150403328,
          1.626353781068218,
          -3.6208320532514087,
          -0.16799355158730123,
          3.7016521516393457,
          0.2773770491803269,
          1.0119802237835032,
          1.2060218253968262,
          -2.719477459016396,
          0.7104918032786891,
          -0.5078893442622956,
          -1.9606249999999985,
          -2.713125,
          -0.25349206349206455,
          0.32444444444444365,
          1.1118601190476198,
          -0.349479166666665,
          0.2355376344086011,
          1.3716052227342548,
          0.256507936507937,
          -1.7699349466562584,
          -0.648715846994536,
          -0.9178571428571427,
          -0.49444444444444446,
          -0.12958013312852046,
          -0.39761827956989304,
          -0.8541458333333329,
          -0.6095312499999999,
          -0.1972530241935475,
          0.12865415124272772,
          0.8378870673952648,
          0.35414930555555557,
          0.13301915322580626,
          -0.4800000000000004,
          0.5342601126472095,
          0.7091269841269847,
          0.5184426229508183,
          0.7667213114754095,
          -0.3867264344262278,
          -0.8096279761904768,
          -0.2742933947772652,
          0.3019354838709667,
          0.13950076804915668,
          -0.44269841269841326,
          -0.515189452124936,
          -0.8710645161290334,
          -0.204031249999999,
          -0.34281249999999996,
          -1.0212852822580647,
          -0.5095161290322583,
          -0.14657706093189926,
          -0.7976215277777783,
          0.14371471774193578,
          -0.16354309888947682,
          -0.012515368852458852,
          0.03734375000000023,
          0.1035534274193548,
          0.40096774193548423,
          1.2151612903225808,
          0.4564112903225803,
          1.0044877049180325,
          0.1068429402432578,
          -0.7581362007168462,
          -0.2942857142857145,
          -0.21451356886840767,
          -0.3187096774193545,
          0.5299395161290326,
          0.12515624999999986,
          -0.29735383064516085,
          0.16115591397849371,
          0.20619791666666654,
          -0.30859375,
          -0.06246975806451616,
          -0.16424643046007326,
          0.0920088472547489,
          -0.313105158730159,
          -0.7094959677419359,
          0.2874775251189847,
          0.20731651954602803,
          0.28001442307692326,
          0.4548689516129034,
          0.5730824372759846,
          0.030793650793651928,
          -0.08682539682539758,
          -0.22576036866359406,
          -1.3154838709677419,
          -0.8166922683051716,
          -0.43393702836325776,
          -1.0954997355896352,
          0.07268279569892488,
          0.028552083333333034,
          -0.53265625,
          -0.2803528225806451,
          -0.23338180856689572,
          -0.14762945615404632,
          0.06652033730158724,
          0.07723286290322573,
          -0.07499999999999996,
          0.5548975934459806,
          0.29865079365079383,
          0.3977419354838707,
          0.5997170809095715,
          0.2648847336065576,
          0.4537499999999999,
          0.49743084016393446,
          0.3517979904812263,
          0.3811059907834107,
          0.06968253968253979,
          -0.10288530465949819,
          0.01935483870967758,
          -0.07336189516129021,
          -0.3991393849206357,
          -0.9000793650793644,
          -1.5220491803278695,
          -0.04701331967213074,
          0.06046875000000007,
          -1.1372127016129032,
          -0.41722633527234265,
          -0.05085610200364299,
          -0.07314236111111111,
          -0.09329133064516126,
          0.009912744579587518,
          0.01310214375788149,
          -0.1087860576923077,
          -0.009712701612903218,
          0.01290322580645159,
          -0.06796979006656426,
          -0.07068948412698411,
          -0.01950307377049182,
          0.042517186673717594,
          0.0316733870967742,
          -0.0062202380952380565,
          -0.009609679937548826,
          -0.022461748633879758,
          -0.021864583333333354,
          -0.0054687499999999944,
          0.0028225806451613045,
          -0.004830777366472777,
          -0.017475930262815506,
          0.006359126984126981,
          0.04288306451612903,
          0.07315177154944474,
          0.024902663934426222,
          0.09750000000000003,
          0.11944556451612898,
          0.11372554204124802,
          -0.014733606557376988,
          -0.0068750000000000755,
          0.19636270491803287,
          0.1368429402432576,
          0.23313364055299524,
          0.11777777777777798,
          0.3068305171530976,
          0.3921364357482813,
          0.30972848360655725,
          0.20797123015873042,
          0.20803799115274524,
          -0.1285245901639347,
          -0.2807832422586518,
          -0.413888888888889,
          -0.26919354838709664,
          -0.5080645161290323,
          -0.8934562211981568,
          -0.03959821428571428,
          -0.02017137096774195,
          -0.032057112638815444,
          -0.02292055485498108,
          0.01593028846153846,
          0.12485383064516128,
          0.78,
          1.2240322580645158,
          1.1933014112903226,
          1.2159503073770495,
          0.14574828133262763,
          0.1893753200204813,
          0.4412698412698415,
          -0.16403225806451616,
          -0.32596774193548406,
          0.23619047619047606,
          -0.46095238095237967
         ],
         "yaxis": "y"
        },
        {
         "hovertemplate": "variable=FFED_diff<br>DATE=%{x}<br>value=%{y}<extra></extra>",
         "legendgroup": "FFED_diff",
         "line": {
          "color": "#ab63fa",
          "dash": "solid"
         },
         "marker": {
          "symbol": "circle"
         },
         "mode": "lines",
         "name": "FFED_diff",
         "showlegend": true,
         "type": "scattergl",
         "x": [
          "1962-03-31T00:00:00",
          "1962-06-30T00:00:00",
          "1962-09-30T00:00:00",
          "1962-12-31T00:00:00",
          "1963-03-31T00:00:00",
          "1963-06-30T00:00:00",
          "1963-09-30T00:00:00",
          "1963-12-31T00:00:00",
          "1964-03-31T00:00:00",
          "1964-06-30T00:00:00",
          "1964-09-30T00:00:00",
          "1964-12-31T00:00:00",
          "1965-03-31T00:00:00",
          "1965-06-30T00:00:00",
          "1965-09-30T00:00:00",
          "1965-12-31T00:00:00",
          "1966-03-31T00:00:00",
          "1966-06-30T00:00:00",
          "1966-09-30T00:00:00",
          "1966-12-31T00:00:00",
          "1967-03-31T00:00:00",
          "1967-06-30T00:00:00",
          "1967-09-30T00:00:00",
          "1967-12-31T00:00:00",
          "1968-03-31T00:00:00",
          "1968-06-30T00:00:00",
          "1968-09-30T00:00:00",
          "1968-12-31T00:00:00",
          "1969-03-31T00:00:00",
          "1969-06-30T00:00:00",
          "1969-09-30T00:00:00",
          "1969-12-31T00:00:00",
          "1970-03-31T00:00:00",
          "1970-06-30T00:00:00",
          "1970-09-30T00:00:00",
          "1970-12-31T00:00:00",
          "1971-03-31T00:00:00",
          "1971-06-30T00:00:00",
          "1971-09-30T00:00:00",
          "1971-12-31T00:00:00",
          "1972-03-31T00:00:00",
          "1972-06-30T00:00:00",
          "1972-09-30T00:00:00",
          "1972-12-31T00:00:00",
          "1973-03-31T00:00:00",
          "1973-06-30T00:00:00",
          "1973-09-30T00:00:00",
          "1973-12-31T00:00:00",
          "1974-03-31T00:00:00",
          "1974-06-30T00:00:00",
          "1974-09-30T00:00:00",
          "1974-12-31T00:00:00",
          "1975-03-31T00:00:00",
          "1975-06-30T00:00:00",
          "1975-09-30T00:00:00",
          "1975-12-31T00:00:00",
          "1976-03-31T00:00:00",
          "1976-06-30T00:00:00",
          "1976-09-30T00:00:00",
          "1976-12-31T00:00:00",
          "1977-03-31T00:00:00",
          "1977-06-30T00:00:00",
          "1977-09-30T00:00:00",
          "1977-12-31T00:00:00",
          "1978-03-31T00:00:00",
          "1978-06-30T00:00:00",
          "1978-09-30T00:00:00",
          "1978-12-31T00:00:00",
          "1979-03-31T00:00:00",
          "1979-06-30T00:00:00",
          "1979-09-30T00:00:00",
          "1979-12-31T00:00:00",
          "1980-03-31T00:00:00",
          "1980-06-30T00:00:00",
          "1980-09-30T00:00:00",
          "1980-12-31T00:00:00",
          "1981-03-31T00:00:00",
          "1981-06-30T00:00:00",
          "1981-09-30T00:00:00",
          "1981-12-31T00:00:00",
          "1982-03-31T00:00:00",
          "1982-06-30T00:00:00",
          "1982-09-30T00:00:00",
          "1982-12-31T00:00:00",
          "1983-03-31T00:00:00",
          "1983-06-30T00:00:00",
          "1983-09-30T00:00:00",
          "1983-12-31T00:00:00",
          "1984-03-31T00:00:00",
          "1984-06-30T00:00:00",
          "1984-09-30T00:00:00",
          "1984-12-31T00:00:00",
          "1985-03-31T00:00:00",
          "1985-06-30T00:00:00",
          "1985-09-30T00:00:00",
          "1985-12-31T00:00:00",
          "1986-03-31T00:00:00",
          "1986-06-30T00:00:00",
          "1986-09-30T00:00:00",
          "1986-12-31T00:00:00",
          "1987-03-31T00:00:00",
          "1987-06-30T00:00:00",
          "1987-09-30T00:00:00",
          "1987-12-31T00:00:00",
          "1988-03-31T00:00:00",
          "1988-06-30T00:00:00",
          "1988-09-30T00:00:00",
          "1988-12-31T00:00:00",
          "1989-03-31T00:00:00",
          "1989-06-30T00:00:00",
          "1989-09-30T00:00:00",
          "1989-12-31T00:00:00",
          "1990-03-31T00:00:00",
          "1990-06-30T00:00:00",
          "1990-09-30T00:00:00",
          "1990-12-31T00:00:00",
          "1991-03-31T00:00:00",
          "1991-06-30T00:00:00",
          "1991-09-30T00:00:00",
          "1991-12-31T00:00:00",
          "1992-03-31T00:00:00",
          "1992-06-30T00:00:00",
          "1992-09-30T00:00:00",
          "1992-12-31T00:00:00",
          "1993-03-31T00:00:00",
          "1993-06-30T00:00:00",
          "1993-09-30T00:00:00",
          "1993-12-31T00:00:00",
          "1994-03-31T00:00:00",
          "1994-06-30T00:00:00",
          "1994-09-30T00:00:00",
          "1994-12-31T00:00:00",
          "1995-03-31T00:00:00",
          "1995-06-30T00:00:00",
          "1995-09-30T00:00:00",
          "1995-12-31T00:00:00",
          "1996-03-31T00:00:00",
          "1996-06-30T00:00:00",
          "1996-09-30T00:00:00",
          "1996-12-31T00:00:00",
          "1997-03-31T00:00:00",
          "1997-06-30T00:00:00",
          "1997-09-30T00:00:00",
          "1997-12-31T00:00:00",
          "1998-03-31T00:00:00",
          "1998-06-30T00:00:00",
          "1998-09-30T00:00:00",
          "1998-12-31T00:00:00",
          "1999-03-31T00:00:00",
          "1999-06-30T00:00:00",
          "1999-09-30T00:00:00",
          "1999-12-31T00:00:00",
          "2000-03-31T00:00:00",
          "2000-06-30T00:00:00",
          "2000-09-30T00:00:00",
          "2000-12-31T00:00:00",
          "2001-03-31T00:00:00",
          "2001-06-30T00:00:00",
          "2001-09-30T00:00:00",
          "2001-12-31T00:00:00",
          "2002-03-31T00:00:00",
          "2002-06-30T00:00:00",
          "2002-09-30T00:00:00",
          "2002-12-31T00:00:00",
          "2003-03-31T00:00:00",
          "2003-06-30T00:00:00",
          "2003-09-30T00:00:00",
          "2003-12-31T00:00:00",
          "2004-03-31T00:00:00",
          "2004-06-30T00:00:00",
          "2004-09-30T00:00:00",
          "2004-12-31T00:00:00",
          "2005-03-31T00:00:00",
          "2005-06-30T00:00:00",
          "2005-09-30T00:00:00",
          "2005-12-31T00:00:00",
          "2006-03-31T00:00:00",
          "2006-06-30T00:00:00",
          "2006-09-30T00:00:00",
          "2006-12-31T00:00:00",
          "2007-03-31T00:00:00",
          "2007-06-30T00:00:00",
          "2007-09-30T00:00:00",
          "2007-12-31T00:00:00",
          "2008-03-31T00:00:00",
          "2008-06-30T00:00:00",
          "2008-09-30T00:00:00",
          "2008-12-31T00:00:00",
          "2009-03-31T00:00:00",
          "2009-06-30T00:00:00",
          "2009-09-30T00:00:00",
          "2009-12-31T00:00:00",
          "2010-03-31T00:00:00",
          "2010-06-30T00:00:00",
          "2010-09-30T00:00:00",
          "2010-12-31T00:00:00",
          "2011-03-31T00:00:00",
          "2011-06-30T00:00:00",
          "2011-09-30T00:00:00",
          "2011-12-31T00:00:00",
          "2012-03-31T00:00:00",
          "2012-06-30T00:00:00",
          "2012-09-30T00:00:00",
          "2012-12-31T00:00:00",
          "2013-03-31T00:00:00",
          "2013-06-30T00:00:00",
          "2013-09-30T00:00:00",
          "2013-12-31T00:00:00",
          "2014-03-31T00:00:00",
          "2014-06-30T00:00:00",
          "2014-09-30T00:00:00",
          "2014-12-31T00:00:00",
          "2015-03-31T00:00:00",
          "2015-06-30T00:00:00",
          "2015-09-30T00:00:00",
          "2015-12-31T00:00:00",
          "2016-03-31T00:00:00",
          "2016-06-30T00:00:00",
          "2016-09-30T00:00:00",
          "2016-12-31T00:00:00",
          "2017-03-31T00:00:00",
          "2017-06-30T00:00:00",
          "2017-09-30T00:00:00",
          "2017-12-31T00:00:00",
          "2018-03-31T00:00:00",
          "2018-06-30T00:00:00",
          "2018-09-30T00:00:00",
          "2018-12-31T00:00:00",
          "2019-03-31T00:00:00",
          "2019-06-30T00:00:00",
          "2019-09-30T00:00:00",
          "2019-12-31T00:00:00",
          "2020-03-31T00:00:00",
          "2020-06-30T00:00:00",
          "2020-09-30T00:00:00",
          "2020-12-31T00:00:00",
          "2021-03-31T00:00:00",
          "2021-06-30T00:00:00",
          "2021-09-30T00:00:00",
          "2021-12-31T00:00:00",
          "2022-03-31T00:00:00",
          "2022-06-30T00:00:00",
          "2022-09-30T00:00:00",
          "2022-12-31T00:00:00",
          "2023-03-31T00:00:00",
          "2023-06-30T00:00:00",
          "2023-09-30T00:00:00",
          "2023-12-31T00:00:00",
          "2024-03-31T00:00:00",
          "2024-06-30T00:00:00",
          "2024-09-30T00:00:00"
         ],
         "xaxis": "x",
         "y": [
          0.21550179211469533,
          0.2063492063492065,
          0.07820452771272413,
          0.02983606557377083,
          -0.0007390059849079478,
          0.34871031746031766,
          0.1292418032786884,
          0.02049180327868827,
          0.03182889344262341,
          -0.04531250000000009,
          0.10594262295081958,
          0.41016393442622956,
          0.10858094262295115,
          -0.011406250000000284,
          0.09184170081967213,
          0.3783294301327089,
          0.35571428571428587,
          0.4411458333333327,
          0.21135416666666718,
          -0.7586748633879781,
          -0.7972105532786888,
          -0.0875669642857142,
          0.27805620608899284,
          0.6060682178741414,
          1.2058064516129026,
          -0.03017641129032267,
          -0.0962752016129036,
          0.6750000000000007,
          1.631996927803379,
          0.6812698412698417,
          -0.03614884205048163,
          -0.28831147540983615,
          -0.6849999999999996,
          -1.1562812500000001,
          -1.143358094262295,
          -1.6413114754098368,
          0.6993570696721312,
          0.8796875000000002,
          -0.7656019467213113,
          -1.1261168032786886,
          0.7303125000000001,
          0.42309027777777786,
          0.4233888888888888,
          1.3599623655913975,
          1.3129979518689199,
          2.6992063492063494,
          -0.5361666666666665,
          -0.6563469945355198,
          1.863942232630757,
          0.8813318452380958,
          -2.7742904713114758,
          -2.9966366120218577,
          -0.8790729166666669,
          0.7171875000000005,
          -0.732461577868853,
          -0.5966261237440502,
          0.3948689516129029,
          0.07484375000000032,
          -0.4132505122950816,
          -0.19351288056206073,
          0.48920634920634853,
          0.6703174603174595,
          0.6768333333333336,
          0.26863114754098394,
          0.5113609159510801,
          0.8107936507936504,
          1.472107728337237,
          0.4960259122157584,
          0.10564516129032242,
          0.7436815156170002,
          2.66710642727036,
          1.4134056054997366,
          -2.437019969278033,
          -2.8052380952380958,
          6.116229508196723,
          0.6213114754098363,
          1.2696018735362955,
          -0.08136160714285268,
          -4.093814036885247,
          0.6513114754098357,
          0.2800025614754098,
          -3.5531249999999996,
          -1.664254610655739,
          -0.6449492583918808,
          0.1631746031746033,
          0.6393105158730155,
          -0.017937499999998607,
          0.2624032258064499,
          0.9308269329237078,
          0.7815873015873027,
          -2.149169919333856,
          -0.7966475409836065,
          -0.5189444444444433,
          -0.031111111111111533,
          0.24571684587813625,
          -0.37116129032258005,
          -0.8410312500000003,
          -0.7346874999999997,
          0.18881552419354808,
          -0.2565230037017452,
          0.5123627374447048,
          0.19956349206349167,
          0.04330645161290292,
          -0.2454838709677416,
          0.5067409114183308,
          0.8135615079365079,
          0.49404713114754184,
          0.9972131147540981,
          0.25295850409836085,
          -0.6493675595238084,
          -0.43079877112135456,
          -0.38677419354838705,
          -0.025284178187401807,
          -0.05349206349206348,
          -0.4049334357398884,
          -1.2378602150537636,
          -0.659770833333333,
          -0.2020312500000001,
          -0.8287247983870971,
          -0.7904838709677415,
          -0.23048131080389167,
          -0.5096850198412697,
          -0.2575756048387099,
          0.034468535166578995,
          -0.07251793032786935,
          0.06906250000000025,
          -0.10069052419354829,
          0.25709677419354815,
          0.7193548387096773,
          0.5465826612903224,
          0.6643903688524597,
          0.6572527763088312,
          0.18273681515616946,
          -0.20873015873015888,
          -0.059490527393752934,
          -0.35370967741935466,
          -0.11807459677419363,
          0.057031249999999645,
          -0.01782762096774171,
          -0.03468279569892463,
          0.27079166666666676,
          0.012031249999999716,
          -0.022494959677419324,
          -0.02532522474881027,
          -0.006502732240437403,
          0.04588541666666757,
          -0.6785735887096775,
          -0.11441565309360158,
          -0.01146027742749034,
          0.36773076923076875,
          0.18814516129032288,
          0.42125960061444,
          0.5590476190476181,
          0.22047619047619094,
          -0.011751152073732563,
          -0.8879032258064514,
          -1.2917741935483873,
          -0.8334426229508201,
          -1.3331702802749867,
          -0.4123870967741936,
          0.015562500000000146,
          -0.008437500000000098,
          -0.29264112903225814,
          -0.20023796932839755,
          -0.0012776476710902873,
          -0.23896825396825405,
          -0.015483870967741842,
          0.0037096774193547954,
          0.010424987199180835,
          0.4257242063492064,
          0.5127217741935484,
          0.5231491274457958,
          0.467410348360656,
          0.5196874999999999,
          0.5137218237704917,
          0.49119249074563776,
          0.4381387608806966,
          0.3439682539682529,
          -0.0037199180747560234,
          0.016290322580644556,
          -0.013029233870967438,
          -0.15858878968253975,
          -0.5938658474142349,
          -1.3097303014278152,
          -1.0964088114754102,
          -0.1328125,
          -1.4234677419354838,
          -0.34698307773664727,
          -0.008001561280249814,
          -0.02451636904761903,
          -0.03582157258064517,
          0.018011634056054993,
          0.055124842370744026,
          -0.003408653846153853,
          0.0009173387096774177,
          -0.03387096774193549,
          -0.062309267793138765,
          -0.009268353174603172,
          -0.00882428278688524,
          0.031208355367530402,
          0.048240927419354845,
          -0.008340773809523805,
          0.014629195940671358,
          -0.015653005464480868,
          -0.02813541666666669,
          -0.03156250000000001,
          0.00001512096774193561,
          -0.01269698572184029,
          0.018165495706479323,
          -0.0012648809523809618,
          0.012409274193548384,
          0.012493389740877853,
          0.011347336065573768,
          0.009843750000000012,
          0.025025201612903225,
          0.2049312533051295,
          0.004262295081967238,
          0.025312500000000016,
          0.053867827868852414,
          0.25469063987308305,
          0.24962109575012803,
          0.20206349206349195,
          0.046218637992831546,
          0.24248810153358002,
          0.29292520491803287,
          0.18630456349206348,
          0.2938849856882648,
          0.1839344262295075,
          -0.004168618266978452,
          -0.1993303571428573,
          -0.5473286290322581,
          -0.41758064516129023,
          -1.1740143369175626,
          0.03392361111111112,
          -0.0037802419354838884,
          -0.012638815441565296,
          -0.00793190416141236,
          0.02185096153846154,
          -0.010796370967741942,
          0.04483870967741936,
          0.6411290322580645,
          1.4354536290322581,
          1.4487346311475409,
          0.8722633527234271,
          0.4653661034306191,
          0.2750793650793657,
          0.06761904761904702,
          0,
          0,
          0,
          null
         ],
         "yaxis": "y"
        }
       ],
       "layout": {
        "legend": {
         "title": {
          "text": "variable"
         },
         "tracegroupgap": 0
        },
        "margin": {
         "t": 60
        },
        "template": {
         "data": {
          "bar": [
           {
            "error_x": {
             "color": "#2a3f5f"
            },
            "error_y": {
             "color": "#2a3f5f"
            },
            "marker": {
             "line": {
              "color": "#E5ECF6",
              "width": 0.5
             },
             "pattern": {
              "fillmode": "overlay",
              "size": 10,
              "solidity": 0.2
             }
            },
            "type": "bar"
           }
          ],
          "barpolar": [
           {
            "marker": {
             "line": {
              "color": "#E5ECF6",
              "width": 0.5
             },
             "pattern": {
              "fillmode": "overlay",
              "size": 10,
              "solidity": 0.2
             }
            },
            "type": "barpolar"
           }
          ],
          "carpet": [
           {
            "aaxis": {
             "endlinecolor": "#2a3f5f",
             "gridcolor": "white",
             "linecolor": "white",
             "minorgridcolor": "white",
             "startlinecolor": "#2a3f5f"
            },
            "baxis": {
             "endlinecolor": "#2a3f5f",
             "gridcolor": "white",
             "linecolor": "white",
             "minorgridcolor": "white",
             "startlinecolor": "#2a3f5f"
            },
            "type": "carpet"
           }
          ],
          "choropleth": [
           {
            "colorbar": {
             "outlinewidth": 0,
             "ticks": ""
            },
            "type": "choropleth"
           }
          ],
          "contour": [
           {
            "colorbar": {
             "outlinewidth": 0,
             "ticks": ""
            },
            "colorscale": [
             [
              0,
              "#0d0887"
             ],
             [
              0.1111111111111111,
              "#46039f"
             ],
             [
              0.2222222222222222,
              "#7201a8"
             ],
             [
              0.3333333333333333,
              "#9c179e"
             ],
             [
              0.4444444444444444,
              "#bd3786"
             ],
             [
              0.5555555555555556,
              "#d8576b"
             ],
             [
              0.6666666666666666,
              "#ed7953"
             ],
             [
              0.7777777777777778,
              "#fb9f3a"
             ],
             [
              0.8888888888888888,
              "#fdca26"
             ],
             [
              1,
              "#f0f921"
             ]
            ],
            "type": "contour"
           }
          ],
          "contourcarpet": [
           {
            "colorbar": {
             "outlinewidth": 0,
             "ticks": ""
            },
            "type": "contourcarpet"
           }
          ],
          "heatmap": [
           {
            "colorbar": {
             "outlinewidth": 0,
             "ticks": ""
            },
            "colorscale": [
             [
              0,
              "#0d0887"
             ],
             [
              0.1111111111111111,
              "#46039f"
             ],
             [
              0.2222222222222222,
              "#7201a8"
             ],
             [
              0.3333333333333333,
              "#9c179e"
             ],
             [
              0.4444444444444444,
              "#bd3786"
             ],
             [
              0.5555555555555556,
              "#d8576b"
             ],
             [
              0.6666666666666666,
              "#ed7953"
             ],
             [
              0.7777777777777778,
              "#fb9f3a"
             ],
             [
              0.8888888888888888,
              "#fdca26"
             ],
             [
              1,
              "#f0f921"
             ]
            ],
            "type": "heatmap"
           }
          ],
          "heatmapgl": [
           {
            "colorbar": {
             "outlinewidth": 0,
             "ticks": ""
            },
            "colorscale": [
             [
              0,
              "#0d0887"
             ],
             [
              0.1111111111111111,
              "#46039f"
             ],
             [
              0.2222222222222222,
              "#7201a8"
             ],
             [
              0.3333333333333333,
              "#9c179e"
             ],
             [
              0.4444444444444444,
              "#bd3786"
             ],
             [
              0.5555555555555556,
              "#d8576b"
             ],
             [
              0.6666666666666666,
              "#ed7953"
             ],
             [
              0.7777777777777778,
              "#fb9f3a"
             ],
             [
              0.8888888888888888,
              "#fdca26"
             ],
             [
              1,
              "#f0f921"
             ]
            ],
            "type": "heatmapgl"
           }
          ],
          "histogram": [
           {
            "marker": {
             "pattern": {
              "fillmode": "overlay",
              "size": 10,
              "solidity": 0.2
             }
            },
            "type": "histogram"
           }
          ],
          "histogram2d": [
           {
            "colorbar": {
             "outlinewidth": 0,
             "ticks": ""
            },
            "colorscale": [
             [
              0,
              "#0d0887"
             ],
             [
              0.1111111111111111,
              "#46039f"
             ],
             [
              0.2222222222222222,
              "#7201a8"
             ],
             [
              0.3333333333333333,
              "#9c179e"
             ],
             [
              0.4444444444444444,
              "#bd3786"
             ],
             [
              0.5555555555555556,
              "#d8576b"
             ],
             [
              0.6666666666666666,
              "#ed7953"
             ],
             [
              0.7777777777777778,
              "#fb9f3a"
             ],
             [
              0.8888888888888888,
              "#fdca26"
             ],
             [
              1,
              "#f0f921"
             ]
            ],
            "type": "histogram2d"
           }
          ],
          "histogram2dcontour": [
           {
            "colorbar": {
             "outlinewidth": 0,
             "ticks": ""
            },
            "colorscale": [
             [
              0,
              "#0d0887"
             ],
             [
              0.1111111111111111,
              "#46039f"
             ],
             [
              0.2222222222222222,
              "#7201a8"
             ],
             [
              0.3333333333333333,
              "#9c179e"
             ],
             [
              0.4444444444444444,
              "#bd3786"
             ],
             [
              0.5555555555555556,
              "#d8576b"
             ],
             [
              0.6666666666666666,
              "#ed7953"
             ],
             [
              0.7777777777777778,
              "#fb9f3a"
             ],
             [
              0.8888888888888888,
              "#fdca26"
             ],
             [
              1,
              "#f0f921"
             ]
            ],
            "type": "histogram2dcontour"
           }
          ],
          "mesh3d": [
           {
            "colorbar": {
             "outlinewidth": 0,
             "ticks": ""
            },
            "type": "mesh3d"
           }
          ],
          "parcoords": [
           {
            "line": {
             "colorbar": {
              "outlinewidth": 0,
              "ticks": ""
             }
            },
            "type": "parcoords"
           }
          ],
          "pie": [
           {
            "automargin": true,
            "type": "pie"
           }
          ],
          "scatter": [
           {
            "fillpattern": {
             "fillmode": "overlay",
             "size": 10,
             "solidity": 0.2
            },
            "type": "scatter"
           }
          ],
          "scatter3d": [
           {
            "line": {
             "colorbar": {
              "outlinewidth": 0,
              "ticks": ""
             }
            },
            "marker": {
             "colorbar": {
              "outlinewidth": 0,
              "ticks": ""
             }
            },
            "type": "scatter3d"
           }
          ],
          "scattercarpet": [
           {
            "marker": {
             "colorbar": {
              "outlinewidth": 0,
              "ticks": ""
             }
            },
            "type": "scattercarpet"
           }
          ],
          "scattergeo": [
           {
            "marker": {
             "colorbar": {
              "outlinewidth": 0,
              "ticks": ""
             }
            },
            "type": "scattergeo"
           }
          ],
          "scattergl": [
           {
            "marker": {
             "colorbar": {
              "outlinewidth": 0,
              "ticks": ""
             }
            },
            "type": "scattergl"
           }
          ],
          "scattermapbox": [
           {
            "marker": {
             "colorbar": {
              "outlinewidth": 0,
              "ticks": ""
             }
            },
            "type": "scattermapbox"
           }
          ],
          "scatterpolar": [
           {
            "marker": {
             "colorbar": {
              "outlinewidth": 0,
              "ticks": ""
             }
            },
            "type": "scatterpolar"
           }
          ],
          "scatterpolargl": [
           {
            "marker": {
             "colorbar": {
              "outlinewidth": 0,
              "ticks": ""
             }
            },
            "type": "scatterpolargl"
           }
          ],
          "scatterternary": [
           {
            "marker": {
             "colorbar": {
              "outlinewidth": 0,
              "ticks": ""
             }
            },
            "type": "scatterternary"
           }
          ],
          "surface": [
           {
            "colorbar": {
             "outlinewidth": 0,
             "ticks": ""
            },
            "colorscale": [
             [
              0,
              "#0d0887"
             ],
             [
              0.1111111111111111,
              "#46039f"
             ],
             [
              0.2222222222222222,
              "#7201a8"
             ],
             [
              0.3333333333333333,
              "#9c179e"
             ],
             [
              0.4444444444444444,
              "#bd3786"
             ],
             [
              0.5555555555555556,
              "#d8576b"
             ],
             [
              0.6666666666666666,
              "#ed7953"
             ],
             [
              0.7777777777777778,
              "#fb9f3a"
             ],
             [
              0.8888888888888888,
              "#fdca26"
             ],
             [
              1,
              "#f0f921"
             ]
            ],
            "type": "surface"
           }
          ],
          "table": [
           {
            "cells": {
             "fill": {
              "color": "#EBF0F8"
             },
             "line": {
              "color": "white"
             }
            },
            "header": {
             "fill": {
              "color": "#C8D4E3"
             },
             "line": {
              "color": "white"
             }
            },
            "type": "table"
           }
          ]
         },
         "layout": {
          "annotationdefaults": {
           "arrowcolor": "#2a3f5f",
           "arrowhead": 0,
           "arrowwidth": 1
          },
          "autotypenumbers": "strict",
          "coloraxis": {
           "colorbar": {
            "outlinewidth": 0,
            "ticks": ""
           }
          },
          "colorscale": {
           "diverging": [
            [
             0,
             "#8e0152"
            ],
            [
             0.1,
             "#c51b7d"
            ],
            [
             0.2,
             "#de77ae"
            ],
            [
             0.3,
             "#f1b6da"
            ],
            [
             0.4,
             "#fde0ef"
            ],
            [
             0.5,
             "#f7f7f7"
            ],
            [
             0.6,
             "#e6f5d0"
            ],
            [
             0.7,
             "#b8e186"
            ],
            [
             0.8,
             "#7fbc41"
            ],
            [
             0.9,
             "#4d9221"
            ],
            [
             1,
             "#276419"
            ]
           ],
           "sequential": [
            [
             0,
             "#0d0887"
            ],
            [
             0.1111111111111111,
             "#46039f"
            ],
            [
             0.2222222222222222,
             "#7201a8"
            ],
            [
             0.3333333333333333,
             "#9c179e"
            ],
            [
             0.4444444444444444,
             "#bd3786"
            ],
            [
             0.5555555555555556,
             "#d8576b"
            ],
            [
             0.6666666666666666,
             "#ed7953"
            ],
            [
             0.7777777777777778,
             "#fb9f3a"
            ],
            [
             0.8888888888888888,
             "#fdca26"
            ],
            [
             1,
             "#f0f921"
            ]
           ],
           "sequentialminus": [
            [
             0,
             "#0d0887"
            ],
            [
             0.1111111111111111,
             "#46039f"
            ],
            [
             0.2222222222222222,
             "#7201a8"
            ],
            [
             0.3333333333333333,
             "#9c179e"
            ],
            [
             0.4444444444444444,
             "#bd3786"
            ],
            [
             0.5555555555555556,
             "#d8576b"
            ],
            [
             0.6666666666666666,
             "#ed7953"
            ],
            [
             0.7777777777777778,
             "#fb9f3a"
            ],
            [
             0.8888888888888888,
             "#fdca26"
            ],
            [
             1,
             "#f0f921"
            ]
           ]
          },
          "colorway": [
           "#636efa",
           "#EF553B",
           "#00cc96",
           "#ab63fa",
           "#FFA15A",
           "#19d3f3",
           "#FF6692",
           "#B6E880",
           "#FF97FF",
           "#FECB52"
          ],
          "font": {
           "color": "#2a3f5f"
          },
          "geo": {
           "bgcolor": "white",
           "lakecolor": "white",
           "landcolor": "#E5ECF6",
           "showlakes": true,
           "showland": true,
           "subunitcolor": "white"
          },
          "hoverlabel": {
           "align": "left"
          },
          "hovermode": "closest",
          "mapbox": {
           "style": "light"
          },
          "paper_bgcolor": "white",
          "plot_bgcolor": "#E5ECF6",
          "polar": {
           "angularaxis": {
            "gridcolor": "white",
            "linecolor": "white",
            "ticks": ""
           },
           "bgcolor": "#E5ECF6",
           "radialaxis": {
            "gridcolor": "white",
            "linecolor": "white",
            "ticks": ""
           }
          },
          "scene": {
           "xaxis": {
            "backgroundcolor": "#E5ECF6",
            "gridcolor": "white",
            "gridwidth": 2,
            "linecolor": "white",
            "showbackground": true,
            "ticks": "",
            "zerolinecolor": "white"
           },
           "yaxis": {
            "backgroundcolor": "#E5ECF6",
            "gridcolor": "white",
            "gridwidth": 2,
            "linecolor": "white",
            "showbackground": true,
            "ticks": "",
            "zerolinecolor": "white"
           },
           "zaxis": {
            "backgroundcolor": "#E5ECF6",
            "gridcolor": "white",
            "gridwidth": 2,
            "linecolor": "white",
            "showbackground": true,
            "ticks": "",
            "zerolinecolor": "white"
           }
          },
          "shapedefaults": {
           "line": {
            "color": "#2a3f5f"
           }
          },
          "ternary": {
           "aaxis": {
            "gridcolor": "white",
            "linecolor": "white",
            "ticks": ""
           },
           "baxis": {
            "gridcolor": "white",
            "linecolor": "white",
            "ticks": ""
           },
           "bgcolor": "#E5ECF6",
           "caxis": {
            "gridcolor": "white",
            "linecolor": "white",
            "ticks": ""
           }
          },
          "title": {
           "x": 0.05
          },
          "xaxis": {
           "automargin": true,
           "gridcolor": "white",
           "linecolor": "white",
           "ticks": "",
           "title": {
            "standoff": 15
           },
           "zerolinecolor": "white",
           "zerolinewidth": 2
          },
          "yaxis": {
           "automargin": true,
           "gridcolor": "white",
           "linecolor": "white",
           "ticks": "",
           "title": {
            "standoff": 15
           },
           "zerolinecolor": "white",
           "zerolinewidth": 2
          }
         }
        },
        "xaxis": {
         "anchor": "y",
         "domain": [
          0,
          1
         ],
         "title": {
          "text": "DATE"
         }
        },
        "yaxis": {
         "anchor": "x",
         "domain": [
          0,
          1
         ],
         "title": {
          "text": "value"
         }
        }
       }
      }
     },
     "metadata": {},
     "output_type": "display_data"
    }
   ],
   "source": [
    "plot_features(['US_CPI_EXCL_FOOD_N_ENERGY_diff',\n",
    "   'CANADA_CPI_diff',\n",
    "   'US_TB_YIELD_1YR_diff'])"
   ]
  },
  {
   "cell_type": "code",
   "execution_count": null,
   "metadata": {},
   "outputs": [
    {
     "data": {
      "application/vnd.plotly.v1+json": {
       "config": {
        "plotlyServerURL": "https://plot.ly"
       },
       "data": [
        {
         "hovertemplate": "variable=FFED_diff<br>DATE=%{x}<br>value=%{y}<extra></extra>",
         "legendgroup": "FFED_diff",
         "line": {
          "color": "#636efa",
          "dash": "solid"
         },
         "marker": {
          "symbol": "circle"
         },
         "mode": "lines",
         "name": "FFED_diff",
         "orientation": "v",
         "showlegend": true,
         "type": "scatter",
         "x": [
          "1962-03-31T00:00:00",
          "1962-06-30T00:00:00",
          "1962-09-30T00:00:00",
          "1962-12-31T00:00:00",
          "1963-03-31T00:00:00",
          "1963-06-30T00:00:00",
          "1963-09-30T00:00:00",
          "1963-12-31T00:00:00",
          "1964-03-31T00:00:00",
          "1964-06-30T00:00:00",
          "1964-09-30T00:00:00",
          "1964-12-31T00:00:00",
          "1965-03-31T00:00:00",
          "1965-06-30T00:00:00",
          "1965-09-30T00:00:00",
          "1965-12-31T00:00:00",
          "1966-03-31T00:00:00",
          "1966-06-30T00:00:00",
          "1966-09-30T00:00:00",
          "1966-12-31T00:00:00",
          "1967-03-31T00:00:00",
          "1967-06-30T00:00:00",
          "1967-09-30T00:00:00",
          "1967-12-31T00:00:00",
          "1968-03-31T00:00:00",
          "1968-06-30T00:00:00",
          "1968-09-30T00:00:00",
          "1968-12-31T00:00:00",
          "1969-03-31T00:00:00",
          "1969-06-30T00:00:00",
          "1969-09-30T00:00:00",
          "1969-12-31T00:00:00",
          "1970-03-31T00:00:00",
          "1970-06-30T00:00:00",
          "1970-09-30T00:00:00",
          "1970-12-31T00:00:00",
          "1971-03-31T00:00:00",
          "1971-06-30T00:00:00",
          "1971-09-30T00:00:00",
          "1971-12-31T00:00:00",
          "1972-03-31T00:00:00",
          "1972-06-30T00:00:00",
          "1972-09-30T00:00:00",
          "1972-12-31T00:00:00",
          "1973-03-31T00:00:00",
          "1973-06-30T00:00:00",
          "1973-09-30T00:00:00",
          "1973-12-31T00:00:00",
          "1974-03-31T00:00:00",
          "1974-06-30T00:00:00",
          "1974-09-30T00:00:00",
          "1974-12-31T00:00:00",
          "1975-03-31T00:00:00",
          "1975-06-30T00:00:00",
          "1975-09-30T00:00:00",
          "1975-12-31T00:00:00",
          "1976-03-31T00:00:00",
          "1976-06-30T00:00:00",
          "1976-09-30T00:00:00",
          "1976-12-31T00:00:00",
          "1977-03-31T00:00:00",
          "1977-06-30T00:00:00",
          "1977-09-30T00:00:00",
          "1977-12-31T00:00:00",
          "1978-03-31T00:00:00",
          "1978-06-30T00:00:00",
          "1978-09-30T00:00:00",
          "1978-12-31T00:00:00",
          "1979-03-31T00:00:00",
          "1979-06-30T00:00:00",
          "1979-09-30T00:00:00",
          "1979-12-31T00:00:00",
          "1980-03-31T00:00:00",
          "1980-06-30T00:00:00",
          "1980-09-30T00:00:00",
          "1980-12-31T00:00:00",
          "1981-03-31T00:00:00",
          "1981-06-30T00:00:00",
          "1981-09-30T00:00:00",
          "1981-12-31T00:00:00",
          "1982-03-31T00:00:00",
          "1982-06-30T00:00:00",
          "1982-09-30T00:00:00",
          "1982-12-31T00:00:00",
          "1983-03-31T00:00:00",
          "1983-06-30T00:00:00",
          "1983-09-30T00:00:00",
          "1983-12-31T00:00:00",
          "1984-03-31T00:00:00",
          "1984-06-30T00:00:00",
          "1984-09-30T00:00:00",
          "1984-12-31T00:00:00",
          "1985-03-31T00:00:00",
          "1985-06-30T00:00:00",
          "1985-09-30T00:00:00",
          "1985-12-31T00:00:00",
          "1986-03-31T00:00:00",
          "1986-06-30T00:00:00",
          "1986-09-30T00:00:00",
          "1986-12-31T00:00:00",
          "1987-03-31T00:00:00",
          "1987-06-30T00:00:00",
          "1987-09-30T00:00:00",
          "1987-12-31T00:00:00",
          "1988-03-31T00:00:00",
          "1988-06-30T00:00:00",
          "1988-09-30T00:00:00",
          "1988-12-31T00:00:00",
          "1989-03-31T00:00:00",
          "1989-06-30T00:00:00",
          "1989-09-30T00:00:00",
          "1989-12-31T00:00:00",
          "1990-03-31T00:00:00",
          "1990-06-30T00:00:00",
          "1990-09-30T00:00:00",
          "1990-12-31T00:00:00",
          "1991-03-31T00:00:00",
          "1991-06-30T00:00:00",
          "1991-09-30T00:00:00",
          "1991-12-31T00:00:00",
          "1992-03-31T00:00:00",
          "1992-06-30T00:00:00",
          "1992-09-30T00:00:00",
          "1992-12-31T00:00:00",
          "1993-03-31T00:00:00",
          "1993-06-30T00:00:00",
          "1993-09-30T00:00:00",
          "1993-12-31T00:00:00",
          "1994-03-31T00:00:00",
          "1994-06-30T00:00:00",
          "1994-09-30T00:00:00",
          "1994-12-31T00:00:00",
          "1995-03-31T00:00:00",
          "1995-06-30T00:00:00",
          "1995-09-30T00:00:00",
          "1995-12-31T00:00:00",
          "1996-03-31T00:00:00",
          "1996-06-30T00:00:00",
          "1996-09-30T00:00:00",
          "1996-12-31T00:00:00",
          "1997-03-31T00:00:00",
          "1997-06-30T00:00:00",
          "1997-09-30T00:00:00",
          "1997-12-31T00:00:00",
          "1998-03-31T00:00:00",
          "1998-06-30T00:00:00",
          "1998-09-30T00:00:00",
          "1998-12-31T00:00:00",
          "1999-03-31T00:00:00",
          "1999-06-30T00:00:00",
          "1999-09-30T00:00:00",
          "1999-12-31T00:00:00",
          "2000-03-31T00:00:00",
          "2000-06-30T00:00:00",
          "2000-09-30T00:00:00",
          "2000-12-31T00:00:00",
          "2001-03-31T00:00:00",
          "2001-06-30T00:00:00",
          "2001-09-30T00:00:00",
          "2001-12-31T00:00:00",
          "2002-03-31T00:00:00",
          "2002-06-30T00:00:00",
          "2002-09-30T00:00:00",
          "2002-12-31T00:00:00",
          "2003-03-31T00:00:00",
          "2003-06-30T00:00:00",
          "2003-09-30T00:00:00",
          "2003-12-31T00:00:00",
          "2004-03-31T00:00:00",
          "2004-06-30T00:00:00",
          "2004-09-30T00:00:00",
          "2004-12-31T00:00:00",
          "2005-03-31T00:00:00",
          "2005-06-30T00:00:00",
          "2005-09-30T00:00:00",
          "2005-12-31T00:00:00",
          "2006-03-31T00:00:00",
          "2006-06-30T00:00:00",
          "2006-09-30T00:00:00",
          "2006-12-31T00:00:00",
          "2007-03-31T00:00:00",
          "2007-06-30T00:00:00",
          "2007-09-30T00:00:00",
          "2007-12-31T00:00:00",
          "2008-03-31T00:00:00",
          "2008-06-30T00:00:00",
          "2008-09-30T00:00:00",
          "2008-12-31T00:00:00",
          "2009-03-31T00:00:00",
          "2009-06-30T00:00:00",
          "2009-09-30T00:00:00",
          "2009-12-31T00:00:00",
          "2010-03-31T00:00:00",
          "2010-06-30T00:00:00",
          "2010-09-30T00:00:00",
          "2010-12-31T00:00:00",
          "2011-03-31T00:00:00",
          "2011-06-30T00:00:00",
          "2011-09-30T00:00:00",
          "2011-12-31T00:00:00",
          "2012-03-31T00:00:00",
          "2012-06-30T00:00:00",
          "2012-09-30T00:00:00",
          "2012-12-31T00:00:00",
          "2013-03-31T00:00:00",
          "2013-06-30T00:00:00",
          "2013-09-30T00:00:00",
          "2013-12-31T00:00:00",
          "2014-03-31T00:00:00",
          "2014-06-30T00:00:00",
          "2014-09-30T00:00:00",
          "2014-12-31T00:00:00",
          "2015-03-31T00:00:00",
          "2015-06-30T00:00:00",
          "2015-09-30T00:00:00",
          "2015-12-31T00:00:00",
          "2016-03-31T00:00:00",
          "2016-06-30T00:00:00",
          "2016-09-30T00:00:00",
          "2016-12-31T00:00:00",
          "2017-03-31T00:00:00",
          "2017-06-30T00:00:00",
          "2017-09-30T00:00:00",
          "2017-12-31T00:00:00",
          "2018-03-31T00:00:00",
          "2018-06-30T00:00:00",
          "2018-09-30T00:00:00",
          "2018-12-31T00:00:00",
          "2019-03-31T00:00:00",
          "2019-06-30T00:00:00",
          "2019-09-30T00:00:00",
          "2019-12-31T00:00:00",
          "2020-03-31T00:00:00",
          "2020-06-30T00:00:00",
          "2020-09-30T00:00:00",
          "2020-12-31T00:00:00",
          "2021-03-31T00:00:00",
          "2021-06-30T00:00:00",
          "2021-09-30T00:00:00",
          "2021-12-31T00:00:00",
          "2022-03-31T00:00:00",
          "2022-06-30T00:00:00",
          "2022-09-30T00:00:00",
          "2022-12-31T00:00:00",
          "2023-03-31T00:00:00",
          "2023-06-30T00:00:00",
          "2023-09-30T00:00:00",
          "2023-12-31T00:00:00",
          "2024-03-31T00:00:00",
          "2024-06-30T00:00:00",
          "2024-09-30T00:00:00"
         ],
         "xaxis": "x",
         "y": [
          0.21550179211469533,
          0.2063492063492065,
          0.07820452771272413,
          0.02983606557377083,
          -0.0007390059849079478,
          0.34871031746031766,
          0.1292418032786884,
          0.02049180327868827,
          0.03182889344262341,
          -0.04531250000000009,
          0.10594262295081958,
          0.41016393442622956,
          0.10858094262295115,
          -0.011406250000000284,
          0.09184170081967213,
          0.3783294301327089,
          0.35571428571428587,
          0.4411458333333327,
          0.21135416666666718,
          -0.7586748633879781,
          -0.7972105532786888,
          -0.0875669642857142,
          0.27805620608899284,
          0.6060682178741414,
          1.2058064516129026,
          -0.03017641129032267,
          -0.0962752016129036,
          0.6750000000000007,
          1.631996927803379,
          0.6812698412698417,
          -0.03614884205048163,
          -0.28831147540983615,
          -0.6849999999999996,
          -1.1562812500000001,
          -1.143358094262295,
          -1.6413114754098368,
          0.6993570696721312,
          0.8796875000000002,
          -0.7656019467213113,
          -1.1261168032786886,
          0.7303125000000001,
          0.42309027777777786,
          0.4233888888888888,
          1.3599623655913975,
          1.3129979518689199,
          2.6992063492063494,
          -0.5361666666666665,
          -0.6563469945355198,
          1.863942232630757,
          0.8813318452380958,
          -2.7742904713114758,
          -2.9966366120218577,
          -0.8790729166666669,
          0.7171875000000005,
          -0.732461577868853,
          -0.5966261237440502,
          0.3948689516129029,
          0.07484375000000032,
          -0.4132505122950816,
          -0.19351288056206073,
          0.48920634920634853,
          0.6703174603174595,
          0.6768333333333336,
          0.26863114754098394,
          0.5113609159510801,
          0.8107936507936504,
          1.472107728337237,
          0.4960259122157584,
          0.10564516129032242,
          0.7436815156170002,
          2.66710642727036,
          1.4134056054997366,
          -2.437019969278033,
          -2.8052380952380958,
          6.116229508196723,
          0.6213114754098363,
          1.2696018735362955,
          -0.08136160714285268,
          -4.093814036885247,
          0.6513114754098357,
          0.2800025614754098,
          -3.5531249999999996,
          -1.664254610655739,
          -0.6449492583918808,
          0.1631746031746033,
          0.6393105158730155,
          -0.017937499999998607,
          0.2624032258064499,
          0.9308269329237078,
          0.7815873015873027,
          -2.149169919333856,
          -0.7966475409836065,
          -0.5189444444444433,
          -0.031111111111111533,
          0.24571684587813625,
          -0.37116129032258005,
          -0.8410312500000003,
          -0.7346874999999997,
          0.18881552419354808,
          -0.2565230037017452,
          0.5123627374447048,
          0.19956349206349167,
          0.04330645161290292,
          -0.2454838709677416,
          0.5067409114183308,
          0.8135615079365079,
          0.49404713114754184,
          0.9972131147540981,
          0.25295850409836085,
          -0.6493675595238084,
          -0.43079877112135456,
          -0.38677419354838705,
          -0.025284178187401807,
          -0.05349206349206348,
          -0.4049334357398884,
          -1.2378602150537636,
          -0.659770833333333,
          -0.2020312500000001,
          -0.8287247983870971,
          -0.7904838709677415,
          -0.23048131080389167,
          -0.5096850198412697,
          -0.2575756048387099,
          0.034468535166578995,
          -0.07251793032786935,
          0.06906250000000025,
          -0.10069052419354829,
          0.25709677419354815,
          0.7193548387096773,
          0.5465826612903224,
          0.6643903688524597,
          0.6572527763088312,
          0.18273681515616946,
          -0.20873015873015888,
          -0.059490527393752934,
          -0.35370967741935466,
          -0.11807459677419363,
          0.057031249999999645,
          -0.01782762096774171,
          -0.03468279569892463,
          0.27079166666666676,
          0.012031249999999716,
          -0.022494959677419324,
          -0.02532522474881027,
          -0.006502732240437403,
          0.04588541666666757,
          -0.6785735887096775,
          -0.11441565309360158,
          -0.01146027742749034,
          0.36773076923076875,
          0.18814516129032288,
          0.42125960061444,
          0.5590476190476181,
          0.22047619047619094,
          -0.011751152073732563,
          -0.8879032258064514,
          -1.2917741935483873,
          -0.8334426229508201,
          -1.3331702802749867,
          -0.4123870967741936,
          0.015562500000000146,
          -0.008437500000000098,
          -0.29264112903225814,
          -0.20023796932839755,
          -0.0012776476710902873,
          -0.23896825396825405,
          -0.015483870967741842,
          0.0037096774193547954,
          0.010424987199180835,
          0.4257242063492064,
          0.5127217741935484,
          0.5231491274457958,
          0.467410348360656,
          0.5196874999999999,
          0.5137218237704917,
          0.49119249074563776,
          0.4381387608806966,
          0.3439682539682529,
          -0.0037199180747560234,
          0.016290322580644556,
          -0.013029233870967438,
          -0.15858878968253975,
          -0.5938658474142349,
          -1.3097303014278152,
          -1.0964088114754102,
          -0.1328125,
          -1.4234677419354838,
          -0.34698307773664727,
          -0.008001561280249814,
          -0.02451636904761903,
          -0.03582157258064517,
          0.018011634056054993,
          0.055124842370744026,
          -0.003408653846153853,
          0.0009173387096774177,
          -0.03387096774193549,
          -0.062309267793138765,
          -0.009268353174603172,
          -0.00882428278688524,
          0.031208355367530402,
          0.048240927419354845,
          -0.008340773809523805,
          0.014629195940671358,
          -0.015653005464480868,
          -0.02813541666666669,
          -0.03156250000000001,
          0.00001512096774193561,
          -0.01269698572184029,
          0.018165495706479323,
          -0.0012648809523809618,
          0.012409274193548384,
          0.012493389740877853,
          0.011347336065573768,
          0.009843750000000012,
          0.025025201612903225,
          0.2049312533051295,
          0.004262295081967238,
          0.025312500000000016,
          0.053867827868852414,
          0.25469063987308305,
          0.24962109575012803,
          0.20206349206349195,
          0.046218637992831546,
          0.24248810153358002,
          0.29292520491803287,
          0.18630456349206348,
          0.2938849856882648,
          0.1839344262295075,
          -0.004168618266978452,
          -0.1993303571428573,
          -0.5473286290322581,
          -0.41758064516129023,
          -1.1740143369175626,
          0.03392361111111112,
          -0.0037802419354838884,
          -0.012638815441565296,
          -0.00793190416141236,
          0.02185096153846154,
          -0.010796370967741942,
          0.04483870967741936,
          0.6411290322580645,
          1.4354536290322581,
          1.4487346311475409,
          0.8722633527234271,
          0.4653661034306191,
          0.2750793650793657,
          0.06761904761904702,
          0,
          0,
          0,
          null
         ],
         "yaxis": "y"
        }
       ],
       "layout": {
        "legend": {
         "title": {
          "text": "variable"
         },
         "tracegroupgap": 0
        },
        "margin": {
         "t": 60
        },
        "template": {
         "data": {
          "bar": [
           {
            "error_x": {
             "color": "#2a3f5f"
            },
            "error_y": {
             "color": "#2a3f5f"
            },
            "marker": {
             "line": {
              "color": "#E5ECF6",
              "width": 0.5
             },
             "pattern": {
              "fillmode": "overlay",
              "size": 10,
              "solidity": 0.2
             }
            },
            "type": "bar"
           }
          ],
          "barpolar": [
           {
            "marker": {
             "line": {
              "color": "#E5ECF6",
              "width": 0.5
             },
             "pattern": {
              "fillmode": "overlay",
              "size": 10,
              "solidity": 0.2
             }
            },
            "type": "barpolar"
           }
          ],
          "carpet": [
           {
            "aaxis": {
             "endlinecolor": "#2a3f5f",
             "gridcolor": "white",
             "linecolor": "white",
             "minorgridcolor": "white",
             "startlinecolor": "#2a3f5f"
            },
            "baxis": {
             "endlinecolor": "#2a3f5f",
             "gridcolor": "white",
             "linecolor": "white",
             "minorgridcolor": "white",
             "startlinecolor": "#2a3f5f"
            },
            "type": "carpet"
           }
          ],
          "choropleth": [
           {
            "colorbar": {
             "outlinewidth": 0,
             "ticks": ""
            },
            "type": "choropleth"
           }
          ],
          "contour": [
           {
            "colorbar": {
             "outlinewidth": 0,
             "ticks": ""
            },
            "colorscale": [
             [
              0,
              "#0d0887"
             ],
             [
              0.1111111111111111,
              "#46039f"
             ],
             [
              0.2222222222222222,
              "#7201a8"
             ],
             [
              0.3333333333333333,
              "#9c179e"
             ],
             [
              0.4444444444444444,
              "#bd3786"
             ],
             [
              0.5555555555555556,
              "#d8576b"
             ],
             [
              0.6666666666666666,
              "#ed7953"
             ],
             [
              0.7777777777777778,
              "#fb9f3a"
             ],
             [
              0.8888888888888888,
              "#fdca26"
             ],
             [
              1,
              "#f0f921"
             ]
            ],
            "type": "contour"
           }
          ],
          "contourcarpet": [
           {
            "colorbar": {
             "outlinewidth": 0,
             "ticks": ""
            },
            "type": "contourcarpet"
           }
          ],
          "heatmap": [
           {
            "colorbar": {
             "outlinewidth": 0,
             "ticks": ""
            },
            "colorscale": [
             [
              0,
              "#0d0887"
             ],
             [
              0.1111111111111111,
              "#46039f"
             ],
             [
              0.2222222222222222,
              "#7201a8"
             ],
             [
              0.3333333333333333,
              "#9c179e"
             ],
             [
              0.4444444444444444,
              "#bd3786"
             ],
             [
              0.5555555555555556,
              "#d8576b"
             ],
             [
              0.6666666666666666,
              "#ed7953"
             ],
             [
              0.7777777777777778,
              "#fb9f3a"
             ],
             [
              0.8888888888888888,
              "#fdca26"
             ],
             [
              1,
              "#f0f921"
             ]
            ],
            "type": "heatmap"
           }
          ],
          "heatmapgl": [
           {
            "colorbar": {
             "outlinewidth": 0,
             "ticks": ""
            },
            "colorscale": [
             [
              0,
              "#0d0887"
             ],
             [
              0.1111111111111111,
              "#46039f"
             ],
             [
              0.2222222222222222,
              "#7201a8"
             ],
             [
              0.3333333333333333,
              "#9c179e"
             ],
             [
              0.4444444444444444,
              "#bd3786"
             ],
             [
              0.5555555555555556,
              "#d8576b"
             ],
             [
              0.6666666666666666,
              "#ed7953"
             ],
             [
              0.7777777777777778,
              "#fb9f3a"
             ],
             [
              0.8888888888888888,
              "#fdca26"
             ],
             [
              1,
              "#f0f921"
             ]
            ],
            "type": "heatmapgl"
           }
          ],
          "histogram": [
           {
            "marker": {
             "pattern": {
              "fillmode": "overlay",
              "size": 10,
              "solidity": 0.2
             }
            },
            "type": "histogram"
           }
          ],
          "histogram2d": [
           {
            "colorbar": {
             "outlinewidth": 0,
             "ticks": ""
            },
            "colorscale": [
             [
              0,
              "#0d0887"
             ],
             [
              0.1111111111111111,
              "#46039f"
             ],
             [
              0.2222222222222222,
              "#7201a8"
             ],
             [
              0.3333333333333333,
              "#9c179e"
             ],
             [
              0.4444444444444444,
              "#bd3786"
             ],
             [
              0.5555555555555556,
              "#d8576b"
             ],
             [
              0.6666666666666666,
              "#ed7953"
             ],
             [
              0.7777777777777778,
              "#fb9f3a"
             ],
             [
              0.8888888888888888,
              "#fdca26"
             ],
             [
              1,
              "#f0f921"
             ]
            ],
            "type": "histogram2d"
           }
          ],
          "histogram2dcontour": [
           {
            "colorbar": {
             "outlinewidth": 0,
             "ticks": ""
            },
            "colorscale": [
             [
              0,
              "#0d0887"
             ],
             [
              0.1111111111111111,
              "#46039f"
             ],
             [
              0.2222222222222222,
              "#7201a8"
             ],
             [
              0.3333333333333333,
              "#9c179e"
             ],
             [
              0.4444444444444444,
              "#bd3786"
             ],
             [
              0.5555555555555556,
              "#d8576b"
             ],
             [
              0.6666666666666666,
              "#ed7953"
             ],
             [
              0.7777777777777778,
              "#fb9f3a"
             ],
             [
              0.8888888888888888,
              "#fdca26"
             ],
             [
              1,
              "#f0f921"
             ]
            ],
            "type": "histogram2dcontour"
           }
          ],
          "mesh3d": [
           {
            "colorbar": {
             "outlinewidth": 0,
             "ticks": ""
            },
            "type": "mesh3d"
           }
          ],
          "parcoords": [
           {
            "line": {
             "colorbar": {
              "outlinewidth": 0,
              "ticks": ""
             }
            },
            "type": "parcoords"
           }
          ],
          "pie": [
           {
            "automargin": true,
            "type": "pie"
           }
          ],
          "scatter": [
           {
            "fillpattern": {
             "fillmode": "overlay",
             "size": 10,
             "solidity": 0.2
            },
            "type": "scatter"
           }
          ],
          "scatter3d": [
           {
            "line": {
             "colorbar": {
              "outlinewidth": 0,
              "ticks": ""
             }
            },
            "marker": {
             "colorbar": {
              "outlinewidth": 0,
              "ticks": ""
             }
            },
            "type": "scatter3d"
           }
          ],
          "scattercarpet": [
           {
            "marker": {
             "colorbar": {
              "outlinewidth": 0,
              "ticks": ""
             }
            },
            "type": "scattercarpet"
           }
          ],
          "scattergeo": [
           {
            "marker": {
             "colorbar": {
              "outlinewidth": 0,
              "ticks": ""
             }
            },
            "type": "scattergeo"
           }
          ],
          "scattergl": [
           {
            "marker": {
             "colorbar": {
              "outlinewidth": 0,
              "ticks": ""
             }
            },
            "type": "scattergl"
           }
          ],
          "scattermapbox": [
           {
            "marker": {
             "colorbar": {
              "outlinewidth": 0,
              "ticks": ""
             }
            },
            "type": "scattermapbox"
           }
          ],
          "scatterpolar": [
           {
            "marker": {
             "colorbar": {
              "outlinewidth": 0,
              "ticks": ""
             }
            },
            "type": "scatterpolar"
           }
          ],
          "scatterpolargl": [
           {
            "marker": {
             "colorbar": {
              "outlinewidth": 0,
              "ticks": ""
             }
            },
            "type": "scatterpolargl"
           }
          ],
          "scatterternary": [
           {
            "marker": {
             "colorbar": {
              "outlinewidth": 0,
              "ticks": ""
             }
            },
            "type": "scatterternary"
           }
          ],
          "surface": [
           {
            "colorbar": {
             "outlinewidth": 0,
             "ticks": ""
            },
            "colorscale": [
             [
              0,
              "#0d0887"
             ],
             [
              0.1111111111111111,
              "#46039f"
             ],
             [
              0.2222222222222222,
              "#7201a8"
             ],
             [
              0.3333333333333333,
              "#9c179e"
             ],
             [
              0.4444444444444444,
              "#bd3786"
             ],
             [
              0.5555555555555556,
              "#d8576b"
             ],
             [
              0.6666666666666666,
              "#ed7953"
             ],
             [
              0.7777777777777778,
              "#fb9f3a"
             ],
             [
              0.8888888888888888,
              "#fdca26"
             ],
             [
              1,
              "#f0f921"
             ]
            ],
            "type": "surface"
           }
          ],
          "table": [
           {
            "cells": {
             "fill": {
              "color": "#EBF0F8"
             },
             "line": {
              "color": "white"
             }
            },
            "header": {
             "fill": {
              "color": "#C8D4E3"
             },
             "line": {
              "color": "white"
             }
            },
            "type": "table"
           }
          ]
         },
         "layout": {
          "annotationdefaults": {
           "arrowcolor": "#2a3f5f",
           "arrowhead": 0,
           "arrowwidth": 1
          },
          "autotypenumbers": "strict",
          "coloraxis": {
           "colorbar": {
            "outlinewidth": 0,
            "ticks": ""
           }
          },
          "colorscale": {
           "diverging": [
            [
             0,
             "#8e0152"
            ],
            [
             0.1,
             "#c51b7d"
            ],
            [
             0.2,
             "#de77ae"
            ],
            [
             0.3,
             "#f1b6da"
            ],
            [
             0.4,
             "#fde0ef"
            ],
            [
             0.5,
             "#f7f7f7"
            ],
            [
             0.6,
             "#e6f5d0"
            ],
            [
             0.7,
             "#b8e186"
            ],
            [
             0.8,
             "#7fbc41"
            ],
            [
             0.9,
             "#4d9221"
            ],
            [
             1,
             "#276419"
            ]
           ],
           "sequential": [
            [
             0,
             "#0d0887"
            ],
            [
             0.1111111111111111,
             "#46039f"
            ],
            [
             0.2222222222222222,
             "#7201a8"
            ],
            [
             0.3333333333333333,
             "#9c179e"
            ],
            [
             0.4444444444444444,
             "#bd3786"
            ],
            [
             0.5555555555555556,
             "#d8576b"
            ],
            [
             0.6666666666666666,
             "#ed7953"
            ],
            [
             0.7777777777777778,
             "#fb9f3a"
            ],
            [
             0.8888888888888888,
             "#fdca26"
            ],
            [
             1,
             "#f0f921"
            ]
           ],
           "sequentialminus": [
            [
             0,
             "#0d0887"
            ],
            [
             0.1111111111111111,
             "#46039f"
            ],
            [
             0.2222222222222222,
             "#7201a8"
            ],
            [
             0.3333333333333333,
             "#9c179e"
            ],
            [
             0.4444444444444444,
             "#bd3786"
            ],
            [
             0.5555555555555556,
             "#d8576b"
            ],
            [
             0.6666666666666666,
             "#ed7953"
            ],
            [
             0.7777777777777778,
             "#fb9f3a"
            ],
            [
             0.8888888888888888,
             "#fdca26"
            ],
            [
             1,
             "#f0f921"
            ]
           ]
          },
          "colorway": [
           "#636efa",
           "#EF553B",
           "#00cc96",
           "#ab63fa",
           "#FFA15A",
           "#19d3f3",
           "#FF6692",
           "#B6E880",
           "#FF97FF",
           "#FECB52"
          ],
          "font": {
           "color": "#2a3f5f"
          },
          "geo": {
           "bgcolor": "white",
           "lakecolor": "white",
           "landcolor": "#E5ECF6",
           "showlakes": true,
           "showland": true,
           "subunitcolor": "white"
          },
          "hoverlabel": {
           "align": "left"
          },
          "hovermode": "closest",
          "mapbox": {
           "style": "light"
          },
          "paper_bgcolor": "white",
          "plot_bgcolor": "#E5ECF6",
          "polar": {
           "angularaxis": {
            "gridcolor": "white",
            "linecolor": "white",
            "ticks": ""
           },
           "bgcolor": "#E5ECF6",
           "radialaxis": {
            "gridcolor": "white",
            "linecolor": "white",
            "ticks": ""
           }
          },
          "scene": {
           "xaxis": {
            "backgroundcolor": "#E5ECF6",
            "gridcolor": "white",
            "gridwidth": 2,
            "linecolor": "white",
            "showbackground": true,
            "ticks": "",
            "zerolinecolor": "white"
           },
           "yaxis": {
            "backgroundcolor": "#E5ECF6",
            "gridcolor": "white",
            "gridwidth": 2,
            "linecolor": "white",
            "showbackground": true,
            "ticks": "",
            "zerolinecolor": "white"
           },
           "zaxis": {
            "backgroundcolor": "#E5ECF6",
            "gridcolor": "white",
            "gridwidth": 2,
            "linecolor": "white",
            "showbackground": true,
            "ticks": "",
            "zerolinecolor": "white"
           }
          },
          "shapedefaults": {
           "line": {
            "color": "#2a3f5f"
           }
          },
          "ternary": {
           "aaxis": {
            "gridcolor": "white",
            "linecolor": "white",
            "ticks": ""
           },
           "baxis": {
            "gridcolor": "white",
            "linecolor": "white",
            "ticks": ""
           },
           "bgcolor": "#E5ECF6",
           "caxis": {
            "gridcolor": "white",
            "linecolor": "white",
            "ticks": ""
           }
          },
          "title": {
           "x": 0.05
          },
          "xaxis": {
           "automargin": true,
           "gridcolor": "white",
           "linecolor": "white",
           "ticks": "",
           "title": {
            "standoff": 15
           },
           "zerolinecolor": "white",
           "zerolinewidth": 2
          },
          "yaxis": {
           "automargin": true,
           "gridcolor": "white",
           "linecolor": "white",
           "ticks": "",
           "title": {
            "standoff": 15
           },
           "zerolinecolor": "white",
           "zerolinewidth": 2
          }
         }
        },
        "xaxis": {
         "anchor": "y",
         "domain": [
          0,
          1
         ],
         "title": {
          "text": "DATE"
         }
        },
        "yaxis": {
         "anchor": "x",
         "domain": [
          0,
          1
         ],
         "title": {
          "text": "value"
         }
        }
       }
      }
     },
     "metadata": {},
     "output_type": "display_data"
    }
   ],
   "source": [
    "px.line(df, x=df.index, y=[\"FFED_diff\", ]).show()"
   ]
  },
  {
   "cell_type": "code",
   "execution_count": null,
   "metadata": {},
   "outputs": [],
   "source": []
  }
 ],
 "metadata": {
  "kernelspec": {
   "display_name": "venv",
   "language": "python",
   "name": "python3"
  },
  "language_info": {
   "codemirror_mode": {
    "name": "ipython",
    "version": 3
   },
   "file_extension": ".py",
   "mimetype": "text/x-python",
   "name": "python",
   "nbconvert_exporter": "python",
   "pygments_lexer": "ipython3",
   "version": "3.11.4"
  }
 },
 "nbformat": 4,
 "nbformat_minor": 2
}
