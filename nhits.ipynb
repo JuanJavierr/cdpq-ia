{
 "cells": [
  {
   "cell_type": "code",
   "execution_count": 1,
   "id": "01b555d5-e9ea-4cd1-8b05-34587511855e",
   "metadata": {},
   "outputs": [
    {
     "name": "stderr",
     "output_type": "stream",
     "text": [
      "/opt/conda/lib/python3.11/site-packages/statsforecast/utils.py:231: FutureWarning: 'M' is deprecated and will be removed in a future version, please use 'ME' instead.\n",
      "  \"ds\": pd.date_range(start=\"1949-01-01\", periods=len(AirPassengers), freq=\"M\"),\n"
     ]
    }
   ],
   "source": [
    "from darts.models import NHiTSModel\n",
    "from darts import TimeSeries\n",
    "import utils"
   ]
  },
  {
   "cell_type": "code",
   "execution_count": 3,
   "id": "bf6e6478-89e5-45ad-a4cc-9f339bfbeb97",
   "metadata": {
    "editable": true,
    "slideshow": {
     "slide_type": ""
    },
    "tags": []
   },
   "outputs": [],
   "source": [
    "df = utils.load_data()"
   ]
  },
  {
   "cell_type": "code",
   "execution_count": 4,
   "id": "6fadc0fe-71be-4c2a-a0ec-bfbed5a4d8c5",
   "metadata": {
    "editable": true,
    "slideshow": {
     "slide_type": ""
    },
    "tags": []
   },
   "outputs": [
    {
     "data": {
      "text/html": [
       "<div>\n",
       "<style scoped>\n",
       "    .dataframe tbody tr th:only-of-type {\n",
       "        vertical-align: middle;\n",
       "    }\n",
       "\n",
       "    .dataframe tbody tr th {\n",
       "        vertical-align: top;\n",
       "    }\n",
       "\n",
       "    .dataframe thead th {\n",
       "        text-align: right;\n",
       "    }\n",
       "</style>\n",
       "<table border=\"1\" class=\"dataframe\">\n",
       "  <thead>\n",
       "    <tr style=\"text-align: right;\">\n",
       "      <th></th>\n",
       "      <th>FFED</th>\n",
       "      <th>US_PERSONAL_SPENDING_PCE</th>\n",
       "      <th>US_CPI</th>\n",
       "      <th>US_TB_YIELD_10YRS</th>\n",
       "      <th>US_UNEMPLOYMENT_RATE</th>\n",
       "      <th>SNP_500</th>\n",
       "    </tr>\n",
       "    <tr>\n",
       "      <th>DATE</th>\n",
       "      <th></th>\n",
       "      <th></th>\n",
       "      <th></th>\n",
       "      <th></th>\n",
       "      <th></th>\n",
       "      <th></th>\n",
       "    </tr>\n",
       "  </thead>\n",
       "  <tbody>\n",
       "    <tr>\n",
       "      <th>1962-01-31</th>\n",
       "      <td>2.022727</td>\n",
       "      <td>353.200012</td>\n",
       "      <td>NaN</td>\n",
       "      <td>4.083182</td>\n",
       "      <td>5.800000</td>\n",
       "      <td>69.067726</td>\n",
       "    </tr>\n",
       "    <tr>\n",
       "      <th>1962-02-28</th>\n",
       "      <td>2.388889</td>\n",
       "      <td>353.200012</td>\n",
       "      <td>30.040001</td>\n",
       "      <td>4.039444</td>\n",
       "      <td>5.800000</td>\n",
       "      <td>70.208336</td>\n",
       "    </tr>\n",
       "    <tr>\n",
       "      <th>1962-03-31</th>\n",
       "      <td>2.852273</td>\n",
       "      <td>354.045441</td>\n",
       "      <td>30.062273</td>\n",
       "      <td>3.930454</td>\n",
       "      <td>5.545455</td>\n",
       "      <td>70.291817</td>\n",
       "    </tr>\n",
       "    <tr>\n",
       "      <th>1962-04-30</th>\n",
       "      <td>2.800000</td>\n",
       "      <td>357.399994</td>\n",
       "      <td>30.139999</td>\n",
       "      <td>3.843000</td>\n",
       "      <td>5.600000</td>\n",
       "      <td>68.047997</td>\n",
       "    </tr>\n",
       "    <tr>\n",
       "      <th>1962-05-31</th>\n",
       "      <td>2.431818</td>\n",
       "      <td>359.063629</td>\n",
       "      <td>30.186363</td>\n",
       "      <td>3.873636</td>\n",
       "      <td>5.595455</td>\n",
       "      <td>62.994545</td>\n",
       "    </tr>\n",
       "    <tr>\n",
       "      <th>...</th>\n",
       "      <td>...</td>\n",
       "      <td>...</td>\n",
       "      <td>...</td>\n",
       "      <td>...</td>\n",
       "      <td>...</td>\n",
       "      <td>...</td>\n",
       "    </tr>\n",
       "    <tr>\n",
       "      <th>2024-04-30</th>\n",
       "      <td>5.330000</td>\n",
       "      <td>19265.472656</td>\n",
       "      <td>311.588531</td>\n",
       "      <td>4.539091</td>\n",
       "      <td>3.804545</td>\n",
       "      <td>5112.492676</td>\n",
       "    </tr>\n",
       "    <tr>\n",
       "      <th>2024-05-31</th>\n",
       "      <td>5.330000</td>\n",
       "      <td>19306.503906</td>\n",
       "      <td>312.718506</td>\n",
       "      <td>4.482273</td>\n",
       "      <td>3.904546</td>\n",
       "      <td>5235.225586</td>\n",
       "    </tr>\n",
       "    <tr>\n",
       "      <th>2024-06-30</th>\n",
       "      <td>5.330000</td>\n",
       "      <td>19386.400391</td>\n",
       "      <td>313.214569</td>\n",
       "      <td>4.305263</td>\n",
       "      <td>4.000000</td>\n",
       "      <td>5415.140625</td>\n",
       "    </tr>\n",
       "    <tr>\n",
       "      <th>2024-07-31</th>\n",
       "      <td>5.330000</td>\n",
       "      <td>19441.257812</td>\n",
       "      <td>313.153015</td>\n",
       "      <td>4.248636</td>\n",
       "      <td>4.104546</td>\n",
       "      <td>5538.004395</td>\n",
       "    </tr>\n",
       "    <tr>\n",
       "      <th>2024-08-31</th>\n",
       "      <td>5.330000</td>\n",
       "      <td>NaN</td>\n",
       "      <td>313.267242</td>\n",
       "      <td>3.869000</td>\n",
       "      <td>4.300000</td>\n",
       "      <td>5464.018066</td>\n",
       "    </tr>\n",
       "  </tbody>\n",
       "</table>\n",
       "<p>752 rows × 6 columns</p>\n",
       "</div>"
      ],
      "text/plain": [
       "                FFED  US_PERSONAL_SPENDING_PCE      US_CPI  US_TB_YIELD_10YRS  \\\n",
       "DATE                                                                            \n",
       "1962-01-31  2.022727                353.200012         NaN           4.083182   \n",
       "1962-02-28  2.388889                353.200012   30.040001           4.039444   \n",
       "1962-03-31  2.852273                354.045441   30.062273           3.930454   \n",
       "1962-04-30  2.800000                357.399994   30.139999           3.843000   \n",
       "1962-05-31  2.431818                359.063629   30.186363           3.873636   \n",
       "...              ...                       ...         ...                ...   \n",
       "2024-04-30  5.330000              19265.472656  311.588531           4.539091   \n",
       "2024-05-31  5.330000              19306.503906  312.718506           4.482273   \n",
       "2024-06-30  5.330000              19386.400391  313.214569           4.305263   \n",
       "2024-07-31  5.330000              19441.257812  313.153015           4.248636   \n",
       "2024-08-31  5.330000                       NaN  313.267242           3.869000   \n",
       "\n",
       "            US_UNEMPLOYMENT_RATE      SNP_500  \n",
       "DATE                                           \n",
       "1962-01-31              5.800000    69.067726  \n",
       "1962-02-28              5.800000    70.208336  \n",
       "1962-03-31              5.545455    70.291817  \n",
       "1962-04-30              5.600000    68.047997  \n",
       "1962-05-31              5.595455    62.994545  \n",
       "...                          ...          ...  \n",
       "2024-04-30              3.804545  5112.492676  \n",
       "2024-05-31              3.904546  5235.225586  \n",
       "2024-06-30              4.000000  5415.140625  \n",
       "2024-07-31              4.104546  5538.004395  \n",
       "2024-08-31              4.300000  5464.018066  \n",
       "\n",
       "[752 rows x 6 columns]"
      ]
     },
     "execution_count": 4,
     "metadata": {},
     "output_type": "execute_result"
    }
   ],
   "source": [
    "df"
   ]
  },
  {
   "cell_type": "code",
   "execution_count": null,
   "id": "173099fc-7959-409c-9aff-10dfcb318cb3",
   "metadata": {
    "editable": true,
    "slideshow": {
     "slide_type": ""
    },
    "tags": []
   },
   "outputs": [],
   "source": []
  }
 ],
 "metadata": {
  "kernelspec": {
   "display_name": "Python 3 (ipykernel)",
   "language": "python",
   "name": "python3"
  },
  "language_info": {
   "codemirror_mode": {
    "name": "ipython",
    "version": 3
   },
   "file_extension": ".py",
   "mimetype": "text/x-python",
   "name": "python",
   "nbconvert_exporter": "python",
   "pygments_lexer": "ipython3",
   "version": "3.11.9"
  }
 },
 "nbformat": 4,
 "nbformat_minor": 5
}
