{
 "cells": [
  {
   "cell_type": "code",
   "execution_count": null,
   "id": "1accce9b-5458-4beb-9f68-aa59807e0472",
   "metadata": {},
   "outputs": [
    {
     "name": "stdout",
     "output_type": "stream",
     "text": [
      "papermill tft.ipynb ran_tft.ipynb -p input_chunk_lengths 6 -p hidden_sizes 16 -p n_epochs 20 -p dropout 0.1 -p lstm_layers 1 -p learning_rate 0.002\n"
     ]
    },
    {
     "name": "stderr",
     "output_type": "stream",
     "text": [
      "Input Notebook:  tft.ipynb\n",
      "Output Notebook: ran_tft.ipynb\n",
      "Passed unknown parameter: input_chunk_lengths\n",
      "Passed unknown parameter: hidden_sizes\n",
      "Executing:   0%|          | 0/25 [00:00<?, ?cell/s]Executing notebook with kernel: python3\n",
      "Executing: 100%|██████████| 25/25 [02:07<00:00,  5.10s/cell]\n"
     ]
    },
    {
     "name": "stdout",
     "output_type": "stream",
     "text": [
      "Success\n",
      "papermill tft.ipynb ran_tft.ipynb -p input_chunk_lengths 6 -p hidden_sizes 16 -p n_epochs 20 -p dropout 0.1 -p lstm_layers 1 -p learning_rate 0.0005\n"
     ]
    },
    {
     "name": "stderr",
     "output_type": "stream",
     "text": [
      "Input Notebook:  tft.ipynb\n",
      "Output Notebook: ran_tft.ipynb\n",
      "Passed unknown parameter: input_chunk_lengths\n",
      "Passed unknown parameter: hidden_sizes\n",
      "Executing:   0%|          | 0/25 [00:00<?, ?cell/s]Executing notebook with kernel: python3\n",
      "Executing: 100%|██████████| 25/25 [02:10<00:00,  5.22s/cell]\n"
     ]
    },
    {
     "name": "stdout",
     "output_type": "stream",
     "text": [
      "Success\n",
      "papermill tft.ipynb ran_tft.ipynb -p input_chunk_lengths 6 -p hidden_sizes 16 -p n_epochs 20 -p dropout 0.1 -p lstm_layers 2 -p learning_rate 0.002\n"
     ]
    },
    {
     "name": "stderr",
     "output_type": "stream",
     "text": [
      "Input Notebook:  tft.ipynb\n",
      "Output Notebook: ran_tft.ipynb\n",
      "Passed unknown parameter: input_chunk_lengths\n",
      "Passed unknown parameter: hidden_sizes\n",
      "Executing:   0%|          | 0/25 [00:00<?, ?cell/s]Executing notebook with kernel: python3\n",
      "Executing: 100%|██████████| 25/25 [02:13<00:00,  5.34s/cell]\n"
     ]
    },
    {
     "name": "stdout",
     "output_type": "stream",
     "text": [
      "Success\n",
      "papermill tft.ipynb ran_tft.ipynb -p input_chunk_lengths 6 -p hidden_sizes 16 -p n_epochs 20 -p dropout 0.1 -p lstm_layers 2 -p learning_rate 0.0005\n"
     ]
    },
    {
     "name": "stderr",
     "output_type": "stream",
     "text": [
      "Input Notebook:  tft.ipynb\n",
      "Output Notebook: ran_tft.ipynb\n",
      "Passed unknown parameter: input_chunk_lengths\n",
      "Passed unknown parameter: hidden_sizes\n",
      "Executing:   0%|          | 0/25 [00:00<?, ?cell/s]Executing notebook with kernel: python3\n",
      "Executing: 100%|██████████| 25/25 [02:11<00:00,  5.26s/cell]\n"
     ]
    },
    {
     "name": "stdout",
     "output_type": "stream",
     "text": [
      "Success\n",
      "papermill tft.ipynb ran_tft.ipynb -p input_chunk_lengths 6 -p hidden_sizes 16 -p n_epochs 20 -p dropout 0.3 -p lstm_layers 1 -p learning_rate 0.002\n"
     ]
    },
    {
     "name": "stderr",
     "output_type": "stream",
     "text": [
      "Input Notebook:  tft.ipynb\n",
      "Output Notebook: ran_tft.ipynb\n",
      "Passed unknown parameter: input_chunk_lengths\n",
      "Passed unknown parameter: hidden_sizes\n",
      "Executing:   0%|          | 0/25 [00:00<?, ?cell/s]Executing notebook with kernel: python3\n",
      "Executing: 100%|██████████| 25/25 [02:09<00:00,  5.18s/cell]\n"
     ]
    },
    {
     "name": "stdout",
     "output_type": "stream",
     "text": [
      "Success\n",
      "papermill tft.ipynb ran_tft.ipynb -p input_chunk_lengths 6 -p hidden_sizes 16 -p n_epochs 20 -p dropout 0.3 -p lstm_layers 1 -p learning_rate 0.0005\n"
     ]
    },
    {
     "name": "stderr",
     "output_type": "stream",
     "text": [
      "Input Notebook:  tft.ipynb\n",
      "Output Notebook: ran_tft.ipynb\n",
      "Passed unknown parameter: input_chunk_lengths\n",
      "Passed unknown parameter: hidden_sizes\n",
      "Executing:   0%|          | 0/25 [00:00<?, ?cell/s]Executing notebook with kernel: python3\n",
      "Executing:  52%|█████▏    | 13/25 [00:46<01:15,  6.30s/cell]"
     ]
    }
   ],
   "source": [
    "from itertools import product\n",
    "import subprocess\n",
    "\n",
    "\n",
    "search_space = dict(\n",
    "input_chunk_lengths = [6, 12, 18],\n",
    "hidden_sizes = [16, 32],\n",
    "n_epochs = [20, 30, 50],\n",
    "dropouts = [0.1, 0.3],\n",
    "lstm_layers = [1, 2],\n",
    "learning_rates = [2e-3, 5e-4]\n",
    ")\n",
    "\n",
    "for hp_vals in product(*search_space.values()):\n",
    "    command = \"papermill tft.ipynb ran_tft.ipynb\"\n",
    "    command += f\" -p input_chunk_lengths {hp_vals[0]}\"\n",
    "    command += f\" -p hidden_sizes {hp_vals[1]}\"\n",
    "    command += f\" -p n_epochs {hp_vals[2]}\"\n",
    "    command += f\" -p dropout {hp_vals[3]}\"\n",
    "    command += f\" -p lstm_layers {hp_vals[4]}\"\n",
    "    command += f\" -p learning_rate {hp_vals[5]}\"\n",
    "\n",
    "    print(command)\n",
    "    subprocess.run(command.split())\n",
    "    print(\"Success\")"
   ]
  },
  {
   "cell_type": "code",
   "execution_count": 5,
   "id": "eec8a414-bb6c-47b0-bd43-72d646a79524",
   "metadata": {},
   "outputs": [
    {
     "ename": "SyntaxError",
     "evalue": "invalid syntax (1918152576.py, line 1)",
     "output_type": "error",
     "traceback": [
      "\u001b[0;36m  Cell \u001b[0;32mIn[5], line 1\u001b[0;36m\u001b[0m\n\u001b[0;31m    **hparams\u001b[0m\n\u001b[0m    ^\u001b[0m\n\u001b[0;31mSyntaxError\u001b[0m\u001b[0;31m:\u001b[0m invalid syntax\n"
     ]
    }
   ],
   "source": []
  },
  {
   "cell_type": "code",
   "execution_count": null,
   "id": "4f2dd4f9-7995-479a-a448-78943bf28d2c",
   "metadata": {},
   "outputs": [],
   "source": []
  }
 ],
 "metadata": {
  "kernelspec": {
   "display_name": "Python 3 (ipykernel)",
   "language": "python",
   "name": "python3"
  },
  "language_info": {
   "codemirror_mode": {
    "name": "ipython",
    "version": 3
   },
   "file_extension": ".py",
   "mimetype": "text/x-python",
   "name": "python",
   "nbconvert_exporter": "python",
   "pygments_lexer": "ipython3",
   "version": "3.11.9"
  }
 },
 "nbformat": 4,
 "nbformat_minor": 5
}
